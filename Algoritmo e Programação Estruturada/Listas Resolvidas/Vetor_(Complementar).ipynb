{
  "nbformat": 4,
  "nbformat_minor": 0,
  "metadata": {
    "colab": {
      "provenance": [],
      "collapsed_sections": [],
      "include_colab_link": true
    },
    "kernelspec": {
      "name": "python3",
      "display_name": "Python 3"
    }
  },
  "cells": [
    {
      "cell_type": "markdown",
      "metadata": {
        "id": "view-in-github",
        "colab_type": "text"
      },
      "source": [
        "<a href=\"https://colab.research.google.com/github/Filipe-Rds/Faculdade/blob/main/Algoritmo%20e%20Programa%C3%A7%C3%A3o%20Estruturada/Listas%20Resolvidas/Vetor_(Complementar).ipynb\" target=\"_parent\"><img src=\"https://colab.research.google.com/assets/colab-badge.svg\" alt=\"Open In Colab\"/></a>"
      ]
    },
    {
      "cell_type": "markdown",
      "metadata": {
        "id": "PO8efkjRUtjo"
      },
      "source": [
        "**IFPB - CAMPUS JOÃO PESSOA    \n",
        "CURSO: SISTEMAS PARA INTERNET     \n",
        "DISCIPLINA: ALGORITMOS E PROGRAMAÇÃO ESTRUTURADA     \n",
        "PROFESSORES: CANDIDO EGYPTO / EDEMBERG ROCHA**"
      ]
    },
    {
      "cell_type": "markdown",
      "metadata": {
        "id": "VVFFZyE0cJBJ"
      },
      "source": [
        "# LISTA DE EXERCÍCIOS (RESOLVIDA) - VETOR (COMPLEMENTAR)"
      ]
    },
    {
      "cell_type": "markdown",
      "metadata": {
        "id": "OwFlJqPwqoyc"
      },
      "source": [
        "##Questão 1"
      ]
    },
    {
      "cell_type": "markdown",
      "metadata": {
        "id": "aqgbAAAHhRzF"
      },
      "source": [
        "Escreva um programa que leia um vetor contendo N elementos inteiros (N será lido), calcule e exiba:\n",
        "*\tA quantidade de elementos pares;\n",
        "*\tA quantidade de elementos ímpares;\n",
        "*\tA soma de todos os elementos;\n",
        "*\tA média dos elementos do vetor.\n"
      ]
    },
    {
      "cell_type": "code",
      "metadata": {
        "colab": {
          "base_uri": "https://localhost:8080/"
        },
        "id": "3av94uIYES_v",
        "outputId": "8866cf72-ed24-4f1a-fb2f-2b95abe2451d"
      },
      "source": [
        "#inicialização das variáveis\n",
        "cont_par = 0\n",
        "cont_imp = 0\n",
        "soma = 0\n",
        "\n",
        "#leitura do valor de N\n",
        "n = int(input('Digite o valor de N: '))\n",
        "\n",
        "#criação do vetor com valores nulos\n",
        "vetor = [None]*n\n",
        "\n",
        "#leitura do vetor\n",
        "print('\\nDigite os elementos do vetor:')\n",
        "for i in range(n):\n",
        "    vetor[i] = int(input())\n",
        "\n",
        "#cálculo da quantidade de pares e ímpares\n",
        "for e in vetor:\n",
        "    if e % 2 == 0:\n",
        "        cont_par += 1\n",
        "    else:\n",
        "        cont_imp += 1\n",
        "\n",
        "#cálculo da soma dos elementos\n",
        "for e in vetor:\n",
        "    soma += e\n",
        "\n",
        "#cálculo da média\n",
        "media = soma / n\n",
        "\n",
        "#exibição dos resultados\n",
        "print(f'\\nQuantidade de elementos pares: {cont_par}')\n",
        "print(f'Quantidade de elementos ímpares: {cont_imp}')\n",
        "print(f'Soma de todos os elementos: {soma}')\n",
        "print(f'Média dos elementos: {media:.0f}')\n"
      ],
      "execution_count": null,
      "outputs": [
        {
          "output_type": "stream",
          "text": [
            "Digite o valor de N: 5\n",
            "\n",
            "Digite os elementos do vetor:\n",
            "1\n",
            "2\n",
            "3\n",
            "4\n",
            "5\n",
            "\n",
            "Quantidade de elementos pares: 2\n",
            "Quantidade de elementos ímpares: 3\n",
            "Soma de todos os elementos: 15\n",
            "Média dos elementos: 3\n"
          ],
          "name": "stdout"
        }
      ]
    },
    {
      "cell_type": "markdown",
      "metadata": {
        "id": "7hQN71lJWmAT"
      },
      "source": [
        "##Questão 2"
      ]
    },
    {
      "cell_type": "markdown",
      "metadata": {
        "id": "WhDsMQxDWzUK"
      },
      "source": [
        "Dados dois vetores A e B contendo N elementos inteiros cada (N, A e B serão lidos), gerar e exibir um vetor C (de tamanho N*2) cujos elementos sejam a intercalação dos elementos de A e B.      \n",
        "Ex: N = 3, A = [18, 12, 20], B = [15, 10, 7], C = [18, 15, 12, 10, 20, 7] \n"
      ]
    },
    {
      "cell_type": "code",
      "source": [
        "import random\n",
        "\n",
        "#leitura do tamanho do vetor\n",
        "n = int(input('Tamanho do vetor: '))\n",
        "\n",
        "#inicialização dos vetores A, B e C\n",
        "a = [None]*n\n",
        "b = [None]*n\n",
        "c = [None]*n*2\n",
        "\n",
        "#geração do vetor A\n",
        "for i in range(n):\n",
        "    a[i] = random.randint(1,100)\n",
        "\n",
        "#geração do vetor B    \n",
        "for i in range(n):\n",
        "    b[i] = random.randint(1,30)\n",
        "\n",
        "#geração do vetor C\n",
        "for i in range(n):\n",
        "    c[i*2] = a[i]\n",
        "    c[i*2+1] = b[i]\n",
        "\n",
        "#impressão dos vetores A, B e C\n",
        "print('A =',a)\n",
        "print('B =',b)\n",
        "print('C =',c)\n"
      ],
      "metadata": {
        "colab": {
          "base_uri": "https://localhost:8080/"
        },
        "id": "i5BQigQPAt5g",
        "outputId": "1c95fed3-db61-45be-f37d-93f69198b118"
      },
      "execution_count": null,
      "outputs": [
        {
          "output_type": "stream",
          "name": "stdout",
          "text": [
            "Tamanho do vetor: 3\n",
            "A = [99, 3, 95]\n",
            "B = [6, 26, 19]\n",
            "C = [99, 6, 3, 26, 95, 19]\n"
          ]
        }
      ]
    },
    {
      "cell_type": "code",
      "source": [
        "#outra versão\n",
        "\n",
        "import random\n",
        "\n",
        "#leitura do tamanho do vetor\n",
        "n = int(input('Tamanho do vetor: '))\n",
        "\n",
        "#inicialização dos vetores A, B e C\n",
        "a = [None]*n\n",
        "b = [None]*n\n",
        "c = [None]*n*2\n",
        "\n",
        "#geração do vetor A\n",
        "for i in range(n):\n",
        "    a[i] = random.randint(1,100)\n",
        "\n",
        "#geração do vetor B    \n",
        "for i in range(n):\n",
        "    b[i] = random.randint(1,30)\n",
        "\n",
        "#geração do vetor C\n",
        "for i in range(n*2):\n",
        "    if i % 2 == 0:\n",
        "        c[i] = a[i//2]\n",
        "    else:\n",
        "        c[i] = b[i//2]\n",
        "\n",
        "#impressão dos vetores A, B e C\n",
        "print('A =',a)\n",
        "print('B =',b)\n",
        "print('C =',c)\n"
      ],
      "metadata": {
        "colab": {
          "base_uri": "https://localhost:8080/"
        },
        "outputId": "c1309a9f-1dbc-4caf-cdf1-f9867f6679be",
        "id": "aEyiMnVnJT_7"
      },
      "execution_count": null,
      "outputs": [
        {
          "output_type": "stream",
          "name": "stdout",
          "text": [
            "Tamanho do vetor: 3\n",
            "A = [24, 41, 47]\n",
            "B = [4, 12, 19]\n",
            "C = [24, 4, 41, 12, 47, 19]\n"
          ]
        }
      ]
    },
    {
      "cell_type": "code",
      "source": [],
      "metadata": {
        "id": "SiZkV7WNAuLV"
      },
      "execution_count": null,
      "outputs": []
    },
    {
      "cell_type": "code",
      "metadata": {
        "id": "KazaKx86Wxov",
        "colab": {
          "base_uri": "https://localhost:8080/"
        },
        "outputId": "dbc5ecf1-2806-48bd-d59d-b6ac938c6e84"
      },
      "source": [
        "#leitura do valor de N\n",
        "n = int(input('Digite o valor de N: '))\n",
        "\n",
        "#inicialização dos vetores A, B e C\n",
        "a = [None]*n\n",
        "b = [None]*n\n",
        "c = [None]*(n*2)\n",
        "\n",
        "#leitura do vetor A\n",
        "print('\\nDigite os elementos do vetor A:')\n",
        "for i in range(n):\n",
        "    a[i] = int(input('A['+str(i)+']: '))\n",
        "\n",
        "#leitura do vetor B\n",
        "print('\\nDigite os elementos do vetor B:')\n",
        "for i in range(n):\n",
        "    b[i] = int(input('B['+str(i)+']: '))\n",
        "\n",
        "#geração do vetor C\n",
        "for i in range(n):\n",
        "    c[i*2] = a[i]\n",
        "    c[i*2+1] = b[i]\n",
        "\n",
        "#impressão dos vetores A, B e C\n",
        "print()\n",
        "print('A = ',a)\n",
        "print('B = ',b)\n",
        "print('C = ',c)\n"
      ],
      "execution_count": null,
      "outputs": [
        {
          "output_type": "stream",
          "text": [
            "Digite o valor de N: 3\n",
            "\n",
            "Digite os elementos do vetor A:\n",
            "A[0]: 18\n",
            "A[1]: 12\n",
            "A[2]: 20\n",
            "\n",
            "Digite os elementos do vetor B:\n",
            "B[0]: 15\n",
            "B[1]: 10\n",
            "B[2]: 7\n",
            "\n",
            "A =  [18, 12, 20]\n",
            "B =  [15, 10, 7]\n",
            "C =  [18, 15, 12, 10, 20, 7]\n"
          ],
          "name": "stdout"
        }
      ]
    },
    {
      "cell_type": "markdown",
      "metadata": {
        "id": "0hm7SZYQWdjr"
      },
      "source": [
        "##Questão 3"
      ]
    },
    {
      "cell_type": "markdown",
      "metadata": {
        "id": "ZMIWlXsQdqAK"
      },
      "source": [
        "Escreva um programa para ler 6 números. Após a leitura dos números, verifique, para cada um deles, se é distinto, ou seja, não possui repetição."
      ]
    },
    {
      "cell_type": "code",
      "metadata": {
        "id": "2-qAyyzOdqZD",
        "colab": {
          "base_uri": "https://localhost:8080/"
        },
        "outputId": "33b98c91-34f1-4332-ad7d-5691e859302a"
      },
      "source": [
        "n = 6\n",
        "numeros = [None]*n\n",
        "\n",
        "for i in range(n):\n",
        "    numeros[i] = int(input(str(i+1) + 'º número: '))\n",
        "\n",
        "print()\n",
        "\n",
        "for i in range(n):\n",
        "    \n",
        "    repete = False\n",
        "    for j in range(n):\n",
        "        if numeros[i] == numeros[j] and i != j:\n",
        "            repete = True\n",
        "            break\n",
        "    \n",
        "    if repete:\n",
        "        print(numeros[i],'repete')\n",
        "    else:\n",
        "        print(numeros[i],'não repete')\n",
        "        "
      ],
      "execution_count": null,
      "outputs": [
        {
          "output_type": "stream",
          "name": "stdout",
          "text": [
            "1º número: 1\n",
            "2º número: 2\n",
            "3º número: 3\n",
            "4º número: 2\n",
            "5º número: 1\n",
            "6º número: 4\n",
            "\n",
            "1 repete\n",
            "2 repete\n",
            "3 não repete\n",
            "2 repete\n",
            "1 repete\n",
            "4 não repete\n"
          ]
        }
      ]
    },
    {
      "cell_type": "markdown",
      "metadata": {
        "id": "8xAI-9Bs_91H"
      },
      "source": [
        "##Questão 4"
      ]
    },
    {
      "cell_type": "markdown",
      "metadata": {
        "id": "Ki6cKM8udaeU"
      },
      "source": [
        "Escreva um programa para ler 6 números distintos, ou seja, não podem repetir.    \n",
        "Exiba os números lidos."
      ]
    },
    {
      "cell_type": "code",
      "metadata": {
        "id": "H48C-UsidpUw",
        "colab": {
          "base_uri": "https://localhost:8080/"
        },
        "outputId": "f552c4e0-b5b0-489b-a3ce-b4e90b842ffd"
      },
      "source": [
        "n = 6\n",
        "cont = 0\n",
        "numeros = [None]*n\n",
        "\n",
        "print(f'Digite {n} números distintos')\n",
        "\n",
        "for i in range(n):\n",
        "\n",
        "    while True:\n",
        "        \n",
        "        x = int(input())\n",
        "\n",
        "        existe = False\n",
        "        for j in range(i):\n",
        "            if x == numeros[j]:\n",
        "                existe = True\n",
        "                break\n",
        "        if existe:\n",
        "            print('Número já existente. Digite novamente')\n",
        "            continue\n",
        "\n",
        "        numeros[i] = x\n",
        "        cont += 1\n",
        "        break\n",
        "\n",
        "print(f'\\nNúmeros válidos: {numeros}')\n"
      ],
      "execution_count": null,
      "outputs": [
        {
          "output_type": "stream",
          "name": "stdout",
          "text": [
            "Digite 6 números distintos\n",
            "3\n",
            "5\n",
            "3\n",
            "Número já existente. Digite novamente\n",
            "7\n",
            "5\n",
            "Número já existente. Digite novamente\n",
            "4\n",
            "8\n",
            "2\n",
            "\n",
            "Números válidos: [3, 5, 7, 4, 8, 2]\n"
          ]
        }
      ]
    },
    {
      "cell_type": "markdown",
      "metadata": {
        "id": "9kNrnHIor0tu"
      },
      "source": [
        "##Questão 5"
      ]
    },
    {
      "cell_type": "markdown",
      "metadata": {
        "id": "0UJiG2w7r3QF"
      },
      "source": [
        "Faça um programa para ler as 8 dezenas apostadas por 20 apostadores e verificar se a aposta é válida (cada dezena está entre [1, 80] e não pode haver repetição.       \n",
        "O programa deverá calcular e exibir a quantidade de números acertados em cada aposta.      \n",
        "Atenção! As dezenas sorteadas são: 06, 07, 13, 14 e 26.\n"
      ]
    },
    {
      "cell_type": "code",
      "metadata": {
        "id": "e3VV9D9Ur3zT",
        "colab": {
          "base_uri": "https://localhost:8080/",
          "height": 578
        },
        "outputId": "aad6dbfa-19a2-428d-f2b9-407457487b58"
      },
      "source": [
        "na = 3  #Número de apostadores (testando para apenas 3 apostadores ao invés de 20)\n",
        "\n",
        "nda = 8  #Número de dezenas apostadas por cada apostador\n",
        "vda = [None]*nda  #Vetor que irá conter as dezenas apostadas por um apostador\n",
        "\n",
        "vds = [6,7,13,14,26]  #Vetor que contém as dezenas sorteadas\n",
        "nds = len(vds) #Número de dezenas sorteadas\n",
        "\n",
        "for i in range(na):\n",
        "\n",
        "    #lendo as dezenas de um apostador\n",
        "    print(f'\\nDezenas do Apostador {i+1}:')\n",
        "    for j in range(nda):\n",
        "        vda[j] = int(input())\n",
        "\n",
        "    #verificando se a aposta é válida\n",
        "    valida = True\n",
        "    for j in range(nda):\n",
        "        #verificando se a dezena está entre 1 e 80\n",
        "        if vda[j] < 1 or vda[j] > 80:\n",
        "            valida = False\n",
        "            break\n",
        "        #verificando se há dezena repetida\n",
        "        repetida = False\n",
        "        for k in range(nda):\n",
        "            if vda[j] == vda[k] and j != k:\n",
        "                repetida = True\n",
        "                break\n",
        "        if repetida:\n",
        "            valida = False\n",
        "\n",
        "    #contando a quantidade de acertos se a aposta for válida \n",
        "    if valida:\n",
        "        cont = 0\n",
        "        for j in range(nda):\n",
        "            for k in range(nds):\n",
        "                if vda[j] == vds[k]:\n",
        "                    cont += 1\n",
        "        print(f'Número de acertos: {cont}')\n",
        "    else:\n",
        "        print('Aposta inválida')   \n"
      ],
      "execution_count": null,
      "outputs": [
        {
          "output_type": "stream",
          "text": [
            "\n",
            "Dezenas do Apostador 1:\n",
            "1\n",
            "2\n",
            "3\n",
            "4\n",
            "5\n",
            "6\n",
            "7\n",
            "8\n",
            "Número de acertos: 2\n",
            "\n",
            "Dezenas do Apostador 2:\n",
            "1\n",
            "2\n",
            "3\n",
            "4\n",
            "5\n",
            "6\n",
            "90\n",
            "8\n",
            "Aposta inválida\n",
            "\n",
            "Dezenas do Apostador 3:\n",
            "1\n",
            "2\n",
            "3\n",
            "4\n",
            "5\n",
            "6\n",
            "7\n",
            "1\n",
            "Aposta inválida\n"
          ],
          "name": "stdout"
        }
      ]
    },
    {
      "cell_type": "markdown",
      "metadata": {
        "id": "FtJ6-r5u--WY"
      },
      "source": [
        "##Questão 6"
      ]
    },
    {
      "cell_type": "markdown",
      "metadata": {
        "id": "GJq0lxbzr7bb"
      },
      "source": [
        "O Brasil possui 26 estados e 1 distrito federal, totalizando 27 unidades federativas.     \n",
        "Escreva um programa para armazene, em um vetor, a sigla de todas as unidades federativas.     \n",
        "O programa deverá obter de vários usuários qual é a unidade federativa ele acha mais interessante, informando a respectiva sigla.     \n",
        "O programa encerra quando for digitada uma sigla inexistente.     \n",
        "Ao final, o programa deverá exibir qual foi a sigla mais votada (considere possibilidade de empate)."
      ]
    },
    {
      "cell_type": "code",
      "metadata": {
        "id": "LkUuR5p7r7rM",
        "colab": {
          "base_uri": "https://localhost:8080/"
        },
        "outputId": "57e33b3e-9d7b-4851-c6a5-859bd234aa06"
      },
      "source": [
        "uf = ['AC','AL','AM','AP','BA','CE','DF','ES','GO','MA','MG','MS','MT','PA','PB','PE','PI','PR','RJ','RN','RO','RR','RS','SC','SE','SP','TO']\n",
        "n = len(uf)\n",
        "cont = [0]*n\n",
        "\n",
        "while True:\n",
        "    voto = input('Digite a UF de sua preferência: ').upper()\n",
        "    for i in range(n):\n",
        "        if uf[i] == voto:\n",
        "            cont[i] += 1\n",
        "            break\n",
        "    else:\n",
        "        break    \n",
        "\n",
        "maior = cont[0]\n",
        "for i in range(1,n):\n",
        "    if cont[i] > maior:\n",
        "        maior = cont[i]\n",
        "\n",
        "print('\\nUF mais votada:')\n",
        "for i in range(n):\n",
        "    if cont[i] == maior:\n",
        "        print(f'{uf[i]} com {cont[i]} votos')\n"
      ],
      "execution_count": null,
      "outputs": [
        {
          "output_type": "stream",
          "name": "stdout",
          "text": [
            "Digite a UF de sua preferência: PB\n",
            "Digite a UF de sua preferência: PE\n",
            "Digite a UF de sua preferência: PB\n",
            "Digite a UF de sua preferência: SP\n",
            "Digite a UF de sua preferência: X\n",
            "\n",
            "UF mais votada:\n",
            "PB com 2 votos\n"
          ]
        }
      ]
    }
  ]
}