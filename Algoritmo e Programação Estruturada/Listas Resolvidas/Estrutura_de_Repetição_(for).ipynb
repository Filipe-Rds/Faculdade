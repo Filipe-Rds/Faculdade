{
  "nbformat": 4,
  "nbformat_minor": 0,
  "metadata": {
    "colab": {
      "provenance": [],
      "collapsed_sections": [],
      "include_colab_link": true
    },
    "kernelspec": {
      "name": "python3",
      "display_name": "Python 3"
    }
  },
  "cells": [
    {
      "cell_type": "markdown",
      "metadata": {
        "id": "view-in-github",
        "colab_type": "text"
      },
      "source": [
        "<a href=\"https://colab.research.google.com/github/Filipe-Rds/Faculdade/blob/main/Algoritmo%20e%20Programa%C3%A7%C3%A3o%20Estruturada/Listas%20Resolvidas/Estrutura_de_Repeti%C3%A7%C3%A3o_(for).ipynb\" target=\"_parent\"><img src=\"https://colab.research.google.com/assets/colab-badge.svg\" alt=\"Open In Colab\"/></a>"
      ]
    },
    {
      "cell_type": "markdown",
      "metadata": {
        "id": "PO8efkjRUtjo"
      },
      "source": [
        "**IFPB - CAMPUS JOÃO PESSOA    \n",
        "CURSO: SISTEMAS PARA INTERNET     \n",
        "DISCIPLINA: ALGORITMOS E PROGRAMAÇÃO ESTRUTURADA     \n",
        "PROFESSORES: CANDIDO EGYPTO / EDEMBERG ROCHA**"
      ]
    },
    {
      "cell_type": "markdown",
      "metadata": {
        "id": "VVFFZyE0cJBJ"
      },
      "source": [
        "# LISTA DE EXERCÍCIOS (RESOLVIDA) – ESTRUTURA DE REPETIÇÃO (FOR)"
      ]
    },
    {
      "cell_type": "markdown",
      "metadata": {
        "id": "S9MjYNiFbGDT"
      },
      "source": [
        "##Questão 1"
      ]
    },
    {
      "cell_type": "markdown",
      "metadata": {
        "id": "mISrF8_Z9w8L"
      },
      "source": [
        "Faça um programa que calcule e mostre os números múltiplos de 5 do intervalo 50 a 300, juntamente com suas raízes e seus cubos."
      ]
    },
    {
      "cell_type": "code",
      "metadata": {
        "colab": {
          "base_uri": "https://localhost:8080/"
        },
        "id": "8xx3EvqmPBR3",
        "outputId": "29ef8058-4cc2-484f-c33d-50af71005322"
      },
      "source": [
        "import math   #módulo que contém a função que calcula raiz quadrada (sqrt)\n",
        "\n",
        "vi = 50   #valor inicial da sequência\n",
        "vf = 300  #valor final da sequência\n",
        "d = 5     #divisor\n",
        "\n",
        "#comprimento das colunas\n",
        "c1 = 5\n",
        "c2 = 10\n",
        "c3 = 10\n",
        "\n",
        "#linha de cabeçalho\n",
        "print(f'{\"X\":>{c1}} {\"RAIZ(X)\":>{c2}} {\"CUBO(X)\":>{c3}}')\n",
        "\n",
        "#demais linhas\n",
        "for x in range(vi, vf+1):\n",
        "    if x % d == 0:\n",
        "        raiz = math.sqrt(x)\n",
        "        cubo = x ** 3 \n",
        "        print(f'{x:{c1}} {raiz:{c2}.4f} {cubo:{c3}}')\n"
      ],
      "execution_count": null,
      "outputs": [
        {
          "output_type": "stream",
          "text": [
            "    X    RAIZ(X)    CUBO(X)\n",
            "   50     7.0711     125000\n",
            "   55     7.4162     166375\n",
            "   60     7.7460     216000\n",
            "   65     8.0623     274625\n",
            "   70     8.3666     343000\n",
            "   75     8.6603     421875\n",
            "   80     8.9443     512000\n",
            "   85     9.2195     614125\n",
            "   90     9.4868     729000\n",
            "   95     9.7468     857375\n",
            "  100    10.0000    1000000\n",
            "  105    10.2470    1157625\n",
            "  110    10.4881    1331000\n",
            "  115    10.7238    1520875\n",
            "  120    10.9545    1728000\n",
            "  125    11.1803    1953125\n",
            "  130    11.4018    2197000\n",
            "  135    11.6190    2460375\n",
            "  140    11.8322    2744000\n",
            "  145    12.0416    3048625\n",
            "  150    12.2474    3375000\n",
            "  155    12.4499    3723875\n",
            "  160    12.6491    4096000\n",
            "  165    12.8452    4492125\n",
            "  170    13.0384    4913000\n",
            "  175    13.2288    5359375\n",
            "  180    13.4164    5832000\n",
            "  185    13.6015    6331625\n",
            "  190    13.7840    6859000\n",
            "  195    13.9642    7414875\n",
            "  200    14.1421    8000000\n",
            "  205    14.3178    8615125\n",
            "  210    14.4914    9261000\n",
            "  215    14.6629    9938375\n",
            "  220    14.8324   10648000\n",
            "  225    15.0000   11390625\n",
            "  230    15.1658   12167000\n",
            "  235    15.3297   12977875\n",
            "  240    15.4919   13824000\n",
            "  245    15.6525   14706125\n",
            "  250    15.8114   15625000\n",
            "  255    15.9687   16581375\n",
            "  260    16.1245   17576000\n",
            "  265    16.2788   18609625\n",
            "  270    16.4317   19683000\n",
            "  275    16.5831   20796875\n",
            "  280    16.7332   21952000\n",
            "  285    16.8819   23149125\n",
            "  290    17.0294   24389000\n",
            "  295    17.1756   25672375\n",
            "  300    17.3205   27000000\n"
          ],
          "name": "stdout"
        }
      ]
    },
    {
      "cell_type": "markdown",
      "metadata": {
        "id": "VEOnOHOvzNVT"
      },
      "source": [
        "##Questão 2"
      ]
    },
    {
      "cell_type": "markdown",
      "metadata": {
        "id": "4uIk1i5Q-ZIg"
      },
      "source": [
        "Faça um programa que leia um número N, inteiro, e some todos os números de 1 até N, mostrando o resultado."
      ]
    },
    {
      "cell_type": "code",
      "metadata": {
        "id": "nvF2s4cn0rva",
        "colab": {
          "base_uri": "https://localhost:8080/",
          "height": 51
        },
        "outputId": "73212b25-dc7f-4382-d9cb-6b31ed2e8967"
      },
      "source": [
        "s = 0\n",
        "\n",
        "n = int(input('Entre com um número inteiro: '))\n",
        "\n",
        "for i in range(1,n+1):\n",
        "    s = s + i\n",
        "\n",
        "print(f'Soma = {s}')\n"
      ],
      "execution_count": null,
      "outputs": [
        {
          "output_type": "stream",
          "text": [
            "Entre com um número inteiro: 5\n",
            "Soma = 15\n"
          ],
          "name": "stdout"
        }
      ]
    },
    {
      "cell_type": "code",
      "metadata": {
        "id": "Ux2JgWiLOjbc",
        "colab": {
          "base_uri": "https://localhost:8080/"
        },
        "outputId": "851ab632-63c5-4d1d-a913-197944bcd833"
      },
      "source": [
        "#versão com a saída mostrando os números que foram somados\n",
        "\n",
        "s = 0\n",
        "\n",
        "n = int(input('Entre com um número inteiro: '))\n",
        "\n",
        "for i in range(1,n+1):\n",
        "    s = s + i\n",
        "    print(i,end='')\n",
        "    if i < n:\n",
        "        print(' + ',end='')\n",
        "    else:\n",
        "        print(' = ',end='')\n",
        "\n",
        "print(s)\n"
      ],
      "execution_count": null,
      "outputs": [
        {
          "output_type": "stream",
          "name": "stdout",
          "text": [
            "Entre com um número inteiro: 4\n",
            "1 + 2 + 3 + 4 = 10\n"
          ]
        }
      ]
    },
    {
      "cell_type": "markdown",
      "metadata": {
        "id": "a9-9tlNp0ZDN"
      },
      "source": [
        "## Questão 3\t"
      ]
    },
    {
      "cell_type": "markdown",
      "metadata": {
        "id": "YnurKizu-ozN"
      },
      "source": [
        "Faça um programa que calcule e mostre o fatorial de um número N, fornecido pelo usuário.    \n",
        "A definição de fatorial é mostrada a seguir:    \n",
        "![aval4_3.png](data:image/png;base64,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)"
      ]
    },
    {
      "cell_type": "code",
      "metadata": {
        "id": "YVoZMXMDQGkB",
        "colab": {
          "base_uri": "https://localhost:8080/"
        },
        "outputId": "8b1de08e-6888-414f-a2b5-1e4782916442"
      },
      "source": [
        "f = 1\n",
        "\n",
        "n = int(input('Entre com um número inteiro: '))\n",
        "\n",
        "for i in range(2,n+1):\n",
        "    f = f * i\n",
        "\n",
        "print(f'{n}! = {f}')\n"
      ],
      "execution_count": null,
      "outputs": [
        {
          "output_type": "stream",
          "name": "stdout",
          "text": [
            "Entre com um número inteiro: 5\n",
            "5! = 120\n"
          ]
        }
      ]
    },
    {
      "cell_type": "markdown",
      "metadata": {
        "id": "OwFlJqPwqoyc"
      },
      "source": [
        "##Questão 4 "
      ]
    },
    {
      "cell_type": "markdown",
      "metadata": {
        "id": "Tm2rNLKQ-15f"
      },
      "source": [
        "Faça um programa que leia 20 números inteiros, determine e mostre o maior deles."
      ]
    },
    {
      "cell_type": "code",
      "metadata": {
        "id": "dTpinqBk0ET8",
        "colab": {
          "base_uri": "https://localhost:8080/"
        },
        "outputId": "b4e474a5-7bd9-428d-d545-c9c72c7aa894"
      },
      "source": [
        "qtd = 5 #vamos testar o programa com poucos números, para agilizar a execução. \n",
        "\n",
        "print(f'Digite {qtd} números inteiros:')\n",
        "\n",
        "for i in range(qtd):\n",
        "\n",
        "    num = int(input())\n",
        "\n",
        "    if i == 0: #testa se é a 1ª iteração do for\n",
        "        maior = num\n",
        "    else:\n",
        "        if num > maior:\n",
        "            maior = num\n",
        "\n",
        "print(f'Maior = {maior}')\n"
      ],
      "execution_count": null,
      "outputs": [
        {
          "output_type": "stream",
          "name": "stdout",
          "text": [
            "Digite 5 números inteiros:\n",
            "-6\n",
            "-3\n",
            "-10\n",
            "-2\n",
            "-8\n",
            "Maior = -2\n"
          ]
        }
      ]
    },
    {
      "cell_type": "markdown",
      "metadata": {
        "id": "FtJ6-r5u--WY"
      },
      "source": [
        "##Questão 5"
      ]
    },
    {
      "cell_type": "markdown",
      "metadata": {
        "id": "AGRIMfsnsn7W"
      },
      "source": [
        "Faça um programa que, para um grupo de N pessoas (obs: N será lido):    \n",
        "* Leia o sexo (M ou F) de cada pessoa;\n",
        "* Calcule e escreva o percentual de homens;    \n",
        "*\tCalcule e escreva o percentual de mulheres.\n"
      ]
    },
    {
      "cell_type": "code",
      "metadata": {
        "id": "b_B7cSyCbwyu",
        "colab": {
          "base_uri": "https://localhost:8080/"
        },
        "outputId": "2d6b57a5-f68d-435b-e05a-e38f3068abd7"
      },
      "source": [
        "contM = 0\n",
        "contF = 0\n",
        "\n",
        "n = int(input('Quantidade de pessoas: '))\n",
        "\n",
        "for i in range(n):\n",
        "\n",
        "    sexo = input('\\nSexo(M/F): ').upper()\n",
        "\n",
        "    if sexo == 'M':\n",
        "        contM = contM + 1  # contM += 1\n",
        "    else:\n",
        "        contF = contF + 1  # contF += 1\n",
        "\n",
        "    percM = contM / (contM + contF) * 100\n",
        "    percF = contF / (contM + contF) * 100\n",
        "\n",
        "    print(f'Percentual de homens: {percM:.0f}%')\n",
        "    print(f'Percentual de muheres: {percF:.0f}%')\n",
        "    "
      ],
      "execution_count": null,
      "outputs": [
        {
          "output_type": "stream",
          "name": "stdout",
          "text": [
            "Quantidade de pessoas: 5\n",
            "\n",
            "Sexo(M/F): m\n",
            "Percentual de homens: 100%\n",
            "Percentual de muheres: 0%\n",
            "\n",
            "Sexo(M/F): f\n",
            "Percentual de homens: 50%\n",
            "Percentual de muheres: 50%\n",
            "\n",
            "Sexo(M/F): m\n",
            "Percentual de homens: 67%\n",
            "Percentual de muheres: 33%\n",
            "\n",
            "Sexo(M/F): m\n",
            "Percentual de homens: 75%\n",
            "Percentual de muheres: 25%\n",
            "\n",
            "Sexo(M/F): f\n",
            "Percentual de homens: 60%\n",
            "Percentual de muheres: 40%\n"
          ]
        }
      ]
    },
    {
      "cell_type": "code",
      "metadata": {
        "colab": {
          "base_uri": "https://localhost:8080/"
        },
        "id": "FYZXEdjsmosm",
        "outputId": "ddcb1357-eaf2-4086-bb00-a802223ada2f"
      },
      "source": [
        "#versão com os resultados só ao final\n",
        "\n",
        "contM = 0\n",
        "contF = 0\n",
        "\n",
        "n = int(input('Quantidade de pessoas: '))\n",
        "\n",
        "for i in range(n):\n",
        "\n",
        "    sexo = input('Sexo(M/F): ').upper()\n",
        "\n",
        "    if sexo == 'M':\n",
        "        contM = contM + 1\n",
        "    else:\n",
        "        contF = contF + 1\n",
        "\n",
        "percM = contM / n * 100\n",
        "percF = contF / n * 100\n",
        "\n",
        "print()\n",
        "print(f'Percentual de homens: {percM:.0f}%')\n",
        "print(f'Percentual de muheres: {percF:.0f}%')\n",
        "    "
      ],
      "execution_count": null,
      "outputs": [
        {
          "output_type": "stream",
          "name": "stdout",
          "text": [
            "Quantidade de pessoas: 5\n",
            "Sexo(M/F): m\n",
            "Sexo(M/F): m\n",
            "Sexo(M/F): m\n",
            "Sexo(M/F): f\n",
            "Sexo(M/F): f\n",
            "\n",
            "Percentual de homens: 60%\n",
            "Percentual de muheres: 40%\n"
          ]
        }
      ]
    },
    {
      "cell_type": "markdown",
      "metadata": {
        "id": "fAfMfQKM_jPo"
      },
      "source": [
        "##Questão 6"
      ]
    },
    {
      "cell_type": "markdown",
      "metadata": {
        "id": "BHXVd8W0Ls9K"
      },
      "source": [
        "Faça um programa que leia 3 números inteiros (N, X, Y) e mostre todos os números múltiplos de N entre X e Y."
      ]
    },
    {
      "cell_type": "code",
      "metadata": {
        "id": "Iag61tvVbw2r",
        "colab": {
          "base_uri": "https://localhost:8080/",
          "height": 119
        },
        "outputId": "a68d2486-ea3b-4af9-93b3-943592abf443"
      },
      "source": [
        "n = int(input('Informe o valor de N: '))\n",
        "x = int(input('Informe o valor de X: '))\n",
        "y = int(input('Informe o valor de Y: '))\n",
        "\n",
        "print('\\nOs múltiplos de',n,'entre',x,'e',y,'são:')\n",
        "for i in range(x,y+1):\n",
        "    if i % n == 0:\n",
        "        print(i,end=' ')\n",
        "        "
      ],
      "execution_count": null,
      "outputs": [
        {
          "output_type": "stream",
          "text": [
            "Informe o valor de N: 3\n",
            "Informe o valor de X: 10\n",
            "Informe o valor de Y: 20\n",
            "\n",
            "Os múltiplos de 3 entre 10 e 20 são:\n",
            "12 15 18 "
          ],
          "name": "stdout"
        }
      ]
    },
    {
      "cell_type": "markdown",
      "metadata": {
        "id": "35Hubnu6_2Dq"
      },
      "source": [
        "##Questão 7"
      ]
    },
    {
      "cell_type": "markdown",
      "metadata": {
        "id": "R_mFKeHLqyES"
      },
      "source": [
        "Um número é, por definição, primo se ele não tem divisores, exceto 1 e ele próprio.     \n",
        "Faça um programa que leia um número e determine se ele é ou não primo."
      ]
    },
    {
      "cell_type": "code",
      "metadata": {
        "id": "F1-xJrcabxJD",
        "colab": {
          "base_uri": "https://localhost:8080/"
        },
        "outputId": "ae8c5744-d7cb-48b2-e2bf-bd7cf5762578"
      },
      "source": [
        "n = int(input('Digite um número inteiro: '))\n",
        "\n",
        "if n == 1:\n",
        "    primo = False\n",
        "else:\n",
        "    primo = True\n",
        "    for i in range(2,n):\n",
        "        if n % i == 0:\n",
        "            primo = False\n",
        "\n",
        "if primo:\n",
        "    print(n,'é primo')\n",
        "else:\n",
        "    print(n,'não é primo')\n",
        "    "
      ],
      "execution_count": null,
      "outputs": [
        {
          "output_type": "stream",
          "name": "stdout",
          "text": [
            "Digite um número inteiro: 1\n",
            "1 é primo\n"
          ]
        }
      ]
    },
    {
      "cell_type": "markdown",
      "metadata": {
        "id": "8xAI-9Bs_91H"
      },
      "source": [
        "##Questão 8"
      ]
    },
    {
      "cell_type": "markdown",
      "metadata": {
        "id": "m_GPoovQqywh"
      },
      "source": [
        "Faça um programa que leia um número inteiro N, calcule e mostre o maior quadrado perfeito menor ou igual a N.     \n",
        "Por exemplo, se N for igual a 38, o resultado é 36."
      ]
    },
    {
      "cell_type": "code",
      "metadata": {
        "id": "jTD9NTy3bxRX",
        "colab": {
          "base_uri": "https://localhost:8080/",
          "height": 51
        },
        "outputId": "d0635890-8a74-46da-9658-66d0904b242d"
      },
      "source": [
        "import math\n",
        "\n",
        "maior = 0\n",
        "\n",
        "n = int(input('Digite um número inteiro: '))\n",
        "\n",
        "for i in range(1,n+1):\n",
        "    raiz = math.sqrt(i)\n",
        "    if raiz == int(raiz) and i > maior:\n",
        "        maior = i\n",
        "\n",
        "print('Maior quadrado perfeito:',maior)\n"
      ],
      "execution_count": null,
      "outputs": [
        {
          "output_type": "stream",
          "text": [
            "Digite um número inteiro: 38\n",
            "Maior quadrado perfeito: 36\n"
          ],
          "name": "stdout"
        }
      ]
    }
  ]
}