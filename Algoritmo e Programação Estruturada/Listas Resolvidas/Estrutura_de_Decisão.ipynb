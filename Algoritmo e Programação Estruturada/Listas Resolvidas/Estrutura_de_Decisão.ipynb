{
  "nbformat": 4,
  "nbformat_minor": 0,
  "metadata": {
    "colab": {
      "provenance": [],
      "collapsed_sections": [],
      "include_colab_link": true
    },
    "kernelspec": {
      "name": "python3",
      "display_name": "Python 3"
    }
  },
  "cells": [
    {
      "cell_type": "markdown",
      "metadata": {
        "id": "view-in-github",
        "colab_type": "text"
      },
      "source": [
        "<a href=\"https://colab.research.google.com/github/Filipe-Rds/Faculdade/blob/main/Algoritmo%20e%20Programa%C3%A7%C3%A3o%20Estruturada/Listas%20Resolvidas/Estrutura_de_Decis%C3%A3o.ipynb\" target=\"_parent\"><img src=\"https://colab.research.google.com/assets/colab-badge.svg\" alt=\"Open In Colab\"/></a>"
      ]
    },
    {
      "cell_type": "markdown",
      "metadata": {
        "id": "PO8efkjRUtjo"
      },
      "source": [
        "**IFPB - CAMPUS JOÃO PESSOA    \n",
        "CURSO: SISTEMAS PARA INTERNET     \n",
        "DISCIPLINA: ALGORITMOS E PROGRAMAÇÃO ESTRUTURADA     \n",
        "PROFESSORES: CANDIDO EGYPTO / EDEMBERG ROCHA**"
      ]
    },
    {
      "cell_type": "markdown",
      "metadata": {
        "id": "VVFFZyE0cJBJ"
      },
      "source": [
        "# LISTA DE EXERCÍCIOS (RESOLVIDA) – ESTRUTURA DE DECISÃO"
      ]
    },
    {
      "cell_type": "markdown",
      "metadata": {
        "id": "S9MjYNiFbGDT"
      },
      "source": [
        "##Questão 1"
      ]
    },
    {
      "cell_type": "markdown",
      "metadata": {
        "id": "mISrF8_Z9w8L"
      },
      "source": [
        "Escreva um programa que leia um número inteiro e determine se ele é par ou ímpar."
      ]
    },
    {
      "cell_type": "code",
      "metadata": {
        "id": "U8_NLVBp97Hu",
        "colab": {
          "base_uri": "https://localhost:8080/"
        },
        "outputId": "ef7efff2-d80c-4ba8-9ab5-1b277345aca3"
      },
      "source": [
        "n = int(input('Digite um número inteiro: '))\n",
        "\n",
        "if n % 2 == 0:\n",
        "  result = 'par'\n",
        "else:\n",
        "  result = 'ímpar'\n",
        "\n",
        "print(f'{n} é {result}')\n"
      ],
      "execution_count": null,
      "outputs": [
        {
          "output_type": "stream",
          "text": [
            "Digite um número inteiro: 3\n",
            "3 é ímpar\n"
          ],
          "name": "stdout"
        }
      ]
    },
    {
      "cell_type": "markdown",
      "metadata": {
        "id": "VEOnOHOvzNVT"
      },
      "source": [
        "##Questão 2"
      ]
    },
    {
      "cell_type": "markdown",
      "metadata": {
        "id": "4uIk1i5Q-ZIg"
      },
      "source": [
        "Escreva um programa que leia dois números e exiba-os em ordem crescente."
      ]
    },
    {
      "cell_type": "code",
      "metadata": {
        "id": "nvF2s4cn0rva",
        "colab": {
          "base_uri": "https://localhost:8080/"
        },
        "outputId": "a7af7b4a-ed14-47ab-d9d8-19212054623c"
      },
      "source": [
        "print('Digite dois números inteiros:')\n",
        "a = int(input())\n",
        "b = int(input())\n",
        "\n",
        "print('Números em ordem crescente: ',end='') \n",
        "if a < b:\n",
        "    print(a,b)\n",
        "else:\n",
        "    print(b,a)\n"
      ],
      "execution_count": null,
      "outputs": [
        {
          "output_type": "stream",
          "name": "stdout",
          "text": [
            "Digite dois números inteiros:\n",
            "3\n",
            "5\n",
            "Números em ordem crescente: 3 5\n"
          ]
        }
      ]
    },
    {
      "cell_type": "markdown",
      "metadata": {
        "id": "iNREovT3SCOO"
      },
      "source": [
        "Outra versão:"
      ]
    },
    {
      "cell_type": "code",
      "metadata": {
        "colab": {
          "base_uri": "https://localhost:8080/"
        },
        "id": "O8Ed6Rw4Qw0x",
        "outputId": "d12125ca-e1e6-4202-8e48-1e1f5af1101b"
      },
      "source": [
        "print('Digite dois números inteiros:')\n",
        "a = int(input())\n",
        "b = int(input())\n",
        "\n",
        "if a < b:\n",
        "  pri = a\n",
        "  seg = b\n",
        "else:\n",
        "  pri = b\n",
        "  seg = a\n",
        "\n",
        "print(f'Números em ordem crescente: {pri} {seg}')\n"
      ],
      "execution_count": null,
      "outputs": [
        {
          "output_type": "stream",
          "text": [
            "Digite dois números inteiros:\n",
            "5\n",
            "3\n",
            "Números em ordem crescente: 3 5\n"
          ],
          "name": "stdout"
        }
      ]
    },
    {
      "cell_type": "markdown",
      "metadata": {
        "id": "a9-9tlNp0ZDN"
      },
      "source": [
        "## Questão 3\t"
      ]
    },
    {
      "cell_type": "markdown",
      "metadata": {
        "id": "YnurKizu-ozN"
      },
      "source": [
        "Escreva um programa que leia 3 números inteiros, determine e mostre o maior deles."
      ]
    },
    {
      "cell_type": "markdown",
      "metadata": {
        "id": "fV9QASGInqLe"
      },
      "source": [
        "####Versão com if simples"
      ]
    },
    {
      "cell_type": "code",
      "metadata": {
        "id": "nZRu4lMLbwgq",
        "colab": {
          "base_uri": "https://localhost:8080/"
        },
        "outputId": "019e6fea-3a9f-4a50-96be-184ac4c85ccf"
      },
      "source": [
        "print('Digite 3 número inteiros:')\n",
        "a = int(input())\n",
        "b = int(input())\n",
        "c = int(input())\n",
        "\n",
        "if a >= b and a >= c:\n",
        "  maior = a;\n",
        "if b >= a and b >= c:\n",
        "  maior = b;\n",
        "if c >= a and c >= b:\n",
        "  maior = c;\n",
        "\n",
        "print(f'O maior é {maior}')\n"
      ],
      "execution_count": null,
      "outputs": [
        {
          "output_type": "stream",
          "text": [
            "Digite 3 número inteiros:\n",
            "2\n",
            "3\n",
            "1\n",
            "O maior é 3\n"
          ],
          "name": "stdout"
        }
      ]
    },
    {
      "cell_type": "markdown",
      "metadata": {
        "id": "Tn6qJEkHn4NW"
      },
      "source": [
        "#### Versão com if...else"
      ]
    },
    {
      "cell_type": "code",
      "metadata": {
        "id": "TdWIYjSb2ei1",
        "colab": {
          "base_uri": "https://localhost:8080/"
        },
        "outputId": "86023a31-1521-4b13-a8f3-20e8e3416b53"
      },
      "source": [
        "print('Digite 3 número inteiros:')\n",
        "a = int(input())\n",
        "b = int(input())\n",
        "c = int(input())\n",
        "\n",
        "if a > b and a > c:\n",
        "  maior = a;\n",
        "else: \n",
        "  if b > c:\n",
        "    maior = b;\n",
        "  else:\n",
        "    maior = c;\n",
        "\n",
        "print(f'O maior é {maior}')\n"
      ],
      "execution_count": null,
      "outputs": [
        {
          "output_type": "stream",
          "text": [
            "Digite 3 número inteiros:\n",
            "2\n",
            "3\n",
            "1\n",
            "O maior é 3\n"
          ],
          "name": "stdout"
        }
      ]
    },
    {
      "cell_type": "markdown",
      "metadata": {
        "id": "ePzF8r_Xn9gl"
      },
      "source": [
        "####Versão com if...elif"
      ]
    },
    {
      "cell_type": "code",
      "metadata": {
        "id": "AaQPFtSE3EHX",
        "colab": {
          "base_uri": "https://localhost:8080/"
        },
        "outputId": "42404262-0978-45d3-c102-e8fb5e291347"
      },
      "source": [
        "print('Digite 3 número inteiros:')\n",
        "a = int(input())\n",
        "b = int(input())\n",
        "c = int(input())\n",
        "\n",
        "if a > b and a > c:\n",
        "  maior = a;\n",
        "elif b > c:\n",
        "  maior = b;\n",
        "else:\n",
        "  maior = c;\n",
        "\n",
        "print(f'O maior é {maior}')\n"
      ],
      "execution_count": null,
      "outputs": [
        {
          "output_type": "stream",
          "text": [
            "Digite 3 número inteiros:\n",
            "2\n",
            "3\n",
            "1\n",
            "O maior é 3\n"
          ],
          "name": "stdout"
        }
      ]
    },
    {
      "cell_type": "markdown",
      "metadata": {
        "id": "OwFlJqPwqoyc"
      },
      "source": [
        "##Questão 4 "
      ]
    },
    {
      "cell_type": "markdown",
      "metadata": {
        "id": "Tm2rNLKQ-15f"
      },
      "source": [
        "Escreva um programa que leia o nome e o sexo (M ou F) de uma pessoa e exiba a mensagem \"Olá, Sr. Fulano!\" ou \"Olá, Sra. Fulana!\", de acordo com o sexo da pessoa.    \n",
        "Obs: Fulano e Fulana são nomes exemplos."
      ]
    },
    {
      "cell_type": "code",
      "metadata": {
        "id": "dTpinqBk0ET8",
        "colab": {
          "base_uri": "https://localhost:8080/"
        },
        "outputId": "969013a6-3dbc-4b2e-913b-9ed6669673ca"
      },
      "source": [
        "nome = input('Nome: ')\n",
        "sexo = input('Sexo: ')\n",
        "\n",
        "if sexo == 'M' or sexo == 'm':\n",
        "  trat = 'Sr'\n",
        "else:\n",
        "  trat = 'Sra'\n",
        "\n",
        "print(f'Olá, {trat}. {nome}!')\n"
      ],
      "execution_count": null,
      "outputs": [
        {
          "output_type": "stream",
          "text": [
            "Nome: Maria\n",
            "Sexo: f\n",
            "Olá, Sra. Maria!\n"
          ],
          "name": "stdout"
        }
      ]
    },
    {
      "cell_type": "markdown",
      "metadata": {
        "id": "4WO7VM8EUtQy"
      },
      "source": [
        "Outra versão:"
      ]
    },
    {
      "cell_type": "code",
      "metadata": {
        "colab": {
          "base_uri": "https://localhost:8080/"
        },
        "id": "gppJTEKZUsJf",
        "outputId": "e5c03ff9-3c2d-4ea5-c038-27b60e768488"
      },
      "source": [
        "nome = input('Nome: ')\n",
        "sexo = input('Sexo: ')\n",
        "sexo = sexo.upper() \n",
        "\n",
        "if sexo == 'M':\n",
        "  trat = 'Sr'\n",
        "else:\n",
        "  trat = 'Sra'\n",
        "\n",
        "print(f'Olá, {trat}. {nome}!')\n"
      ],
      "execution_count": null,
      "outputs": [
        {
          "output_type": "stream",
          "name": "stdout",
          "text": [
            "Nome: Cândido\n",
            "Sexo: m\n",
            "Olá, Sr. Cândido!\n"
          ]
        }
      ]
    },
    {
      "cell_type": "markdown",
      "metadata": {
        "id": "FtJ6-r5u--WY"
      },
      "source": [
        "##Questão 5"
      ]
    },
    {
      "cell_type": "markdown",
      "metadata": {
        "id": "AGRIMfsnsn7W"
      },
      "source": [
        "A empresa Vende Tudo Ltda paga o salário de cada vendedor com uma comissão de 5% sobre o total de vendas daquele vendedor, mas essa comissão nunca deve ser inferior ao salário mínimo.    \n",
        "Escreva um programa que leia o valor total das vendas de um vendedor e escreva seu salário. "
      ]
    },
    {
      "cell_type": "code",
      "metadata": {
        "id": "b_B7cSyCbwyu",
        "colab": {
          "base_uri": "https://localhost:8080/"
        },
        "outputId": "c6dd74d3-83bd-430b-9226-75885586b3ec"
      },
      "source": [
        "salmin = 1212.00\n",
        "perc = 5/100\n",
        "\n",
        "totvend = float(input('Valor total das vendas: R$ '))\n",
        "\n",
        "salario = totvend * perc\n",
        "\n",
        "if salario < salmin:\n",
        "  salario = salmin\n",
        "\n",
        "print(f'\\nSalário: R$ {salario:.2f}')\n"
      ],
      "execution_count": null,
      "outputs": [
        {
          "output_type": "stream",
          "name": "stdout",
          "text": [
            "Valor total das vendas: R$ 100000\n",
            "\n",
            "Salário: R$ 5000.00\n"
          ]
        }
      ]
    },
    {
      "cell_type": "markdown",
      "metadata": {
        "id": "Q2icQCvXWKti"
      },
      "source": [
        "Outra versão:"
      ]
    },
    {
      "cell_type": "code",
      "metadata": {
        "colab": {
          "base_uri": "https://localhost:8080/"
        },
        "id": "G2t2jFcRVvln",
        "outputId": "1129c4c1-7649-4f3b-9e2a-6701f6fdfee7"
      },
      "source": [
        "salmin = 1100.00\n",
        "perc = 5/100\n",
        "\n",
        "totvend = float(input('Valor total das vendas: R$ '))\n",
        "\n",
        "comissao = totvend * perc\n",
        "\n",
        "if comissao < salmin:\n",
        "    salario = salmin\n",
        "else:\n",
        "    salario = comissao\n",
        "\n",
        "print(f'Salário: R$ {salario:.2f}')\n"
      ],
      "execution_count": null,
      "outputs": [
        {
          "output_type": "stream",
          "text": [
            "Valor total das vendas: R$ 30000\n",
            "Salário: R$ 1500.00\n"
          ],
          "name": "stdout"
        }
      ]
    },
    {
      "cell_type": "markdown",
      "metadata": {
        "id": "fAfMfQKM_jPo"
      },
      "source": [
        "##Questão 6"
      ]
    },
    {
      "cell_type": "markdown",
      "metadata": {
        "id": "CEdjMT37iCLl"
      },
      "source": [
        "Recomendam-se estudantes para bolsas de estudo em função de seu desempenho.   \n",
        "A natureza das recomendações é baseada na seguinte tabela:\n",
        "> ![aval3_2.png](data:image/png;base64,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)\n",
        "\n",
        "Faça um programa que leia o nome e o conceito de um estudante e exiba o nome do estudante e sua respectiva recomendação."
      ]
    },
    {
      "cell_type": "code",
      "metadata": {
        "colab": {
          "base_uri": "https://localhost:8080/",
          "height": 69
        },
        "id": "Fo1xSxE3iFOl",
        "outputId": "0e4d7480-470d-4d30-aff0-552e3d55748c"
      },
      "source": [
        "nome = input('Nome: ')\n",
        "conc = input('Conceito: ').upper()\n",
        "\n",
        "if conc == 'A':\n",
        "    rec = 'Fortemente recomendado'\n",
        "elif conc == 'B' or conc == 'C':\n",
        "    rec = 'Recomendado'\n",
        "else:\n",
        "    rec = 'Não recomendado'\n",
        "\n",
        "print(f'O estudante {nome} foi {rec}')\n"
      ],
      "execution_count": null,
      "outputs": [
        {
          "output_type": "stream",
          "text": [
            "Nome: Cândido\n",
            "Conceito: D\n",
            "O estudante Cândido foi Não recomendado\n"
          ],
          "name": "stdout"
        }
      ]
    },
    {
      "cell_type": "markdown",
      "metadata": {
        "id": "HgPs78Q1TmCQ"
      },
      "source": [
        "Versão com if simples:"
      ]
    },
    {
      "cell_type": "code",
      "metadata": {
        "colab": {
          "base_uri": "https://localhost:8080/",
          "height": 69
        },
        "id": "BTQKTZgwXTpr",
        "outputId": "0e4d7480-470d-4d30-aff0-552e3d55748c"
      },
      "source": [
        "nome = input('Nome: ')\n",
        "conc = input('Conceito: ').upper()\n",
        "\n",
        "if conc == 'A':\n",
        "    rec = 'Fortemente recomendado'\n",
        "if conc == 'B' or conc == 'C':\n",
        "    rec = 'Recomendado'\n",
        "if conc == 'D':\n",
        "    rec = 'Não recomendado'\n",
        "\n",
        "print(f'O estudante {nome} foi {rec}')\n"
      ],
      "execution_count": null,
      "outputs": [
        {
          "output_type": "stream",
          "text": [
            "Nome: Cândido\n",
            "Conceito: D\n",
            "O estudante Cândido foi Não recomendado\n"
          ],
          "name": "stdout"
        }
      ]
    },
    {
      "cell_type": "markdown",
      "metadata": {
        "id": "35Hubnu6_2Dq"
      },
      "source": [
        "##Questão 7"
      ]
    },
    {
      "cell_type": "markdown",
      "metadata": {
        "id": "btD6yw7sq1BR"
      },
      "source": [
        "Escreva um programa que leia o peso e a altura de uma pessoa, determine e mostre o seu grau de obesidade, de acordo com a tabela seguinte. O grau de obesidade é determinado pelo índice de massa corpórea, cujo cálculo é realizado dividindo-se o peso da pessoa pelo quadrado da sua altura.    \n",
        "> ![imagem2_11.png](data:image/png;base64,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)"
      ]
    },
    {
      "cell_type": "code",
      "metadata": {
        "id": "jQRGZVnPbxhX",
        "colab": {
          "base_uri": "https://localhost:8080/"
        },
        "outputId": "aee4ffac-1c46-4250-9a27-80fa6728bc25"
      },
      "source": [
        "peso = float(input('Peso(kg): '))\n",
        "alt = float(input('Altura(m): '))\n",
        "\n",
        "imc = peso / (alt**2) \n",
        "\n",
        "if imc < 26:\n",
        "  grau = 'Normal'\n",
        "elif imc < 30:\n",
        "  grau = 'Obeso'\n",
        "else:\n",
        "  grau = 'Obeso Mórbido'\n",
        "\n",
        "print(f'Grau de Obesidade: {grau}')\n"
      ],
      "execution_count": null,
      "outputs": [
        {
          "output_type": "stream",
          "text": [
            "Peso(kg): 67\n",
            "Altura(m): 1.75\n",
            "Grau de Obesidade: Normal\n"
          ],
          "name": "stdout"
        }
      ]
    },
    {
      "cell_type": "markdown",
      "metadata": {
        "id": "tzEOtvuBTy6F"
      },
      "source": [
        "Versão com if simples:"
      ]
    },
    {
      "cell_type": "code",
      "metadata": {
        "colab": {
          "base_uri": "https://localhost:8080/"
        },
        "id": "MSwJSpzNT2_y",
        "outputId": "aee4ffac-1c46-4250-9a27-80fa6728bc25"
      },
      "source": [
        "peso = float(input('Peso(kg): '))\n",
        "alt = float(input('Altura(m): '))\n",
        "\n",
        "imc = peso / (alt**2) \n",
        "\n",
        "if imc < 26:\n",
        "  grau = 'Normal'\n",
        "if imc >= 26 and imc < 30:\n",
        "  grau = 'Obeso'\n",
        "if imc >= 30:\n",
        "  grau = 'Obeso Mórbido'\n",
        "\n",
        "print(f'Grau de Obesidade: {grau}')\n"
      ],
      "execution_count": null,
      "outputs": [
        {
          "output_type": "stream",
          "text": [
            "Peso(kg): 67\n",
            "Altura(m): 1.75\n",
            "Grau de Obesidade: Normal\n"
          ],
          "name": "stdout"
        }
      ]
    },
    {
      "cell_type": "markdown",
      "metadata": {
        "id": "8xAI-9Bs_91H"
      },
      "source": [
        "##Questão 8"
      ]
    },
    {
      "cell_type": "markdown",
      "metadata": {
        "id": "R_mFKeHLqyES"
      },
      "source": [
        "Escreva um programa que tenha a funcionalidade de uma calculadora simples.    \n",
        "O programa deve solicitar a digitação de dois operandos inteiros e um operador (+ - x * / %) e deve imprimir ao resultado da operação aritmética.    \n",
        "Caso o usuário digite um operador inválido, o programa deve imprimir \"Operador desconhecido\"."
      ]
    },
    {
      "cell_type": "code",
      "metadata": {
        "id": "F1-xJrcabxJD",
        "colab": {
          "base_uri": "https://localhost:8080/"
        },
        "outputId": "31a9d408-2f8c-4271-a4b4-5cf6b8009ccd"
      },
      "source": [
        "x = int(input('1º operando: '))\n",
        "y = int(input('2º operando: '))\n",
        "op = input('Operador: ')\n",
        "\n",
        "print('\\nResultado: ',end='')\n",
        "if op == '+':\n",
        "  print(x + y)\n",
        "elif op == '-':\n",
        "  print(x - y)\n",
        "elif op == 'x' or op == '*':\n",
        "  print(x * y)\n",
        "elif op == '/':\n",
        "  print(x / y)\n",
        "elif op == '%':\n",
        "  print(x % y)\n",
        "else:\n",
        "  print('Operador desconhecido')\n",
        "  "
      ],
      "execution_count": null,
      "outputs": [
        {
          "output_type": "stream",
          "text": [
            "1º operando: 2\n",
            "2º operando: 5\n",
            "Operador: x\n",
            "\n",
            "Resultado: 10\n"
          ],
          "name": "stdout"
        }
      ]
    }
  ]
}