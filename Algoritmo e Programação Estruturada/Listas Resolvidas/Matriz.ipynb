{
  "nbformat": 4,
  "nbformat_minor": 0,
  "metadata": {
    "colab": {
      "provenance": [],
      "collapsed_sections": [],
      "include_colab_link": true
    },
    "kernelspec": {
      "name": "python3",
      "display_name": "Python 3"
    }
  },
  "cells": [
    {
      "cell_type": "markdown",
      "metadata": {
        "id": "view-in-github",
        "colab_type": "text"
      },
      "source": [
        "<a href=\"https://colab.research.google.com/github/Filipe-Rds/Faculdade/blob/main/Algoritmo%20e%20Programa%C3%A7%C3%A3o%20Estruturada/Listas%20Resolvidas/Matriz.ipynb\" target=\"_parent\"><img src=\"https://colab.research.google.com/assets/colab-badge.svg\" alt=\"Open In Colab\"/></a>"
      ]
    },
    {
      "cell_type": "markdown",
      "metadata": {
        "id": "PO8efkjRUtjo"
      },
      "source": [
        "**IFPB - CAMPUS JOÃO PESSOA    \n",
        "CURSO: SISTEMAS PARA INTERNET     \n",
        "DISCIPLINA: ALGORITMOS E PROGRAMAÇÃO ESTRUTURADA     \n",
        "PROFESSORES: CANDIDO EGYPTO / EDEMBERG ROCHA**"
      ]
    },
    {
      "cell_type": "markdown",
      "metadata": {
        "id": "VVFFZyE0cJBJ"
      },
      "source": [
        "# LISTA DE EXERCÍCIOS (RESOLVIDA) - MATRIZ"
      ]
    },
    {
      "cell_type": "markdown",
      "metadata": {
        "id": "NBzquVp5saz8"
      },
      "source": [
        "*Faça programas Python para resolver as questões abaixo.*\n",
        "\n",
        "*Obs: não utilize as funções do tipo lista.*"
      ]
    },
    {
      "cell_type": "markdown",
      "metadata": {
        "id": "S9MjYNiFbGDT"
      },
      "source": [
        "##Questão 1"
      ]
    },
    {
      "cell_type": "markdown",
      "metadata": {
        "id": "mISrF8_Z9w8L"
      },
      "source": [
        "Escreva um programa que preencha duas matrizes (A e B), ambas de ordem 2x3, com valores inteiros fornecidos pelo usuário (ou gerados aleatoriamente).    \n",
        "O programa deverá somar as duas matrizes, armazenando o resultado em uma terceira matriz (C).    \n",
        "Ao final, exiba as 3 matrizes (no formato de matriz)."
      ]
    },
    {
      "cell_type": "code",
      "metadata": {
        "id": "U8_NLVBp97Hu"
      },
      "source": [
        "nlin = 2  # número de linhas da matriz\n",
        "ncol = 3  # número de colunas da matriz\n",
        "\n",
        "# Criação das matrizes\n",
        "a = [[None]*ncol for i in range(nlin)]\n",
        "b = [[None]*ncol for i in range(nlin)]\n",
        "c = [[None]*ncol for i in range(nlin)]\n",
        "\n",
        "# Leitura da matriz A\n",
        "print('Digite os elementos da Matriz A:')\n",
        "for i in range(nlin):\n",
        "    for j in range(ncol):\n",
        "        a[i][j] = int(input(f'A[{i}][{j}]: '))\n",
        "\n",
        "# Leitura da matriz B\n",
        "print('\\nDigite os elementos da Matriz B:')\n",
        "for i in range(nlin):\n",
        "    for j in range(ncol):\n",
        "        b[i][j] = int(input(f'B[{i}][{j}]: '))\n",
        "\n",
        "# Cálculo da matriz C\n",
        "for i in range(nlin):\n",
        "    for j in range(ncol):\n",
        "        c[i][j] = a[i][j] + b[i][j]\n",
        "\n",
        "# Impressão da matriz A\n",
        "print('\\nMatriz A:')\n",
        "for i in range(nlin):\n",
        "    for j in range(ncol):\n",
        "        print(f'{a[i][j]:4}',end='')\n",
        "    print()\n",
        "      \n",
        "# Impressão da matriz B\n",
        "print('\\nMatriz B:')\n",
        "for i in range(nlin):\n",
        "    for j in range(ncol):\n",
        "        print(f'{b[i][j]:4}',end='')\n",
        "    print()\n",
        "\n",
        "# Impressão da matriz C\n",
        "print('\\nMatriz C:')\n",
        "for i in range(nlin):\n",
        "    for j in range(ncol):\n",
        "        print(f'{c[i][j]:4}',end='')\n",
        "    print()\n"
      ],
      "execution_count": null,
      "outputs": []
    },
    {
      "cell_type": "markdown",
      "metadata": {
        "id": "xpMJ6iYlLBN6"
      },
      "source": [
        "Versão com a geração aleatória das matrizes"
      ]
    },
    {
      "cell_type": "code",
      "metadata": {
        "id": "fg_3Q0N-LHgL",
        "colab": {
          "base_uri": "https://localhost:8080/"
        },
        "outputId": "4cf1aa9e-e134-46ca-adb2-f18cbb3e9b6b"
      },
      "source": [
        "import random\n",
        "\n",
        "nlin = 2  # número de linhas da matriz\n",
        "ncol = 3  # número de colunas da matriz\n",
        "\n",
        "# Criação das matrizes\n",
        "a = [[None]*ncol for i in range(nlin)]\n",
        "b = [[None]*ncol for i in range(nlin)]\n",
        "c = [[None]*ncol for i in range(nlin)]\n",
        "\n",
        "# Preenchimento aleatório da matriz A\n",
        "for i in range(nlin):\n",
        "    for j in range(ncol):\n",
        "        a[i][j] = random.randint(1,10)\n",
        "\n",
        "# Preenchimento aleatório da matriz B\n",
        "for i in range(nlin):\n",
        "    for j in range(ncol):\n",
        "        b[i][j] = random.randint(1,10)\n",
        "\n",
        "# Cálculo da matriz C\n",
        "for i in range(nlin):\n",
        "    for j in range(ncol):\n",
        "        c[i][j] = a[i][j] + b[i][j]\n",
        "\n",
        "# Impressão da matriz A\n",
        "print('\\nMatriz A:')\n",
        "for i in range(nlin):\n",
        "    for j in range(ncol):\n",
        "        print(f'{a[i][j]:4}',end='')\n",
        "    print()\n",
        "      \n",
        "# Impressão da matriz B\n",
        "print('\\nMatriz B:')\n",
        "for i in range(nlin):\n",
        "    for j in range(ncol):\n",
        "        print(f'{b[i][j]:4}',end='')\n",
        "    print()\n",
        "\n",
        "# Impressão da matriz C\n",
        "print('\\nMatriz C:')\n",
        "for i in range(nlin):\n",
        "    for j in range(ncol):\n",
        "        print(f'{c[i][j]:4}',end='')\n",
        "    print()"
      ],
      "execution_count": null,
      "outputs": [
        {
          "output_type": "stream",
          "name": "stdout",
          "text": [
            "\n",
            "Matriz A:\n",
            "   3   2   1\n",
            "   9   9   9\n",
            "\n",
            "Matriz B:\n",
            "   9   2   6\n",
            "   1   8   4\n",
            "\n",
            "Matriz C:\n",
            "  12   4   7\n",
            "  10  17  13\n"
          ]
        }
      ]
    },
    {
      "cell_type": "markdown",
      "metadata": {
        "id": "VEOnOHOvzNVT"
      },
      "source": [
        "##Questão 2"
      ]
    },
    {
      "cell_type": "markdown",
      "metadata": {
        "id": "4uIk1i5Q-ZIg"
      },
      "source": [
        "Escreva um programa que:   \n",
        "* Leia (ou gere aleatoriamente) uma matriz quadrada de ordem N contendo elementos inteiros (N será lido);\n",
        "* Exiba a matriz lida (no formato de matriz);\n",
        "* Exiba os elementos da diagonal principal, isto é, os elementos onde I = J.\n"
      ]
    },
    {
      "cell_type": "code",
      "source": [
        "import random\n",
        "\n",
        "#leitura da ordem da matriz\n",
        "n = int(input('Ordem da matriz: '))\n",
        "\n",
        "#criar a matriz com valores nulos\n",
        "m = [[None]*n for i in range(n)]\n",
        "\n",
        "#gerar a matriz com valores aleatorios\n",
        "for i in range(n):\n",
        "    for j in range(n):\n",
        "        m[i][j] = random.randint(1,20)\n",
        "\n",
        "#imprimir a matriz\n",
        "print('\\nMatriz:')\n",
        "for i in range(n):\n",
        "    for j in range(n):\n",
        "        print(f'{m[i][j]:4}',end='')\n",
        "    print()\n",
        "\n",
        "#imprimir a diagonal principal\n",
        "print('\\nDiagonal principal:')\n",
        "for i in range(n):\n",
        "    for j in range(n):\n",
        "        if i==j:\n",
        "            print(f'{m[i][j]:4}',end='')\n"
      ],
      "metadata": {
        "colab": {
          "base_uri": "https://localhost:8080/"
        },
        "id": "Lap6C9SgB-w6",
        "outputId": "0caa9887-be42-40bb-e93a-db63c4714c7e"
      },
      "execution_count": null,
      "outputs": [
        {
          "output_type": "stream",
          "name": "stdout",
          "text": [
            "Ordem da matriz: 5\n",
            "\n",
            "Matriz:\n",
            "   4  10   9   3   3\n",
            "   8   8  20   6  13\n",
            "  12  16   4   9  11\n",
            "   6  14   7  16  16\n",
            "   8  17   9   2  11\n",
            "\n",
            "Diagonal principal:\n",
            "   4   8   4  16  11"
          ]
        }
      ]
    },
    {
      "cell_type": "markdown",
      "metadata": {
        "id": "iZn1MyzzQ_sf"
      },
      "source": [
        "Outra versão (usando apenas um *for* para determinar a diagonal principal):"
      ]
    },
    {
      "cell_type": "code",
      "metadata": {
        "id": "mKkIG1TwRD8J",
        "colab": {
          "base_uri": "https://localhost:8080/"
        },
        "outputId": "33f538f4-fdcb-480f-9f1b-76019621e552"
      },
      "source": [
        "# Leitura da ordem da matriz quadrada\n",
        "n = int(input('Digite a ordem da matriz: '))\n",
        "\n",
        "# Criação da matriz\n",
        "m = [[None]*n for i in range(n)]\n",
        "\n",
        "# Leitura da matriz\n",
        "print('\\nDigite os elementos da matriz:')\n",
        "for i in range(n):\n",
        "    for j in range(n):\n",
        "        m[i][j] = int(input(f'm[{i}][{j}]: '))\n",
        "\n",
        "# Exibição da matriz\n",
        "print('\\nMatriz:')\n",
        "for i in range(n):\n",
        "    for j in range(n):\n",
        "        print(f'{m[i][j]:4}',end='')\n",
        "    print()\n",
        "\n",
        "# Exibição da diagonal principal\n",
        "print('\\nDiagonal Principal:')\n",
        "for i in range(n):\n",
        "    print(f'{m[i][i]:4}',end='')\n"
      ],
      "execution_count": null,
      "outputs": [
        {
          "output_type": "stream",
          "text": [
            "Digite a ordem da matriz: 3\n",
            "\n",
            "Digite os elementos da matriz:\n",
            "m[0][0]: 1\n",
            "m[0][1]: 2\n",
            "m[0][2]: 3\n",
            "m[1][0]: 4\n",
            "m[1][1]: 5\n",
            "m[1][2]: 6\n",
            "m[2][0]: 7\n",
            "m[2][1]: 8\n",
            "m[2][2]: 9\n",
            "\n",
            "Matriz:\n",
            "   1   2   3\n",
            "   4   5   6\n",
            "   7   8   9\n",
            "\n",
            "Diagonal Principal:\n",
            "   1   5   9"
          ],
          "name": "stdout"
        }
      ]
    },
    {
      "cell_type": "markdown",
      "metadata": {
        "id": "a9-9tlNp0ZDN"
      },
      "source": [
        "## Questão 3\t"
      ]
    },
    {
      "cell_type": "markdown",
      "metadata": {
        "id": "Po2Tw4jQ6wJ3"
      },
      "source": [
        "Escreva um programa que gere aleatoriamente uma matriz quadrada A (cuja ordem será lida) e gere uma matriz B (da mesma ordem de A), onde cada elemento de B corresponderá ao respectivo elemento de A somado a ele os seus índices, sendo que se o elemento for de alguma diagonal (principal ou secundária) deverá ser colocado 0 (zero).    \n",
        "Veja o exemplo a seguir:\n",
        "\n",
        "> ![matriz.png](data:image/png;base64,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)\n",
        "\n",
        "\n",
        "Ao final, imprima as duas matrizes (no formato de matriz)."
      ]
    },
    {
      "cell_type": "code",
      "metadata": {
        "id": "GL9FevMwiFx8",
        "colab": {
          "base_uri": "https://localhost:8080/"
        },
        "outputId": "8ab11bff-f0e4-42f4-a4f9-8903c6230f55"
      },
      "source": [
        "import random\n",
        "\n",
        "#leitura da ordem das matrizes\n",
        "ord = int(input('Ordem das matrizes: '))\n",
        "\n",
        "#inicialização das variáveis\n",
        "A = [[None]*ord for i in range(ord)]\n",
        "B = [[None]*ord for i in range(ord)]\n",
        "\n",
        "#geração aleatória da matriz A\n",
        "for lin in range(ord):\n",
        "    for col in range(ord):\n",
        "        A[lin][col] = random.randint(1,20)\n",
        "\n",
        "#geração da matriz B\n",
        "for lin in range(ord):\n",
        "    for col in range(ord):\n",
        "        if lin == col or lin + col == ord - 1:\n",
        "            B[lin][col] = 0\n",
        "        else:\n",
        "            B[lin][col] = A[lin][col] + lin + col\n",
        "\n",
        "#impressão da matriz A\n",
        "print('\\nMatriz A')\n",
        "for lin in range(ord):\n",
        "    for col in range(ord):\n",
        "        print(f'{A[lin][col]:3}',end='')\n",
        "    print()\n",
        "\n",
        "#impressão da matriz B\n",
        "print('\\nMatriz B')\n",
        "for lin in range(ord):\n",
        "    for col in range(ord):\n",
        "        print(f'{B[lin][col]:3}',end='')\n",
        "    print()\n"
      ],
      "execution_count": null,
      "outputs": [
        {
          "output_type": "stream",
          "name": "stdout",
          "text": [
            "Ordem das matrizes: 5\n",
            "\n",
            "Matriz A\n",
            "  3 15  6 15 14\n",
            "  2 14  9 14 11\n",
            " 15  5 16 20  2\n",
            "  5 12 18  5 12\n",
            "  6 16  2  1  1\n",
            "\n",
            "Matriz B\n",
            "  0 16  8 18  0\n",
            "  3  0 12  0 16\n",
            " 17  8  0 25  8\n",
            "  8  0 23  0 19\n",
            "  0 21  8  8  0\n"
          ]
        }
      ]
    },
    {
      "cell_type": "markdown",
      "metadata": {
        "id": "OwFlJqPwqoyc"
      },
      "source": [
        "##Questão 4 "
      ]
    },
    {
      "cell_type": "markdown",
      "metadata": {
        "id": "YnurKizu-ozN"
      },
      "source": [
        "Uma matriz transposta é a matriz que se obtém da troca de linhas por colunas de uma dada matriz.    \n",
        "Assim, dada uma matriz C de ordem m x n, a matriz transposta dela será representada por Ct de ordem n x m onde cada elemento de Ct[i,j] = C[j,i].    \n",
        "> ![imagem9.png](data:image/png;base64,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)\n",
        "\n",
        "\n",
        "\n",
        "Escreva um programa que preencha uma matriz 3x5 com valores inteiros fornecidos pelo usuário (ou gerados aleatoriamente) e gere a sua transposta.      \n",
        "Ao final, imprima as duas matrizes (no formato de matriz)."
      ]
    },
    {
      "cell_type": "code",
      "metadata": {
        "id": "nZRu4lMLbwgq",
        "colab": {
          "base_uri": "https://localhost:8080/"
        },
        "outputId": "4504fb41-c5eb-4def-c640-97108361a855"
      },
      "source": [
        "import random\n",
        "\n",
        "x = 3  # número de linhas da matriz M \n",
        "y = 5  # número de colunas da matriz M\n",
        "\n",
        "# Criação das matrizes\n",
        "m = [[None]*y for i in range(x)]\n",
        "t = [[None]*x for i in range(y)]\n",
        "\n",
        "# Leitura da matriz M\n",
        "print('Digite os elementos da Matriz M:')\n",
        "for i in range(x):\n",
        "    for j in range(y):\n",
        "        m[i][j] = random.randint(1,30)\n",
        "\n",
        "# Geração da matriz T (transposta)\n",
        "for i in range(x):\n",
        "    for j in range(y):\n",
        "        t[j][i] = m[i][j]\n",
        "\n",
        "# Impressão da matriz M\n",
        "print('\\nMatriz M:')\n",
        "for i in range(x):\n",
        "    for j in range(y):\n",
        "        print(f'{m[i][j]:4}',end='')\n",
        "    print()\n",
        "      \n",
        "# Impressão da matriz T\n",
        "print('\\nMatriz T (transposta):')\n",
        "for i in range(y):\n",
        "    for j in range(x):\n",
        "        print(f'{t[i][j]:4}',end='')\n",
        "    print()\n"
      ],
      "execution_count": null,
      "outputs": [
        {
          "output_type": "stream",
          "name": "stdout",
          "text": [
            "Digite os elementos da Matriz M:\n",
            "\n",
            "Matriz M:\n",
            "   5   9  29  20  27\n",
            "   6  15   9  25  23\n",
            "  21  21  20  29  25\n",
            "\n",
            "Matriz T (transposta):\n",
            "   5   6  21\n",
            "   9  15  21\n",
            "  29   9  20\n",
            "  20  25  29\n",
            "  27  23  25\n"
          ]
        }
      ]
    },
    {
      "cell_type": "markdown",
      "metadata": {
        "id": "FtJ6-r5u--WY"
      },
      "source": [
        "##Questão 5"
      ]
    },
    {
      "cell_type": "markdown",
      "metadata": {
        "id": "4qs9H8FlH46t"
      },
      "source": [
        "Escreva um programa que:\n",
        "*\tCrie uma matriz de ordem 20 x 4 e armazene nela as 3 notas dos 20 alunos de uma turma e a média de cada um deles.     \n",
        " * As notas serão lidas e armazenadas nas 3 primeiras colunas da matriz;      \n",
        " * As médias serão calculadas e armazenadas na 4ª coluna da matriz.    \n",
        "\n",
        "*   Imprima as notas dos alunos e suas respectivas médias (no formato de matriz);\n",
        "*\tCalcule e imprima a média geral da turma;\n",
        "*\tCalcule e imprima o número de alunos com média superior à média geral da turma. \n"
      ]
    },
    {
      "cell_type": "code",
      "metadata": {
        "id": "Uq8f2NGhX9fk",
        "colab": {
          "base_uri": "https://localhost:8080/"
        },
        "outputId": "68b5f160-6e6e-4fdc-cd4f-6a984f7a6d27"
      },
      "source": [
        "#criação da matriz\n",
        "na = 2\n",
        "nn = 3\n",
        "mat = [[None]*(nn+1) for i in range(na)]\n",
        "\n",
        "#leitura das notas\n",
        "print('Digita as notas dos alunos')\n",
        "for i in range(na):\n",
        "    print(f'\\n{i+1}º ALUNO:')\n",
        "    for j in range(nn):\n",
        "        mat[i][j] = float(input(f'{j+1}ª Nota: '))\n",
        "\n",
        "#cálculo das médias\n",
        "for i in range(na):\n",
        "    mat[i][nn] = (mat[i][0] + mat[i][1] + mat[i][2]) / nn \n",
        "\n",
        "#impressão da matriz\n",
        "print('\\n          1ª NOTA  2ª NOTA  3ª NOTA    MÉDIA')\n",
        "for i in range(na):\n",
        "    print(f'{i+1}º ALUNO',end='')\n",
        "    for j in range(nn+1):\n",
        "        print(f'{mat[i][j]:9.1f}',end='')\n",
        "    print()\n",
        "\n",
        "#cálculo da média geral da turma\n",
        "soma = 0\n",
        "for i in range(na):\n",
        "    soma += mat[i][nn]\n",
        "media = soma / na\n",
        "print(f'\\nMédia geral da turma: {media:.1f}')\n",
        "\n",
        "#cálculo do número de alunos com média superior à média geral da turma\n",
        "cont = 0\n",
        "for i in range(na):\n",
        "    if mat[i][nn] > media:\n",
        "        cont += 1\n",
        "print(f'\\nNúmero de alunos com média superior à média geral da turma: {cont}')\n",
        "\n"
      ],
      "execution_count": null,
      "outputs": [
        {
          "output_type": "stream",
          "name": "stdout",
          "text": [
            "Digita as notas dos alunos\n",
            "\n",
            "1º ALUNO:\n",
            "1ª Nota: 7\n",
            "2ª Nota: 8\n",
            "3ª Nota: 9\n",
            "\n",
            "2º ALUNO:\n",
            "1ª Nota: 6\n",
            "2ª Nota: 7\n",
            "3ª Nota: 8\n",
            "\n",
            "          1ª NOTA  2ª NOTA  3ª NOTA    MÉDIA\n",
            "1º ALUNO      7.0      8.0      9.0      8.0\n",
            "2º ALUNO      6.0      7.0      8.0      7.0\n",
            "\n",
            "Média geral da turma: 7.5\n",
            "\n",
            "Número de alunos com média superior à média geral da turma: 1\n"
          ]
        }
      ]
    },
    {
      "cell_type": "markdown",
      "metadata": {
        "id": "vRZitbxMOXHl"
      },
      "source": [
        "Outra versão:    \n",
        "* gerando as notas aleatoriamente ao invés de leitura\n",
        "* permitindo alterar o número de notas sem precisar mexer no código      "
      ]
    },
    {
      "cell_type": "code",
      "metadata": {
        "colab": {
          "base_uri": "https://localhost:8080/"
        },
        "outputId": "8f2e166c-a4f6-4136-a238-3ab7d095ab89",
        "id": "o6SMIPBbOMFG"
      },
      "source": [
        "import random\n",
        "\n",
        "#criação da matriz\n",
        "na = 20\n",
        "nn = 3\n",
        "mat = [[None]*(nn+1) for i in range(na)]\n",
        "\n",
        "#geração aletória das notas\n",
        "for i in range(na):\n",
        "    for j in range(nn):\n",
        "        mat[i][j] = random.randint(0,100)\n",
        "\n",
        "#cálculo das médias de cada aluno\n",
        "for i in range(na):\n",
        "    soma = 0    \n",
        "    for j in range(nn):\n",
        "        soma += mat[i][j]\n",
        "    mat[i][nn] = round(soma/nn)\n",
        "\n",
        "#cabeçalho das colunas\n",
        "print(' '*10,end='')\n",
        "for j in range(nn):\n",
        "    print(f' {j+1}ª NOTA ',end='')\n",
        "print('   MÉDIA')\n",
        "\n",
        "#impressão da matriz\n",
        "for i in range(na):\n",
        "    print(f'{i+1:2}º ALUNO',end='')  #cabeçalho das linhas\n",
        "    for j in range(nn+1):\n",
        "        print(f'{mat[i][j]:9}',end='')\n",
        "    print()\n",
        "\n",
        "#cálculo da média geral da turma\n",
        "soma = 0\n",
        "for i in range(na):\n",
        "    soma += mat[i][nn]\n",
        "media = round(soma/na)\n",
        "print(f'\\nMédia geral da turma: {media}')\n",
        "\n",
        "#cálculo do número de alunos com média superior à média geral da turma\n",
        "cont = 0\n",
        "for i in range(na):\n",
        "    if mat[i][nn] > media:\n",
        "        cont += 1\n",
        "print(f'\\nNúmero de alunos com média superior à média geral da turma: {cont}')\n"
      ],
      "execution_count": null,
      "outputs": [
        {
          "output_type": "stream",
          "name": "stdout",
          "text": [
            "           1ª NOTA  2ª NOTA  3ª NOTA    MÉDIA\n",
            " 1º ALUNO       33       73       64       57\n",
            " 2º ALUNO       30       92       84       69\n",
            " 3º ALUNO       12       38       71       40\n",
            " 4º ALUNO       63       69       87       73\n",
            " 5º ALUNO       42       55       36       44\n",
            " 6º ALUNO       63       78       98       80\n",
            " 7º ALUNO       58        2       57       39\n",
            " 8º ALUNO       29       94       26       50\n",
            " 9º ALUNO       53       83       66       67\n",
            "10º ALUNO       47       90       75       71\n",
            "11º ALUNO       86        4        0       30\n",
            "12º ALUNO       99       56       22       59\n",
            "13º ALUNO       87        5       92       61\n",
            "14º ALUNO       54       26       74       51\n",
            "15º ALUNO       21       22       40       28\n",
            "16º ALUNO       17       22        9       16\n",
            "17º ALUNO       42       11        5       19\n",
            "18º ALUNO       55       33       61       50\n",
            "19º ALUNO       43       29       15       29\n",
            "20º ALUNO       23        8        3       11\n",
            "\n",
            "Média geral da turma: 47\n",
            "\n",
            "Número de alunos com média superior à média geral da turma: 11\n"
          ]
        }
      ]
    }
  ]
}