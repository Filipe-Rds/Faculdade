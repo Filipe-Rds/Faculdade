{
  "nbformat": 4,
  "nbformat_minor": 0,
  "metadata": {
    "colab": {
      "provenance": [],
      "collapsed_sections": [],
      "include_colab_link": true
    },
    "kernelspec": {
      "name": "python3",
      "display_name": "Python 3"
    }
  },
  "cells": [
    {
      "cell_type": "markdown",
      "metadata": {
        "id": "view-in-github",
        "colab_type": "text"
      },
      "source": [
        "<a href=\"https://colab.research.google.com/github/Filipe-Rds/Faculdade/blob/main/Algoritmo%20e%20Programa%C3%A7%C3%A3o%20Estruturada/Listas%20Resolvidas/Vetor.ipynb\" target=\"_parent\"><img src=\"https://colab.research.google.com/assets/colab-badge.svg\" alt=\"Open In Colab\"/></a>"
      ]
    },
    {
      "cell_type": "markdown",
      "metadata": {
        "id": "PO8efkjRUtjo"
      },
      "source": [
        "**IFPB - CAMPUS JOÃO PESSOA    \n",
        "CURSO: SISTEMAS PARA INTERNET     \n",
        "DISCIPLINA: ALGORITMOS E PROGRAMAÇÃO ESTRUTURADA     \n",
        "PROFESSORES: CANDIDO EGYPTO / EDEMBERG ROCHA**"
      ]
    },
    {
      "cell_type": "markdown",
      "metadata": {
        "id": "VVFFZyE0cJBJ"
      },
      "source": [
        "# LISTA DE EXERCÍCIOS (RESOLVIDA) - VETOR"
      ]
    },
    {
      "cell_type": "markdown",
      "metadata": {
        "id": "S9MjYNiFbGDT"
      },
      "source": [
        "##Questão 1"
      ]
    },
    {
      "cell_type": "markdown",
      "metadata": {
        "id": "mISrF8_Z9w8L"
      },
      "source": [
        "Escreva um programa que leia um vetor A de N números inteiros (N será lido) e um outro inteiro K, construa e exiba um outro vetor B cujos elementos são os respectivos elementos de A multiplicados por K.     \n",
        "Ex: A = [1,2,3], K = 5, B = [5,10,15]. "
      ]
    },
    {
      "cell_type": "code",
      "metadata": {
        "id": "U8_NLVBp97Hu",
        "colab": {
          "base_uri": "https://localhost:8080/"
        },
        "outputId": "96d616ca-90ff-4cf3-cd81-ab89087d504f"
      },
      "source": [
        "#leitura do tamanho do vetor\n",
        "n = int(input('Digite o tamanho do vetor A: '))\n",
        "\n",
        "#inicialização dos vetores A e B\n",
        "a = [None]*n\n",
        "b = [None]*n\n",
        "\n",
        "#leitura do vetor A\n",
        "print('Digite os elementos do vetor A:')\n",
        "for i in range(n):\n",
        "    a[i] = int(input(f'A[{i}]: '))\n",
        "\n",
        "#leitura do valor K\n",
        "k = int(input('Digite o valor de K: '))\n",
        "\n",
        "#geração do vetor B\n",
        "for i in range(n):\n",
        "    b[i] = a[i] * k\n",
        "\n",
        "#exibição dos resultados\n",
        "print()\n",
        "print('A =',a)\n",
        "print('K =',k)\n",
        "print('B =',b)\n"
      ],
      "execution_count": null,
      "outputs": [
        {
          "output_type": "stream",
          "text": [
            "Digite o tamanho do vetor A: 3\n",
            "Digite os elementos do vetor A:\n",
            "A[0]: 1\n",
            "A[1]: 2\n",
            "A[2]: 3\n",
            "Digite o valor de K: 5\n",
            "\n",
            "A = [1, 2, 3]\n",
            "K = 5\n",
            "B = [5, 10, 15]\n"
          ],
          "name": "stdout"
        }
      ]
    },
    {
      "cell_type": "markdown",
      "metadata": {
        "id": "VEOnOHOvzNVT"
      },
      "source": [
        "##Questão 2"
      ]
    },
    {
      "cell_type": "markdown",
      "metadata": {
        "id": "4uIk1i5Q-ZIg"
      },
      "source": [
        "Escreva um programa que leia um vetor V (contendo 30 inteiros) e um valor inteiro K, calcule e exiba a quantidade de ocorrências de K dentro de V. "
      ]
    },
    {
      "cell_type": "code",
      "metadata": {
        "id": "nvF2s4cn0rva",
        "colab": {
          "base_uri": "https://localhost:8080/",
          "height": 170
        },
        "outputId": "6e853f56-ab41-47b3-c46e-669d28c1e74f"
      },
      "source": [
        "#testando com 5 ao invés de 30\n",
        "n = 5  \n",
        "\n",
        "#inicialização do vetor V\n",
        "v = [None]*n\n",
        "\n",
        "#leitura do vetor V\n",
        "print('Digite os elementos do vetor A:')\n",
        "for i in range(n):\n",
        "    v[i] = int(input())\n",
        "\n",
        "#leitura do valor K\n",
        "k = int(input('Digite o valor de K: '))\n",
        "\n",
        "#contagem das ocorrências\n",
        "cont = 0\n",
        "for e in v:\n",
        "    if e == k:\n",
        "        cont += 1\n",
        "\n",
        "#exibição do resultado\n",
        "print(f'\\nNº de ocorrências: {cont}')\n"
      ],
      "execution_count": null,
      "outputs": [
        {
          "output_type": "stream",
          "text": [
            "Digite os elementos do vetor A:\n",
            "10\n",
            "20\n",
            "30\n",
            "10\n",
            "40\n",
            "Digite o valor de K: 10\n",
            "\n",
            "Nº de ocorrências: 2\n"
          ],
          "name": "stdout"
        }
      ]
    },
    {
      "cell_type": "markdown",
      "metadata": {
        "id": "DzaeISo0ko47"
      },
      "source": [
        "Versão com o vetor gerado com valores aleatórios"
      ]
    },
    {
      "cell_type": "code",
      "metadata": {
        "colab": {
          "base_uri": "https://localhost:8080/"
        },
        "id": "ptSQXmbGknF8",
        "outputId": "a9a05998-f414-4e3a-fe74-36160619a962"
      },
      "source": [
        "import random\n",
        "\n",
        "n = 30  \n",
        "\n",
        "#inicialização do vetor V\n",
        "v = [None]*n\n",
        "\n",
        "#geração aleatória do vetor V\n",
        "for i in range(n):\n",
        "    v[i] = random.randint(1,10)\n",
        "\n",
        "#exibição do vetor V\n",
        "print('V =',v)\n",
        "\n",
        "#leitura do valor K\n",
        "k = int(input('\\nDigite o valor de K: '))\n",
        "\n",
        "#contagem das ocorrências\n",
        "cont = 0\n",
        "for e in v:\n",
        "    if e == k:\n",
        "        cont += 1 \n",
        "\n",
        "#exibição do resultado\n",
        "print(f'\\nNº de ocorrências: {cont}')\n"
      ],
      "execution_count": null,
      "outputs": [
        {
          "output_type": "stream",
          "text": [
            "V = [5, 10, 3, 6, 2, 10, 6, 5, 8, 9, 2, 10, 2, 4, 4, 3, 10, 10, 3, 5, 3, 8, 7, 2, 3, 7, 10, 10, 9, 1]\n",
            "\n",
            "Digite o valor de K: 3\n",
            "\n",
            "Nº de ocorrências: 5\n"
          ],
          "name": "stdout"
        }
      ]
    },
    {
      "cell_type": "markdown",
      "metadata": {
        "id": "a9-9tlNp0ZDN"
      },
      "source": [
        "## Questão 3\t"
      ]
    },
    {
      "cell_type": "markdown",
      "metadata": {
        "id": "YnurKizu-ozN"
      },
      "source": [
        "Escreva um programa que leia um vetor V contendo N elementos inteiros (N será lido) e um valor inteiro K, verifique e exiba se o K está ou não no vetor.  Se estiver, informe em que posição (índice).      \n",
        "Obs: K pode se repetir no vetor, nesse caso, mostre todas as posições onde o K aparece."
      ]
    },
    {
      "cell_type": "code",
      "metadata": {
        "colab": {
          "base_uri": "https://localhost:8080/"
        },
        "outputId": "ec7cac7a-ea6e-44de-95a5-c395c96ee56e",
        "id": "NZn9wFiFw8Mf"
      },
      "source": [
        "import random\n",
        "\n",
        "n = int(input('Digite o número de elementos do vetor: '))  \n",
        "\n",
        "#inicialização do vetor V\n",
        "v = [None]*n\n",
        "\n",
        "#geração aleatória do vetor V\n",
        "for i in range(n):\n",
        "    v[i] = random.randint(1,10)\n",
        "\n",
        "#exibição do vetor V\n",
        "print('V =',v)\n",
        "\n",
        "#leitura do valor K\n",
        "k = int(input('\\nDigite o valor de K: '))\n",
        "\n",
        "existe = False\n",
        "for i in range(n):\n",
        "    if v[i] == k:\n",
        "        existe = True\n",
        "        break\n",
        "\n",
        "if existe:\n",
        "    print(f'\\nO valor {k} encontra-se nos seguintes índices:')\n",
        "    for i in range(n):\n",
        "        if v[i] == k:\n",
        "            print(i,end=' ')\n",
        "else:\n",
        "    print(f'\\nO valor {k} não se encontra no vetor.')\n"
      ],
      "execution_count": null,
      "outputs": [
        {
          "output_type": "stream",
          "name": "stdout",
          "text": [
            "Digite o número de elementos do vetor: 10\n",
            "V = [1, 8, 2, 2, 6, 9, 5, 4, 1, 1]\n",
            "\n",
            "Digite o valor de K: 7\n",
            "\n",
            "O valor 7 não se encontra no vetor.\n"
          ]
        }
      ]
    },
    {
      "cell_type": "code",
      "metadata": {
        "id": "nZRu4lMLbwgq",
        "colab": {
          "base_uri": "https://localhost:8080/"
        },
        "outputId": "7e8bb32c-ffaa-4428-9d61-8f0a124d8695"
      },
      "source": [
        "#leitura do tamanho do vetor V\n",
        "n = int(input('Digite o tamanho do vetor V: '))\n",
        "\n",
        "#inicialização do vetor V\n",
        "v = [None]*n\n",
        "\n",
        "#leitura do vetor V\n",
        "print('\\nDigite os elementos do vetor A:')\n",
        "for i in range(n):\n",
        "    v[i] = int(input())\n",
        "\n",
        "#leitura do valor K\n",
        "k = int(input('\\nDigite o valor de K: '))\n",
        "\n",
        "#verificação se K está em V\n",
        "existe = False\n",
        "for e in v:\n",
        "    if e == k:\n",
        "        existe = True\n",
        "        break\n",
        "\n",
        "#exibição dos resultados\n",
        "if existe:   # if existe == True:\n",
        "    print(f'\\nO valor {k} está no vetor nas seguintes posições:')\n",
        "    for i in range(n):\n",
        "        if v[i] == k:\n",
        "            print(i)\n",
        "else:\n",
        "    print(f'\\nO valor {k} não está no vetor')"
      ],
      "execution_count": null,
      "outputs": [
        {
          "output_type": "stream",
          "text": [
            "Digite o tamanho do vetor V: 3\n",
            "\n",
            "Digite os elementos do vetor A:\n",
            "v[0]:1\n",
            "v[1]:2\n",
            "v[2]:3\n",
            "\n",
            "Digite o valor de K: 5\n",
            "\n",
            "O valor 5 não está no vetor\n"
          ],
          "name": "stdout"
        }
      ]
    },
    {
      "cell_type": "markdown",
      "metadata": {
        "id": "OwFlJqPwqoyc"
      },
      "source": [
        "##Questão 4 "
      ]
    },
    {
      "cell_type": "markdown",
      "metadata": {
        "id": "Tm2rNLKQ-15f"
      },
      "source": [
        "Escreva um programa que leia 10 números e armazene-os em um vetor.     \n",
        "Exiba: \n",
        "* Os números que estão nos índices pares; \n",
        "* Os números que estão nos índices ímpares.\n"
      ]
    },
    {
      "cell_type": "code",
      "metadata": {
        "id": "eHx4nTUHRcFY",
        "colab": {
          "base_uri": "https://localhost:8080/"
        },
        "outputId": "cb17e119-2d86-4c54-ce9d-c2b781724793"
      },
      "source": [
        "# inicialização das variáveis\n",
        "n = 10\n",
        "numeros = [None]*n\n",
        "\n",
        "# leitura dos números \n",
        "for i in range(n):\n",
        "    numeros[i] = int(input(f'numero[{i}]: '))\n",
        "\n",
        "# exibição dos números que estão nos índices pares\n",
        "print('\\nNúmeros que estão nos índices pares:')\n",
        "for i in range(0,n,2):\n",
        "    print(numeros[i])\n",
        "\n",
        "# exibição dos números que estão nos índices ímpares\n",
        "print('\\nNúmeros que estão nos índices ímpares:')\n",
        "for i in range(1,n,2):\n",
        "    print(numeros[i])\n",
        "    "
      ],
      "execution_count": null,
      "outputs": [
        {
          "output_type": "stream",
          "text": [
            "numero[0]: 10\n",
            "numero[1]: 20\n",
            "numero[2]: 30\n",
            "numero[3]: 40\n",
            "numero[4]: 50\n",
            "numero[5]: 60\n",
            "numero[6]: 70\n",
            "numero[7]: 80\n",
            "numero[8]: 90\n",
            "numero[9]: 100\n",
            "\n",
            "Números que estão nos índices pares:\n",
            "10\n",
            "30\n",
            "50\n",
            "70\n",
            "90\n",
            "\n",
            "Números que estão nos índices ímpares:\n",
            "20\n",
            "40\n",
            "60\n",
            "80\n",
            "100\n"
          ],
          "name": "stdout"
        }
      ]
    },
    {
      "cell_type": "markdown",
      "metadata": {
        "id": "sw7MqDf2fERY"
      },
      "source": [
        "Outra versão:"
      ]
    },
    {
      "cell_type": "code",
      "metadata": {
        "id": "DsZ8w-GIfG1H",
        "colab": {
          "base_uri": "https://localhost:8080/"
        },
        "outputId": "eb44f37f-bf44-4b5a-8983-5e69b3aa254c"
      },
      "source": [
        "# inicialização das variáveis\n",
        "n = 10\n",
        "numeros = [None]*n\n",
        "\n",
        "# leitura dos números \n",
        "for i in range(n):\n",
        "    numeros[i] = int(input('numero[' + str(i) + ']: '))\n",
        "\n",
        "# exibição dos números que estão nos índices pares\n",
        "print('\\nNúmeros que estão nos índices pares:')\n",
        "for i in range(n):\n",
        "    if i % 2 == 0:\n",
        "        print(numeros[i])\n",
        "\n",
        "# exibição dos números que estão nos índices ímpares\n",
        "print('\\nNúmeros que estão nos índices ímpares:')\n",
        "for i in range(n):\n",
        "    if i % 2 == 1:\n",
        "        print(numeros[i])\n",
        "    "
      ],
      "execution_count": null,
      "outputs": [
        {
          "output_type": "stream",
          "name": "stdout",
          "text": [
            "numero[0]: 10\n",
            "numero[1]: 20\n",
            "numero[2]: 30\n",
            "numero[3]: 40\n",
            "numero[4]: 50\n",
            "numero[5]: 60\n",
            "numero[6]: 70\n",
            "numero[7]: 80\n",
            "numero[8]: 90\n",
            "numero[9]: 100\n",
            "\n",
            "Números que estão nos índices pares:\n",
            "10\n",
            "30\n",
            "50\n",
            "70\n",
            "90\n",
            "\n",
            "Números que estão nos índices ímpares:\n",
            "20\n",
            "40\n",
            "60\n",
            "80\n",
            "100\n"
          ]
        }
      ]
    },
    {
      "cell_type": "markdown",
      "metadata": {
        "id": "FtJ6-r5u--WY"
      },
      "source": [
        "##Questão 5"
      ]
    },
    {
      "cell_type": "markdown",
      "metadata": {
        "id": "AGRIMfsnsn7W"
      },
      "source": [
        "Escreva um programa que receba um vetor V de N números inteiros (N será lido), determine e exiba o maior e o menor elemento deste vetor e seus respectivos índices.      \n",
        "Obs: suponha a inexistência de valores repetidos. "
      ]
    },
    {
      "cell_type": "code",
      "metadata": {
        "id": "DDHdyHOCRrJi",
        "colab": {
          "base_uri": "https://localhost:8080/"
        },
        "outputId": "dd1cf2c8-837d-4714-ca94-e4fc65b1a579"
      },
      "source": [
        "# leitura do tamanho do vetor\n",
        "n = int(input('Digite o tamanho do vetor: '))\n",
        "\n",
        "# inicialização do vetor\n",
        "v = [None]*n\n",
        "\n",
        "# leitura dos elementos do vetor\n",
        "print(f'Digite os {n} elementos do vetor:')\n",
        "for i in range(n):\n",
        "    v[i] = int(input())\n",
        "\n",
        "# inicializando as variáveis com o valor e o índice do 1º elemento\n",
        "maior = v[0]\n",
        "indMa = 0\n",
        "menor = v[0]\n",
        "indMe = 0\n",
        "\n",
        "# acessando do 2º ao último elemento do vetor  \n",
        "for i in range(1,n):\n",
        "    \n",
        "    # testando o valor da vez com o atual maior\n",
        "    if v[i] > maior: \n",
        "        maior = v[i]\n",
        "        indMa = i\n",
        "\n",
        "    # testando o valor da vez com o atual menor    \n",
        "    if v[i] < menor: \n",
        "        menor = v[i]\n",
        "        indMe = i\n",
        "\n",
        "# exibição dos resultados\n",
        "print(f'\\nVetor = {v}')\n",
        "print(f'\\nMaior = {maior}')\n",
        "print(f'Indice = {indMa}')\n",
        "print(f'\\nMenor = {menor}')\n",
        "print(f'Indice = {indMe}')\n"
      ],
      "execution_count": null,
      "outputs": [
        {
          "output_type": "stream",
          "text": [
            "Digite o tamanho do vetor: 5\n",
            "Digite os 5 elementos do vetor:\n",
            "32\n",
            "18\n",
            "55\n",
            "27\n",
            "40\n",
            "\n",
            "Vetor = [32, 18, 55, 27, 40]\n",
            "\n",
            "Maior = 55\n",
            "Indice = 2\n",
            "\n",
            "Menor = 18\n",
            "Indice = 1\n"
          ],
          "name": "stdout"
        }
      ]
    },
    {
      "cell_type": "markdown",
      "metadata": {
        "id": "ZnC4st26F15T"
      },
      "source": [
        "Outra versão:"
      ]
    },
    {
      "cell_type": "code",
      "metadata": {
        "id": "MPXKYMK4Fzcs",
        "colab": {
          "base_uri": "https://localhost:8080/"
        },
        "outputId": "1558b130-fe4d-4215-cd5e-667f2c264dbf"
      },
      "source": [
        "# leitura do tamanho do vetor\n",
        "n = int(input('Digite o tamanho do vetor: '))\n",
        "\n",
        "# inicialização do vetor\n",
        "v = [None]*n\n",
        "\n",
        "# leitura dos elementos do vetor\n",
        "print(f'Digite os {n} elementos do vetor:')\n",
        "for i in range(n):\n",
        "    v[i] = int(input())\n",
        "\n",
        "# inicializando as variáveis com o índice do 1º elemento (0)    \n",
        "indMa = 0\n",
        "indMe = 0\n",
        "\n",
        "# acessando do 2º ao último elemento do vetor  \n",
        "for i in range(1,n):\n",
        "\n",
        "    # testando o valor da vez com o valor da atual posição do maior\n",
        "    if v[i] > v[indMa]:\n",
        "        indMa = i\n",
        "    # testando o valor da vez com o valor da atual posição do menor\n",
        "    if v[i] < v[indMe]:\n",
        "        indMe = i\n",
        "\n",
        "# exibição dos resultados\n",
        "print(f'\\nVetor = {v}')\n",
        "print(f'\\nMaior = {maior}')\n",
        "print(f'Indice = {indMa}')\n",
        "print(f'\\nMenor = {menor}')\n",
        "print(f'Indice = {indMe}')\n"
      ],
      "execution_count": null,
      "outputs": [
        {
          "output_type": "stream",
          "text": [
            "Digite o tamanho do vetor: 5\n",
            "Digite os 5 elementos do vetor:\n",
            "32\n",
            "18\n",
            "55\n",
            "27\n",
            "40\n",
            "\n",
            "Vetor = [32, 18, 55, 27, 40]\n",
            "\n",
            "Maior = 55\n",
            "Indice = 2\n",
            "\n",
            "Menor = 18\n",
            "Indice = 1\n"
          ],
          "name": "stdout"
        }
      ]
    },
    {
      "cell_type": "markdown",
      "metadata": {
        "id": "fAfMfQKM_jPo"
      },
      "source": [
        "##Questão 6"
      ]
    },
    {
      "cell_type": "markdown",
      "metadata": {
        "id": "BHXVd8W0Ls9K"
      },
      "source": [
        "Escreva um programa que leia um vetor de N números inteiros (N será lido), inverta a ordem dos elementos do vetor e exiba o vetor invertido.     \n",
        "Ex: V = [1, 3, 5, 7], após a inversão: V = [7, 5, 3, 1].      \n",
        "Obs: É necessário inverter os elementos do vetor, não basta imprimi-los em ordem inversa! "
      ]
    },
    {
      "cell_type": "code",
      "metadata": {
        "id": "Oc_T6l5rR2iZ",
        "colab": {
          "base_uri": "https://localhost:8080/",
          "height": 187
        },
        "outputId": "671874c9-bea3-43e8-f61d-d13b9a516837"
      },
      "source": [
        "#leitura do tamanho do vetor\n",
        "n = int(input('Digite o tamanho do vetor: '))\n",
        "\n",
        "#inicialização do vetor\n",
        "v = [None]*n\n",
        "\n",
        "#leitura dos elementos do vetor\n",
        "print(f'Digite os {n} elementos do vetor:')\n",
        "for i in range(n):\n",
        "    v[i] = int(input())\n",
        "\n",
        "#exibição do vetor antes da inversão\n",
        "print(f'\\nAntes da inversão: {v}')\n",
        "\n",
        "#inversão da ordem dos elementos do vetor\n",
        "j = n-1\n",
        "for i in range(n//2):\n",
        "    aux = v[i]\n",
        "    v[i] = v[j]\n",
        "    v[j] = aux\n",
        "    j = j-1\n",
        "\n",
        "#exibição do vetor depois da inversão\n",
        "print(f'\\nDepois da inversão: {v}')\n"
      ],
      "execution_count": null,
      "outputs": [
        {
          "output_type": "stream",
          "text": [
            "Digite o tamanho do vetor: 4\n",
            "Digite os 4 elementos do vetor:\n",
            "1\n",
            "3\n",
            "5\n",
            "7\n",
            "\n",
            "Antes da inversão: [1, 3, 5, 7]\n",
            "\n",
            "Depois da inversão: [7, 5, 3, 1]\n"
          ],
          "name": "stdout"
        }
      ]
    },
    {
      "cell_type": "code",
      "metadata": {
        "colab": {
          "base_uri": "https://localhost:8080/"
        },
        "outputId": "8a4d904d-1874-4d2e-c83e-cd3fdde368b6",
        "id": "4tYd7coL7bgH"
      },
      "source": [
        "# OUTRA VERSÃO\n",
        "\n",
        "#leitura do tamanho do vetor\n",
        "n = int(input('Digite o tamanho do vetor: '))\n",
        "\n",
        "#inicialização do vetor\n",
        "v = [None]*n\n",
        "\n",
        "#leitura dos elementos do vetor\n",
        "print(f'Digite os {n} elementos do vetor:')\n",
        "for i in range(n):\n",
        "    v[i] = int(input())\n",
        "\n",
        "#exibição do vetor antes da inversão\n",
        "print(f'\\nAntes da inversão: {v}')\n",
        "\n",
        "#inversão da ordem dos elementos do vetor\n",
        "for i in range(n//2):\n",
        "    aux = v[i]\n",
        "    v[i] = v[n-i-1]\n",
        "    v[n-i-1] = aux\n",
        "\n",
        "#exibição do vetor depois da inversão\n",
        "print(f'\\nDepois da inversão: {v}')\n"
      ],
      "execution_count": null,
      "outputs": [
        {
          "output_type": "stream",
          "name": "stdout",
          "text": [
            "Digite o tamanho do vetor: 6\n",
            "Digite os 6 elementos do vetor:\n",
            "10\n",
            "20\n",
            "30\n",
            "40\n",
            "56\n",
            "60\n",
            "\n",
            "Antes da inversão: [10, 20, 30, 40, 56, 60]\n",
            "\n",
            "Depois da inversão: [60, 56, 40, 30, 20, 10]\n"
          ]
        }
      ]
    }
  ]
}