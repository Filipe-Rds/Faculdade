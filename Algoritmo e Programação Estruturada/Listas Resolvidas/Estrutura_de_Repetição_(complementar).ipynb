{
  "nbformat": 4,
  "nbformat_minor": 0,
  "metadata": {
    "colab": {
      "provenance": [],
      "collapsed_sections": [],
      "include_colab_link": true
    },
    "kernelspec": {
      "name": "python3",
      "display_name": "Python 3"
    }
  },
  "cells": [
    {
      "cell_type": "markdown",
      "metadata": {
        "id": "view-in-github",
        "colab_type": "text"
      },
      "source": [
        "<a href=\"https://colab.research.google.com/github/Filipe-Rds/Faculdade/blob/main/Algoritmo%20e%20Programa%C3%A7%C3%A3o%20Estruturada/Listas%20Resolvidas/Estrutura_de_Repeti%C3%A7%C3%A3o_(complementar).ipynb\" target=\"_parent\"><img src=\"https://colab.research.google.com/assets/colab-badge.svg\" alt=\"Open In Colab\"/></a>"
      ]
    },
    {
      "cell_type": "markdown",
      "metadata": {
        "id": "PO8efkjRUtjo"
      },
      "source": [
        "**IFPB - CAMPUS JOÃO PESSOA    \n",
        "CURSO: SISTEMAS PARA INTERNET     \n",
        "DISCIPLINA: ALGORITMOS E PROGRAMAÇÃO ESTRUTURADA     \n",
        "PROFESSORES: CANDIDO EGYPTO / EDEMBERG ROCHA**"
      ]
    },
    {
      "cell_type": "markdown",
      "metadata": {
        "id": "VVFFZyE0cJBJ"
      },
      "source": [
        "# LISTA DE EXERCÍCIOS (RESOLVIDA) – ESTRUTURA DE REPETIÇÃO (COMPLEMENTAR)"
      ]
    },
    {
      "cell_type": "markdown",
      "metadata": {
        "id": "S9MjYNiFbGDT"
      },
      "source": [
        "##Questão 1"
      ]
    },
    {
      "cell_type": "markdown",
      "metadata": {
        "id": "mISrF8_Z9w8L"
      },
      "source": [
        "Faça um programa que leia um número N, calcule e mostre os N primeiros termos da sequência de Fibonacci (0, 1, 1, 2, 3, 5, 8, 13, ...).     \n",
        "O valor lido para N sempre será maior ou igual a 2."
      ]
    },
    {
      "cell_type": "code",
      "metadata": {
        "id": "U8_NLVBp97Hu",
        "colab": {
          "base_uri": "https://localhost:8080/"
        },
        "outputId": "2c7e4f95-105f-4506-b78d-d1145f5c4466"
      },
      "source": [
        "n = int(input('Digite o número de termos desejado: '))\n",
        "a = 0\n",
        "b = 1\n",
        "\n",
        "print('Sequência de Fibonacci:',a,b,end=' ')\n",
        "\n",
        "for i in range (3,n+1):\n",
        "    c = a + b\n",
        "    print(c,end=' ')\n",
        "    a = b\n",
        "    b = c \n"
      ],
      "execution_count": null,
      "outputs": [
        {
          "output_type": "stream",
          "name": "stdout",
          "text": [
            "Digite o número de termos desejado: 10\n",
            "Sequência de Fibonacci: 0 1 1 2 3 5 8 13 21 34 "
          ]
        }
      ]
    },
    {
      "cell_type": "markdown",
      "metadata": {
        "id": "VEOnOHOvzNVT"
      },
      "source": [
        "##Questão 2"
      ]
    },
    {
      "cell_type": "markdown",
      "metadata": {
        "id": "4uIk1i5Q-ZIg"
      },
      "source": [
        "Um número é, por definição, primo se ele não tem divisores, exceto 1 e ele próprio.    \n",
        "Faça um programa que mostre todos os números primos de 1 a N (obs: N será lido)."
      ]
    },
    {
      "cell_type": "code",
      "metadata": {
        "id": "nvF2s4cn0rva",
        "colab": {
          "base_uri": "https://localhost:8080/",
          "height": 52
        },
        "outputId": "f5e6e58b-7782-4b83-eb1f-cc8dd2120e01"
      },
      "source": [
        "  n = int(input('Digite o valor de N: '))\n",
        "  \n",
        "  for i in range(1,n+1):\n",
        "  \n",
        "    primo = True\n",
        "  \n",
        "    for j in range(2,i):\n",
        "  \n",
        "        if i % j == 0:\n",
        "            primo = False\n",
        "            break\n",
        "  \n",
        "    if primo:\n",
        "        print(i,end=' ')\n"
      ],
      "execution_count": null,
      "outputs": [
        {
          "output_type": "stream",
          "text": [
            "Digite o valor de N: 20\n",
            "1 2 3 5 7 11 13 17 19 "
          ],
          "name": "stdout"
        }
      ]
    },
    {
      "cell_type": "markdown",
      "metadata": {
        "id": "a9-9tlNp0ZDN"
      },
      "source": [
        "## Questão 3\t"
      ]
    },
    {
      "cell_type": "markdown",
      "metadata": {
        "id": "YnurKizu-ozN"
      },
      "source": [
        "O algoritmo de Euclides para determinar o MDC entre dois números inteiros consiste em formar uma sequência de inteiros cujos dois primeiros elementos são os números dados.     \n",
        "Cada elemento seguinte é o resto da divisão dos dois anteriores.     \n",
        "A sequência terminará quando um elemento da mesma for nulo.     \n",
        "O MDC entre os números dados é o elemento anterior ao zero.     \n",
        "Faça uma implementação deste programa.      \n",
        "Ex: Dados os números 12 e 15, será formada a sequência: 12, 15, 12, 3, 0 e o MDC entre 12 e 15 é 3. "
      ]
    },
    {
      "cell_type": "code",
      "metadata": {
        "id": "nZRu4lMLbwgq",
        "colab": {
          "base_uri": "https://localhost:8080/",
          "height": 108
        },
        "outputId": "4e4a7177-d778-48cf-cb19-339f0588b98f"
      },
      "source": [
        "a = int(input('Digite o 1º número: '))\n",
        "b = int(input('Digite o 2º número: '))\n",
        "print('\\nSequência:',a,b,end=' ')\n",
        "while True:\n",
        "    c = a % b\n",
        "    print(c,end=' ')\n",
        "    if c == 0:\n",
        "        break\n",
        "    a = b\n",
        "    b = c\n",
        "print(f'\\nMDC = {b}')\n"
      ],
      "execution_count": null,
      "outputs": [
        {
          "output_type": "stream",
          "text": [
            "Digite o 1º número: 12\n",
            "Digite o 2º número: 15\n",
            "\n",
            "Sequência: 12 15 12 3 0 \n",
            "MDC = 3\n"
          ],
          "name": "stdout"
        }
      ]
    },
    {
      "cell_type": "markdown",
      "metadata": {
        "id": "OwFlJqPwqoyc"
      },
      "source": [
        "##Questão 4 "
      ]
    },
    {
      "cell_type": "markdown",
      "metadata": {
        "id": "Tm2rNLKQ-15f"
      },
      "source": [
        "Um dado material radioativo perde metade de sua massa a cada 50 segundos.    \n",
        "Faça um programa que leia uma certa quantidade de massa, em gramas, deste material e imprima o tempo necessário para que sua massa se torne menor que 0.5g. "
      ]
    },
    {
      "cell_type": "code",
      "metadata": {
        "id": "eHx4nTUHRcFY"
      },
      "source": [
        "tempo = 0\n",
        "\n",
        "massa = float(input('Informe a quantidade de massa (em gramas): '))\n",
        "\n",
        "while massa >= 0.5:\n",
        "    tempo += 50  # tempo = tempo + 50\n",
        "    massa /= 2   # massa = massa / 2\n",
        "\n",
        "print(f'Tempo = {tempo} segundos')\n"
      ],
      "execution_count": null,
      "outputs": []
    },
    {
      "cell_type": "markdown",
      "metadata": {
        "id": "FtJ6-r5u--WY"
      },
      "source": [
        "##Questão 5"
      ]
    },
    {
      "cell_type": "markdown",
      "metadata": {
        "id": "AGRIMfsnsn7W"
      },
      "source": [
        "Faça um programa que, leia a temperatura dos 30 dias do mês de abril diga qual o dia mais quente e o dia mais frio do mês.     \n",
        "Obs: suponha que não haja empates."
      ]
    },
    {
      "cell_type": "code",
      "metadata": {
        "id": "DDHdyHOCRrJi",
        "colab": {
          "base_uri": "https://localhost:8080/",
          "height": 126
        },
        "outputId": "f011dfc8-3620-44f3-bf97-ee4387f0a2cc"
      },
      "source": [
        "ndias = 3  # coloquei um valor menor para fins de teste\n",
        "temp_quente = -100\n",
        "temp_frio = 100\n",
        "\n",
        "for dia in range(1,ndias+1):\n",
        "    \n",
        "    temp = int(input('Temperatura do dia '+ str(dia) + ': '))\n",
        "    \n",
        "    if temp > temp_quente:\n",
        "        temp_quente = temp\n",
        "        dia_quente = dia\n",
        "    \n",
        "    if temp < temp_frio:\n",
        "        temp_frio = temp\n",
        "        dia_frio = dia\n",
        "\n",
        "print()\n",
        "print(f'Mais quente: dia {dia_quente}, com {temp_quente} graus.')\n",
        "print(f'Mais frio  : dia {dia_frio}, com {temp_frio} graus.')\n"
      ],
      "execution_count": null,
      "outputs": [
        {
          "output_type": "stream",
          "text": [
            "Temperatura do dia 1: 20\n",
            "Temperatura do dia 2: 30\n",
            "Temperatura do dia 3: 25\n",
            "\n",
            "Mais quente: dia 2, com 30 graus.\n",
            "Mais frio  : dia 1, com 20 graus.\n"
          ],
          "name": "stdout"
        }
      ]
    },
    {
      "cell_type": "markdown",
      "metadata": {
        "id": "fAfMfQKM_jPo"
      },
      "source": [
        "##Questão 6"
      ]
    },
    {
      "cell_type": "markdown",
      "metadata": {
        "id": "BHXVd8W0Ls9K"
      },
      "source": [
        "Faça um programa que solicite ao usuário uma senha.     \n",
        "Caso a senha digitada esteja correta, o programa deverá mostrar senha correta.     \n",
        "Caso contrário, o programa deverá mostrar senha incorreta e pedir para o usuário tentar novamente digitar a senha correta.      \n",
        "Mas, se o usuário fornecer três senhas incorretas, o programa deverá encerrar a sua execução.     \n",
        "(Obs: a senha correta é “abcd”)."
      ]
    },
    {
      "cell_type": "code",
      "metadata": {
        "id": "Oc_T6l5rR2iZ",
        "colab": {
          "base_uri": "https://localhost:8080/"
        },
        "outputId": "2413688e-bd93-44a7-f4f0-1f7cfc79a9c3"
      },
      "source": [
        "correta = 'abcd'\n",
        "n = 0\n",
        "while True:\n",
        "    senha = input('Digite a senha: ')\n",
        "    n += 1\n",
        "    if senha == correta:\n",
        "        print('Senha correta!')\n",
        "        break\n",
        "    print('Senha incorreta!',end=' ')\n",
        "    if n >= 3:\n",
        "        print('Nº de tentativas excedido.')\n",
        "        break\n",
        "    print('Tente novamente...\\n')"
      ],
      "execution_count": null,
      "outputs": [
        {
          "output_type": "stream",
          "name": "stdout",
          "text": [
            "Digite a senha: aaa\n",
            "Senha incorreta! Tente novamente...\n",
            "\n",
            "Digite a senha: bbb\n",
            "Senha incorreta! Tente novamente...\n",
            "\n",
            "Digite a senha: ccc\n",
            "Senha incorreta! Nº de tentativas excedido.\n"
          ]
        }
      ]
    },
    {
      "cell_type": "markdown",
      "metadata": {
        "id": "35Hubnu6_2Dq"
      },
      "source": [
        "\n",
        "##Questão 7"
      ]
    },
    {
      "cell_type": "markdown",
      "metadata": {
        "id": "Ki6cKM8udaeU"
      },
      "source": [
        "Uma certa empresa pretende verificar se os seus empregados estarão qualificados ou não para aposentadoria em 2022.       \n",
        "Para estar em condições, um dos seguintes requisitos deve ser satisfeito:\n",
        "*\tTer no mínimo 65 anos de idade; ou\n",
        "*\tTer trabalhado no mínimo 30 anos; ou\n",
        "*\tTer no mínimo 60 anos e ter trabalhado no mínimo 25 anos.     \n",
        "\n",
        "Com base nas informações acima, faça um programa para:    \n",
        "*\tLer o nome do empregado, o ano de nascimento e o ano de seu ingresso na empresa. \n",
        "*\tCalcular e exibir a idade e o tempo de trabalho do empregado (estimado ao final de 2021) \n",
        "*\tExibir a mensagem “Pode Requerer Aposentadoria” se atender aos requisitos ou “Não Pode Requerer Aposentadoria” caso contrário.     \n",
        "\n",
        "Ao final de cada execução, o programa deverá perguntar se o usuário deseja fazer nova verificação. Se sim, o programa deverá repetir tudo novamente, caso contrário deverá encerrar.  "
      ]
    },
    {
      "cell_type": "code",
      "metadata": {
        "id": "H48C-UsidpUw",
        "colab": {
          "base_uri": "https://localhost:8080/"
        },
        "outputId": "38b87c77-2730-4336-8a0d-105afa9f8e4c"
      },
      "source": [
        "anoref = 2021\n",
        "\n",
        "while True:\n",
        "    \n",
        "    nome = input('Nome: ')\n",
        "    nasc = int(input('Ano de nascimento: '))\n",
        "    ingr = int(input('Ano de ingresso na empresa: '))\n",
        "    \n",
        "    idade = anoref - nasc\n",
        "    tempo = anoref - ingr\n",
        "    \n",
        "    print(f'\\nIdade: {idade} anos')\n",
        "    print(f'Tempo de trabalho: {tempo} anos')\n",
        "    \n",
        "    if idade >= 65 or tempo >= 30 or (idade >= 60 and tempo >= 25):\n",
        "        print('Pode Requerer Aposentadoria')\n",
        "    else:\n",
        "        print('Não Pode Requerer Aposentadoria')\n",
        "    \n",
        "    if input('\\nDeseja fazer nova verificação (s/n)? ').lower() == 'n':\n",
        "        break\n",
        "    \n",
        "    print()\n"
      ],
      "execution_count": null,
      "outputs": [
        {
          "output_type": "stream",
          "text": [
            "Nome: aaa\n",
            "Ano de nascimento: 1950\n",
            "Ano de ingresso na empresa: 2000\n",
            "\n",
            "Idade: 71 anos\n",
            "Tempo de trabalho: 21 anos\n",
            "Pode Requerer Aposentadoria\n",
            "\n",
            "Deseja fazer nova verificação (s/n)? s\n",
            "\n",
            "Nome: bbb\n",
            "Ano de nascimento: 1964\n",
            "Ano de ingresso na empresa: 1980\n",
            "\n",
            "Idade: 57 anos\n",
            "Tempo de trabalho: 41 anos\n",
            "Pode Requerer Aposentadoria\n",
            "\n",
            "Deseja fazer nova verificação (s/n)? s\n",
            "\n",
            "Nome: ccc\n",
            "Ano de nascimento: 1960\n",
            "Ano de ingresso na empresa: 1995\n",
            "\n",
            "Idade: 61 anos\n",
            "Tempo de trabalho: 26 anos\n",
            "Pode Requerer Aposentadoria\n",
            "\n",
            "Deseja fazer nova verificação (s/n)? s\n",
            "\n",
            "Nome: ddd\n",
            "Ano de nascimento: 1960\n",
            "Ano de ingresso na empresa: 2000\n",
            "\n",
            "Idade: 61 anos\n",
            "Tempo de trabalho: 21 anos\n",
            "Não Pode Requerer Aposentadoria\n",
            "\n",
            "Deseja fazer nova verificação (s/n)? n\n"
          ],
          "name": "stdout"
        }
      ]
    },
    {
      "cell_type": "markdown",
      "metadata": {
        "id": "8xAI-9Bs_91H"
      },
      "source": [
        "##Questão 8"
      ]
    },
    {
      "cell_type": "markdown",
      "metadata": {
        "id": "ZMIWlXsQdqAK"
      },
      "source": [
        "Faça um programa que acompanhe um set de uma partida de vôlei.     \n",
        "O programa deve ler o código da equipe (A ou B) que ganhou o ponto e responder quem ganha a partida.     \n",
        "O set chega ao final se uma das equipes chega a 25 pontos e a diferença de pontos entre elas é maior ou igual a dois.     \n",
        "A equipe que conseguir isso é a vencedora do set.      \n"
      ]
    },
    {
      "cell_type": "code",
      "metadata": {
        "id": "2-qAyyzOdqZD",
        "colab": {
          "base_uri": "https://localhost:8080/"
        },
        "outputId": "4dcd179c-34a9-4bf9-dfb5-77e4818071a6"
      },
      "source": [
        "pa = 0\n",
        "pb = 0\n",
        "fim = 5 #pontuação final do set (colocado valor menor para fins de teste)\n",
        "\n",
        "while True:\n",
        "\n",
        "    equipe = input('Informe o código da equipe que ganhou o ponto (A ou B): ').upper()\n",
        "\n",
        "    if equipe == 'A':\n",
        "        pa += 1\n",
        "    else:\n",
        "        pb += 1\n",
        "\n",
        "    print(f'Placar: A {pa} x {pb} B\\n')\n",
        "\n",
        "    if pa > pb:\n",
        "        dif = pa - pb\n",
        "    else:\n",
        "        dif = pb - pa\n",
        "\n",
        "    if (pa >= fim or pb >= fim) and (dif >= 2):\n",
        "        break\n",
        "\n",
        "if pa > pb:\n",
        "    print('A Equipe A foi a vencedora')\n",
        "else:\n",
        "    print('A Equipe B foi a vencedora')\n"
      ],
      "execution_count": null,
      "outputs": [
        {
          "output_type": "stream",
          "name": "stdout",
          "text": [
            "Informe o código da equipe que ganhou o ponto (A ou B): A\n",
            "Placar: A 1 x 0 B\n",
            "\n",
            "Informe o código da equipe que ganhou o ponto (A ou B): A\n",
            "Placar: A 2 x 0 B\n",
            "\n",
            "Informe o código da equipe que ganhou o ponto (A ou B): A\n",
            "Placar: A 3 x 0 B\n",
            "\n",
            "Informe o código da equipe que ganhou o ponto (A ou B): B\n",
            "Placar: A 3 x 1 B\n",
            "\n",
            "Informe o código da equipe que ganhou o ponto (A ou B): B\n",
            "Placar: A 3 x 2 B\n",
            "\n",
            "Informe o código da equipe que ganhou o ponto (A ou B): B\n",
            "Placar: A 3 x 3 B\n",
            "\n",
            "Informe o código da equipe que ganhou o ponto (A ou B): B\n",
            "Placar: A 3 x 4 B\n",
            "\n",
            "Informe o código da equipe que ganhou o ponto (A ou B): A\n",
            "Placar: A 4 x 4 B\n",
            "\n",
            "Informe o código da equipe que ganhou o ponto (A ou B): A\n",
            "Placar: A 5 x 4 B\n",
            "\n",
            "Informe o código da equipe que ganhou o ponto (A ou B): B\n",
            "Placar: A 5 x 5 B\n",
            "\n",
            "Informe o código da equipe que ganhou o ponto (A ou B): A\n",
            "Placar: A 6 x 5 B\n",
            "\n",
            "Informe o código da equipe que ganhou o ponto (A ou B): A\n",
            "Placar: A 7 x 5 B\n",
            "\n",
            "A Equipe A foi a vencedora\n"
          ]
        }
      ]
    }
  ]
}