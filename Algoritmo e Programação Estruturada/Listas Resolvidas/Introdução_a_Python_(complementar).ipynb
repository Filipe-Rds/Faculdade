{
  "nbformat": 4,
  "nbformat_minor": 0,
  "metadata": {
    "colab": {
      "provenance": [],
      "collapsed_sections": [],
      "include_colab_link": true
    },
    "kernelspec": {
      "name": "python3",
      "display_name": "Python 3"
    }
  },
  "cells": [
    {
      "cell_type": "markdown",
      "metadata": {
        "id": "view-in-github",
        "colab_type": "text"
      },
      "source": [
        "<a href=\"https://colab.research.google.com/github/Filipe-Rds/Faculdade/blob/main/Algoritmo%20e%20Programa%C3%A7%C3%A3o%20Estruturada/Listas%20Resolvidas/Introdu%C3%A7%C3%A3o_a_Python_(complementar).ipynb\" target=\"_parent\"><img src=\"https://colab.research.google.com/assets/colab-badge.svg\" alt=\"Open In Colab\"/></a>"
      ]
    },
    {
      "cell_type": "markdown",
      "metadata": {
        "id": "PO8efkjRUtjo"
      },
      "source": [
        "IFPB - CAMPUS JOÃO PESSOA    \n",
        "CURSO: SISTEMAS PARA INTERNET     \n",
        "DISCIPLINA: ALGORITMOS E PROGRAMAÇÃO ESTRUTURADA     \n",
        "PROFESSORES: CANDIDO EGYPTO / EDEMBERG ROCHA"
      ]
    },
    {
      "cell_type": "markdown",
      "metadata": {
        "id": "VVFFZyE0cJBJ"
      },
      "source": [
        "# LISTA RESOLVIDA – INTRODUÇÃO A PYTHON (COMPLEMENTAR)"
      ]
    },
    {
      "cell_type": "code",
      "source": [],
      "metadata": {
        "id": "6c5RrCYKJwTg"
      },
      "execution_count": null,
      "outputs": []
    },
    {
      "cell_type": "markdown",
      "metadata": {
        "id": "V3Ub_kNxA2Bf"
      },
      "source": [
        "##Questão 1"
      ]
    },
    {
      "cell_type": "markdown",
      "metadata": {
        "id": "mFBaRRXy19Pj"
      },
      "source": [
        "A Companhia de Carros Usados João Honesto paga seus empregados um salário de R\\$ 1.000,00 por mês mais uma comissão de R$ 200,00 para cada carro vendido mais 5% do valor da venda.    \n",
        "\n",
        "Escreva um programa que leia o nome, o número de carros vendidos e o valor total das vendas de um vendedor, e calcule e exiba o seu salário.      \n"
      ]
    },
    {
      "cell_type": "code",
      "metadata": {
        "id": "Qe2sGkSR5bda"
      },
      "source": [
        "fixo = 1000.00\n",
        "com = 200.00\n",
        "perc = 5/100\n",
        "\n",
        "vendedor = input('Nome do vendedor: ')\n",
        "numcarros = int(input('Número de carros vendidos: '))\n",
        "totvendas = float(input('Valor total das vendas: R$ '))\n",
        "\n",
        "salario = fixo + numcarros*com + totvendas*perc\n",
        "\n",
        "print(f'Salário: R$ {salario:.2f}')\n"
      ],
      "execution_count": null,
      "outputs": []
    },
    {
      "cell_type": "markdown",
      "metadata": {
        "id": "w3lEtLMDAavZ"
      },
      "source": [
        "##Questão 2"
      ]
    },
    {
      "cell_type": "markdown",
      "metadata": {
        "id": "btD6yw7sq1BR"
      },
      "source": [
        "Escreva um programa para calcular e exibir a média ponderada de 2 notas dadas.     \n",
        "Sabe-se que nota1 possui peso 6 e nota2 possui peso 4."
      ]
    },
    {
      "cell_type": "code",
      "metadata": {
        "id": "jQRGZVnPbxhX",
        "colab": {
          "base_uri": "https://localhost:8080/"
        },
        "outputId": "fc4baf09-5b32-4af8-cfed-66d07b3ed2a7"
      },
      "source": [
        "peso1 = 6\n",
        "peso2 = 4\n",
        "\n",
        "nota1 = float(input('1ª nota: '))\n",
        "nota2 = float(input('2ª nota: '))\n",
        "\n",
        "media = (nota1*peso1 + nota2*peso2) / (peso1+peso2)\n",
        "\n",
        "print(f'Média = {media:.1f}')\n"
      ],
      "execution_count": null,
      "outputs": [
        {
          "output_type": "stream",
          "text": [
            "1ª nota: 7\n",
            "2ª nota: 8\n",
            "Média = 7.4\n"
          ],
          "name": "stdout"
        }
      ]
    },
    {
      "cell_type": "markdown",
      "metadata": {
        "id": "25M06QfpAkTZ"
      },
      "source": [
        "##Questão 3"
      ]
    },
    {
      "cell_type": "markdown",
      "metadata": {
        "id": "M7UZLLQj1rMN"
      },
      "source": [
        "Escreva um programa que leia duas variáveis inteiras e troque o conteúdo entre elas, mostrando o resultado."
      ]
    },
    {
      "cell_type": "code",
      "metadata": {
        "colab": {
          "base_uri": "https://localhost:8080/"
        },
        "id": "oUr8keSFyPcj",
        "outputId": "5c02e048-66aa-4437-9f92-41eb5c0773ef"
      },
      "source": [
        "x = int(input('Entre com o valor de x: '))\n",
        "y = int(input('Entre com o valor de y: '))\n",
        "\n",
        "aux = x\n",
        "x = y\n",
        "y = aux\n",
        "\n",
        "print('\\nApós a troca:')\n",
        "print('x =',x)\n",
        "print('y =',y)\n"
      ],
      "execution_count": null,
      "outputs": [
        {
          "output_type": "stream",
          "text": [
            "Entre com o valor de x: 1\n",
            "Entre com o valor de y: 2\n",
            "\n",
            "Após a troca:\n",
            "x = 2\n",
            "y = 1\n"
          ],
          "name": "stdout"
        }
      ]
    },
    {
      "cell_type": "markdown",
      "metadata": {
        "id": "_MWlwCqrA9mQ"
      },
      "source": [
        "##Questão 4"
      ]
    },
    {
      "cell_type": "markdown",
      "metadata": {
        "id": "Q46WYbAh5c4Z"
      },
      "source": [
        "Um motorista anota a marcação do Hodômetro do seu veículo antes e após uma viagem, bem como o número de litros de combustível gastos.    \n",
        "\n",
        "Escreva um programa que leia os 3 dados acima, o preço do litro de combustível, a capacidade do tanque e mostre:  \n",
        "\n",
        "a) Quilometragem rodada.   \n",
        "b) Quantos quilômetros por litro faz o veículo.   \n",
        "c) Autonomia do veículo.    \n",
        "d) Custo da viagem\n"
      ]
    },
    {
      "cell_type": "code",
      "metadata": {
        "id": "TLgSNGWb5mUO",
        "colab": {
          "base_uri": "https://localhost:8080/"
        },
        "outputId": "0b5a9304-10c1-4f43-96cd-ec18670e2609"
      },
      "source": [
        "km_inicial = int(input('Odômetro inicial (Km): '))\n",
        "km_final = int(input('Odômetro final (Km): '))\n",
        "comb_gasto = int(input('Quantidade gasta de combustível (litros): '))\n",
        "preco_litro = float(input('Preço do litro do combustível (R$): '))\n",
        "cap_tanque = int(input('Capacidade do tanque (litros): '))\n",
        "\n",
        "km_rodada = km_final - km_inicial\n",
        "consumo = km_rodada / comb_gasto\n",
        "autonomia = consumo * cap_tanque\n",
        "custo_viagem = comb_gasto * preco_litro\n",
        "\n",
        "print(f'\\nQuilometragem rodada: {km_rodada} km')\n",
        "print(f'Consumo: {consumo:.1f} km/L')\n",
        "print(f'Autonomia: {autonomia:.0f} km')\n",
        "print(f'Custo da viagem: R$ {custo_viagem:.2f}')\n"
      ],
      "execution_count": null,
      "outputs": [
        {
          "output_type": "stream",
          "text": [
            "Odômetro inicial (Km): 12000\n",
            "Odômetro final (Km): 13000\n",
            "Quantidade gasta de combustível (litros): 100\n",
            "Preço do litro do combustível (R$): 5\n",
            "Capacidade do tanque (litros): 60\n",
            "\n",
            "Quilometragem rodada: 1000 km\n",
            "Consumo: 10.0 km/L\n",
            "Autonomia: 600 km\n",
            "Custo da viagem: R$ 500.00\n"
          ],
          "name": "stdout"
        }
      ]
    },
    {
      "cell_type": "markdown",
      "metadata": {
        "id": "QhqKONF4Bms3"
      },
      "source": [
        "##Questão 5"
      ]
    },
    {
      "cell_type": "markdown",
      "metadata": {
        "id": "2s60B26m7Hni"
      },
      "source": [
        "Escreva um programa que, dado um número inteiro representando uma quantidade de segundos, calcule quantas horas, minutos e segundos estão contidos nesta quantidade. \n",
        "* Ex: 7.388 segundos = 2 horas, 3 minutos e 8 segundos. \n"
      ]
    },
    {
      "cell_type": "code",
      "metadata": {
        "id": "o2WrXBkm7OPX",
        "colab": {
          "base_uri": "https://localhost:8080/"
        },
        "outputId": "a6f83d6a-544b-4ed1-8c8a-1eeec75a30f2"
      },
      "source": [
        "n = int(input('Quantidade de segundos: '))\n",
        "\n",
        "h = n // 3600\n",
        "r = n % 3600\n",
        "m = r // 60\n",
        "s = r % 60\n",
        "\n",
        "print(f'Resultado: {h:02}:{m:02}:{s:02}')\n"
      ],
      "execution_count": null,
      "outputs": [
        {
          "output_type": "stream",
          "text": [
            "Quantidade de segundos: 7388\n",
            "Resultado: 02:03:08\n"
          ],
          "name": "stdout"
        }
      ]
    },
    {
      "cell_type": "markdown",
      "metadata": {
        "id": "yW9uxLLVBujA"
      },
      "source": [
        "##Questão 6"
      ]
    },
    {
      "cell_type": "markdown",
      "metadata": {
        "id": "bss3Uzn87k8B"
      },
      "source": [
        "As Ilhas Weblands formam um reino independente nos mares do Pacífico. Como é um reino recente, a sociedade é muito influenciada pela informática. A moeda oficial é o Bit; existem notas de B\\$ 50, B\\$ 10, B\\$ 5 e B\\$ 1.      \n",
        "\n",
        "Você foi contratado(a) para ajudar na programação dos caixas automáticos de um grande banco das Ilhas Weblands.      \n",
        "\n",
        "Os caixas eletrônicos das Ilhas Weblands operam com todos os tipos de notas disponíveis, mantendo um estoque para cada valor de cédula. Os clientes do banco utilizam os caixas eletrônicos para efetuar retiradas de um certo número inteiro de Bits.       \n",
        "\n",
        "Sua tarefa é escrever um programa que, dado o valor de Bits desejado pelo cliente, determine o número de cada uma das notas necessário para totalizar esse valor, de modo a minimizar a quantidade de cédulas entregues.      \n",
        "\n",
        "Exemplo:      \n",
        "\n",
        "Para B\\$ 72 seriam as seguintes notas:       \n",
        "* 1 nota(s) de B\\$ 50      \n",
        "* 2 nota(s) de B\\$ 10      \n",
        "* 0 nota(s) de B\\$ 5      \n",
        "* 2 nota(s) de B\\$ 1     \n",
        "\n"
      ]
    },
    {
      "cell_type": "code",
      "metadata": {
        "id": "Az_JEADmDzy-",
        "colab": {
          "base_uri": "https://localhost:8080/"
        },
        "outputId": "f9441418-cd32-4eef-c175-16b9317c7f98"
      },
      "source": [
        "x = int(input(\"Digite o valor: B$ \"))\n",
        "\n",
        "n50 = x // 50\n",
        "r = x % 50\n",
        "n10 = r // 10\n",
        "r = r % 10\n",
        "n5 = r // 5\n",
        "r = r % 5\n",
        "n1 = r\n",
        "\n",
        "print(n50,\"nota(s) de B$ 50\")\n",
        "print(n10,\"nota(s) de B$ 10\")\n",
        "print(n5,\"nota(s) de B$ 5\")\n",
        "print(n1,\"nota(s) de B$ 1\")"
      ],
      "execution_count": null,
      "outputs": [
        {
          "output_type": "stream",
          "name": "stdout",
          "text": [
            "Digite o valor: B$ 1234\n",
            "24 nota(s) de B$ 50\n",
            "3 nota(s) de B$ 10\n",
            "0 nota(s) de B$ 5\n",
            "4 nota(s) de B$ 1\n"
          ]
        }
      ]
    }
  ]
}