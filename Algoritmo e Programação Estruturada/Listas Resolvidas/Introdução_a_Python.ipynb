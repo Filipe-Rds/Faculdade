{
  "cells": [
    {
      "cell_type": "markdown",
      "metadata": {
        "id": "view-in-github",
        "colab_type": "text"
      },
      "source": [
        "<a href=\"https://colab.research.google.com/github/Filipe-Rds/Faculdade/blob/main/Algoritmo%20e%20Programa%C3%A7%C3%A3o%20Estruturada/Listas%20Resolvidas/Introdu%C3%A7%C3%A3o_a_Python.ipynb\" target=\"_parent\"><img src=\"https://colab.research.google.com/assets/colab-badge.svg\" alt=\"Open In Colab\"/></a>"
      ]
    },
    {
      "cell_type": "markdown",
      "metadata": {
        "id": "PO8efkjRUtjo"
      },
      "source": [
        "**IFPB - CAMPUS JOÃO PESSOA    \n",
        "CURSO: SISTEMAS PARA INTERNET     \n",
        "DISCIPLINA: ALGORITMOS E PROGRAMAÇÃO ESTRUTURADA     \n",
        "PROFESSORES: CANDIDO EGYPTO / EDEMBERG ROCHA**"
      ]
    },
    {
      "cell_type": "markdown",
      "metadata": {
        "id": "VVFFZyE0cJBJ"
      },
      "source": [
        "# LISTA RESOLVIDA – INTRODUÇÃO A PYTHON"
      ]
    },
    {
      "cell_type": "markdown",
      "metadata": {
        "id": "S9MjYNiFbGDT"
      },
      "source": [
        "##Questão 1"
      ]
    },
    {
      "cell_type": "markdown",
      "metadata": {
        "id": "mISrF8_Z9w8L"
      },
      "source": [
        "Escreva um programa que exiba na tela do computador a mensagem “Bem-vindo ao mundo da programação!"
      ]
    },
    {
      "cell_type": "code",
      "execution_count": null,
      "metadata": {
        "colab": {
          "base_uri": "https://localhost:8080/"
        },
        "id": "U8_NLVBp97Hu",
        "outputId": "7c603c29-39da-4de2-d2e8-fc06307df36c"
      },
      "outputs": [
        {
          "name": "stdout",
          "output_type": "stream",
          "text": [
            "Bem-vindo ao mundo da programação!\n"
          ]
        }
      ],
      "source": [
        "print('Bem-vindo ao mundo da programação!')"
      ]
    },
    {
      "cell_type": "markdown",
      "metadata": {
        "id": "VEOnOHOvzNVT"
      },
      "source": [
        "##Questão 2"
      ]
    },
    {
      "cell_type": "markdown",
      "metadata": {
        "id": "4uIk1i5Q-ZIg"
      },
      "source": [
        "Escreva um programa que leia um número inteiro e exiba o dobro dele."
      ]
    },
    {
      "cell_type": "code",
      "execution_count": null,
      "metadata": {
        "colab": {
          "base_uri": "https://localhost:8080/"
        },
        "id": "nvF2s4cn0rva",
        "outputId": "c82475d1-c198-41f6-ec32-6df018bbf79c"
      },
      "outputs": [
        {
          "name": "stdout",
          "output_type": "stream",
          "text": [
            "Digite um número inteiro: 3\n",
            "O dobro de 3 é 6\n"
          ]
        }
      ],
      "source": [
        "n = int(input('Digite um número inteiro: '))\n",
        "d = n * 2\n",
        "print('O dobro de',n,'é',d)"
      ]
    },
    {
      "cell_type": "markdown",
      "metadata": {
        "id": "uwBvPTukKTad"
      },
      "source": [
        "Versão com saída formatada "
      ]
    },
    {
      "cell_type": "code",
      "execution_count": null,
      "metadata": {
        "colab": {
          "base_uri": "https://localhost:8080/"
        },
        "id": "XspYUZPZOcZB",
        "outputId": "d62bc801-848e-47f5-f070-f633375f3ccf"
      },
      "outputs": [
        {
          "name": "stdout",
          "output_type": "stream",
          "text": [
            "Digite um número inteiro: 3\n",
            "O dobro de 3 é 6\n"
          ]
        }
      ],
      "source": [
        "n = int(input('Digite um número inteiro: '))\n",
        "d = n * 2\n",
        "print(f'O dobro de {n} é {d}')"
      ]
    },
    {
      "cell_type": "markdown",
      "metadata": {
        "id": "a9-9tlNp0ZDN"
      },
      "source": [
        "## Questão 3\t"
      ]
    },
    {
      "cell_type": "markdown",
      "metadata": {
        "id": "YnurKizu-ozN"
      },
      "source": [
        "Escreva um programa que leia dois números reais, calcule e exiba a soma deles. "
      ]
    },
    {
      "cell_type": "code",
      "execution_count": null,
      "metadata": {
        "colab": {
          "base_uri": "https://localhost:8080/"
        },
        "id": "nZRu4lMLbwgq",
        "outputId": "9d43f814-75dd-4a28-cc30-e92d79501a16"
      },
      "outputs": [
        {
          "name": "stdout",
          "output_type": "stream",
          "text": [
            "1º número: 3\n",
            "2º número: 5\n",
            "Soma = 8.0\n"
          ]
        }
      ],
      "source": [
        "num1 = float(input('1º número: '))\n",
        "num2 = float(input('2º número: '))\n",
        "soma = num1 + num2\n",
        "print('Soma =',soma)"
      ]
    },
    {
      "cell_type": "markdown",
      "metadata": {
        "id": "0AzVghWB5GwH"
      },
      "source": [
        "Versão com saída formatada "
      ]
    },
    {
      "cell_type": "code",
      "execution_count": null,
      "metadata": {
        "colab": {
          "base_uri": "https://localhost:8080/"
        },
        "id": "sMKaWc3Z5FLY",
        "outputId": "770da589-f1c6-4e9b-893a-2f6c82c491f5"
      },
      "outputs": [
        {
          "name": "stdout",
          "output_type": "stream",
          "text": [
            "1º número: 3\n",
            "2º número: 5\n",
            "Soma = 8.00\n"
          ]
        }
      ],
      "source": [
        "num1 = float(input('1º número: '))\n",
        "num2 = float(input('2º número: '))\n",
        "soma = num1 + num2\n",
        "print(f'Soma = {soma:.2f}')"
      ]
    },
    {
      "cell_type": "markdown",
      "metadata": {
        "id": "OwFlJqPwqoyc"
      },
      "source": [
        "##Questão 4 "
      ]
    },
    {
      "cell_type": "markdown",
      "metadata": {
        "id": "eh1JayI1qsd7"
      },
      "source": [
        "Escreva um programa para calcular a área de um triângulo, dados os valores de base e altura.   \n",
        "    \n",
        "    \n",
        "![imagem2.jpg](data:image/jpeg;base64,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)"
      ]
    },
    {
      "cell_type": "code",
      "execution_count": null,
      "metadata": {
        "colab": {
          "base_uri": "https://localhost:8080/"
        },
        "id": "Iag61tvVbw2r",
        "outputId": "bd5b302e-9505-405b-b3af-b6db879fff1d"
      },
      "outputs": [
        {
          "name": "stdout",
          "output_type": "stream",
          "text": [
            "Base: 3\n",
            "Altura: 4\n",
            "Área = 6.0\n"
          ]
        }
      ],
      "source": [
        "base = float(input('Base: '))\n",
        "alt = float(input('Altura: '))\n",
        "area = (base * alt) / 2\n",
        "print('Área =',area)"
      ]
    },
    {
      "cell_type": "markdown",
      "metadata": {
        "id": "QLAeI68-J-Xn"
      },
      "source": [
        "Versão com saída formatada"
      ]
    },
    {
      "cell_type": "code",
      "execution_count": null,
      "metadata": {
        "colab": {
          "base_uri": "https://localhost:8080/"
        },
        "id": "GR3zz0l4J_kt",
        "outputId": "76129791-a911-47e0-fc65-8112770cc4f7"
      },
      "outputs": [
        {
          "name": "stdout",
          "output_type": "stream",
          "text": [
            "Base: 3\n",
            "Altura: 4\n",
            "Área = 6.0\n"
          ]
        }
      ],
      "source": [
        "base = float(input('Base: '))\n",
        "alt = float(input('Altura: '))\n",
        "area = (base * alt) / 2\n",
        "print(f'Área = {area:.1f}')"
      ]
    },
    {
      "cell_type": "markdown",
      "metadata": {
        "id": "FtJ6-r5u--WY"
      },
      "source": [
        "##Questão 5"
      ]
    },
    {
      "cell_type": "markdown",
      "metadata": {
        "id": "wRuO2w5r_He4"
      },
      "source": [
        "Escreva um programa para ler o nome e o sobrenome de uma pessoa e escrevê-los na seguinte forma: sobrenome seguido por uma vírgula e pelo nome.  \n",
        "![imagem1.jpg](data:image/jpeg;base64,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)"
      ]
    },
    {
      "cell_type": "code",
      "execution_count": null,
      "metadata": {
        "colab": {
          "base_uri": "https://localhost:8080/"
        },
        "id": "b_B7cSyCbwyu",
        "outputId": "acb84d3b-8c96-4b15-c603-947818919f7f"
      },
      "outputs": [
        {
          "name": "stdout",
          "output_type": "stream",
          "text": [
            "Nome: Antonio\n",
            "Sobrenome: Soares\n",
            "\n",
            "Soares, Antonio\n"
          ]
        }
      ],
      "source": [
        "nome = input('Nome: ')\n",
        "sobre = input('Sobrenome: ')\n",
        "saida = sobre + ', ' + nome\n",
        "print()\n",
        "print(saida)"
      ]
    },
    {
      "cell_type": "markdown",
      "metadata": {
        "id": "PEnDBRkQaO5a"
      },
      "source": [
        "Versão com saída formatada"
      ]
    },
    {
      "cell_type": "code",
      "execution_count": null,
      "metadata": {
        "colab": {
          "base_uri": "https://localhost:8080/"
        },
        "id": "VTlN8qM_aOCg",
        "outputId": "ea33724f-471a-4321-99ee-4f21db657a2c"
      },
      "outputs": [
        {
          "name": "stdout",
          "output_type": "stream",
          "text": [
            "Nome: Antonio\n",
            "Sobrenome: Soares\n",
            "\n",
            "Soares, Antonio\n"
          ]
        }
      ],
      "source": [
        "nome = input('Nome: ')\n",
        "sobre = input('Sobrenome: ')\n",
        "print()\n",
        "print(f'{sobre}, {nome}')"
      ]
    },
    {
      "cell_type": "markdown",
      "metadata": {
        "id": "bIS3HjJLF-6b"
      },
      "source": [
        "Versão usando \"sep\""
      ]
    },
    {
      "cell_type": "code",
      "execution_count": null,
      "metadata": {
        "colab": {
          "base_uri": "https://localhost:8080/"
        },
        "id": "0Qoi-Vo5FDkQ",
        "outputId": "cdda8c19-941e-4266-c87c-ece1c47ab227"
      },
      "outputs": [
        {
          "output_type": "stream",
          "name": "stdout",
          "text": [
            "Nome: Antonio\n",
            "Sobrenome: Soares\n",
            "\n",
            "Soares, Antonio\n"
          ]
        }
      ],
      "source": [
        "nome = input('Nome: ')\n",
        "sobre = input('Sobrenome: ')\n",
        "print()\n",
        "print(sobre,nome,sep=', ')"
      ]
    },
    {
      "cell_type": "markdown",
      "metadata": {
        "id": "8xAI-9Bs_91H"
      },
      "source": [
        "##Questão 6"
      ]
    },
    {
      "cell_type": "markdown",
      "metadata": {
        "id": "m_GPoovQqywh"
      },
      "source": [
        "Escreva um programa que efetue a apresentação do valor da conversão em real (R\\$) de um valor lido em dólar (U\\$).     \n",
        "O programa deverá solicitar o valor da cotação do dólar e também a quantidade de dólares disponíveis com o usuário. "
      ]
    },
    {
      "cell_type": "code",
      "execution_count": null,
      "metadata": {
        "colab": {
          "base_uri": "https://localhost:8080/"
        },
        "id": "jTD9NTy3bxRX",
        "outputId": "c2360ee6-cc0a-46b4-b38c-bca4f9760cb0"
      },
      "outputs": [
        {
          "name": "stdout",
          "output_type": "stream",
          "text": [
            "Cotação atual do dólar: R$ 5\n",
            "Quantidade de dólares: U$ 100\n",
            "Conversão para reais: R$ 500.0\n"
          ]
        }
      ],
      "source": [
        "cotacao = float(input('Cotação atual do dólar: R$ ')) \n",
        "v_dolar = float(input('Quantidade de dólares: U$ '))\n",
        "v_real = v_dolar * cotacao\n",
        "print('Conversão para reais: R$',v_real)"
      ]
    },
    {
      "cell_type": "markdown",
      "metadata": {
        "id": "jqFUZcaiI-NK"
      },
      "source": [
        "Versão com saída formatada"
      ]
    },
    {
      "cell_type": "code",
      "execution_count": null,
      "metadata": {
        "colab": {
          "base_uri": "https://localhost:8080/"
        },
        "id": "k7MrEXsaVKD_",
        "outputId": "b797e416-72bd-44c9-cf94-69a2a9942d24"
      },
      "outputs": [
        {
          "name": "stdout",
          "output_type": "stream",
          "text": [
            "Cotação atual do dólar: R$ 5\n",
            "Quantidade de dólares: U$ 100\n",
            "Conversão para reais: R$ 500.00\n"
          ]
        }
      ],
      "source": [
        "cotacao = float(input('Cotação atual do dólar: R$ ')) \n",
        "v_dolar = float(input('Quantidade de dólares: U$ '))\n",
        "v_real = v_dolar * cotacao\n",
        "print(f'Conversão para reais: R$ {v_real:.2f}')"
      ]
    },
    {
      "cell_type": "markdown",
      "metadata": {
        "id": "4sqI0CoYqzVL"
      },
      "source": [
        "##Questão 7"
      ]
    },
    {
      "cell_type": "markdown",
      "metadata": {
        "id": "IJgZ70NKAG6R"
      },
      "source": [
        "O restaurante a quilo Bem-Bão cobra R$ 25,00 por cada quilo de refeição.    \n",
        "Escreva um programa que leia o peso do prato montado pelo cliente (em quilos) e exiba o valor a pagar.     \n",
        "Assuma que a balança já desconte o peso do prato. "
      ]
    },
    {
      "cell_type": "code",
      "execution_count": null,
      "metadata": {
        "colab": {
          "base_uri": "https://localhost:8080/"
        },
        "id": "JUqMtqddbxVJ",
        "outputId": "8a264e2b-191a-43a3-a306-7bc2d3f5ccbb"
      },
      "outputs": [
        {
          "name": "stdout",
          "output_type": "stream",
          "text": [
            "Peso do prato (em Kg): 0.5\n",
            "Valor a pagar: R$ 12.5\n"
          ]
        }
      ],
      "source": [
        "preco_kg = 25.00 \n",
        "peso = float(input('Peso do prato (em Kg): '))\n",
        "valor = peso * preco_kg\n",
        "print('Valor a pagar: R$',valor)"
      ]
    },
    {
      "cell_type": "markdown",
      "metadata": {
        "id": "8R_E6xOSJaXX"
      },
      "source": [
        "Versão com saída formatada"
      ]
    },
    {
      "cell_type": "code",
      "execution_count": null,
      "metadata": {
        "colab": {
          "background_save": true,
          "base_uri": "https://localhost:8080/"
        },
        "id": "SyiE-j3vJYnb",
        "outputId": "fa2ad9ed-b168-4d3e-d40a-729323c3d996"
      },
      "outputs": [
        {
          "name": "stdout",
          "output_type": "stream",
          "text": [
            "Valor inválido. Digite novamente.\n"
          ]
        }
      ],
      "source": [
        "preco_kg = 25.00 \n",
        "\n",
        "peso = float(input('Peso do prato (em Kg): '))\n",
        "while peso < 0:\n",
        "    print('Valor inválido. Digite novamente.')\n",
        "    peso = float(input('Peso do prato (em Kg): '))\n",
        "\n",
        "valor = peso * preco_kg\n",
        "print(f'Valor a pagar: R$ {valor:.2f}')"
      ]
    },
    {
      "cell_type": "markdown",
      "metadata": {
        "id": "H9tD045nASHQ"
      },
      "source": [
        "##Questão 8"
      ]
    },
    {
      "cell_type": "markdown",
      "metadata": {
        "id": "uxFuw0u7q0DR"
      },
      "source": [
        "Escreva um programa que leia o nome de um aluno e as notas das três provas que ele obteve no semestre.     \n",
        "No final informar o nome do aluno e a sua média (aritmética). "
      ]
    },
    {
      "cell_type": "code",
      "execution_count": null,
      "metadata": {
        "colab": {
          "base_uri": "https://localhost:8080/"
        },
        "id": "mSRfIvoSbxc7",
        "outputId": "9f1da756-6a38-44ef-af69-7e3b88c89ce1"
      },
      "outputs": [
        {
          "name": "stdout",
          "output_type": "stream",
          "text": [
            "Nome: Cândido\n",
            "1ª nota: 7\n",
            "2ª nota: 8\n",
            "3ª nota: 10\n",
            "O aluno Cândido teve média 8.333333333333334\n"
          ]
        }
      ],
      "source": [
        "nome = input('Nome: ')\n",
        "nota1 = float(input('1ª nota: '))\n",
        "nota2 = float(input('2ª nota: '))\n",
        "nota3 = float(input('3ª nota: '))\n",
        "media = (nota1 + nota2 + nota3) / 3\n",
        "print('O aluno',nome,'teve média',media)\n"
      ]
    },
    {
      "cell_type": "markdown",
      "metadata": {
        "id": "_pyHOQRPJHYj"
      },
      "source": [
        "Versão com saída formatada"
      ]
    },
    {
      "cell_type": "code",
      "execution_count": null,
      "metadata": {
        "colab": {
          "base_uri": "https://localhost:8080/"
        },
        "id": "owPK6RVcJJA3",
        "outputId": "e6031021-2ed0-48d7-e796-019f5cec8eb3"
      },
      "outputs": [
        {
          "name": "stdout",
          "output_type": "stream",
          "text": [
            "Nome: Cândido\n",
            "1ª nota: 7\n",
            "2ª nota: 8\n",
            "3ª nota: 10\n",
            "O aluno Cândido teve média 8.3\n"
          ]
        }
      ],
      "source": [
        "nome = input('Nome: ')\n",
        "nota1 = float(input('1ª nota: '))\n",
        "nota2 = float(input('2ª nota: '))\n",
        "nota3 = float(input('3ª nota: '))\n",
        "media = (nota1 + nota2 + nota3) / 3\n",
        "#print('O aluno %s teve média %.1f' %(nome,media)) => formatação a moda antiga\n",
        "#print('O aluno {} teve média {:.1f}'.format(nome,media)) => formatação com format()\n",
        "print(f'O aluno {nome} teve média {media:.1f}') # => formatação com f-strings (a mais atual)"
      ]
    },
    {
      "cell_type": "markdown",
      "metadata": {
        "id": "uJZq1XUTWPWH"
      },
      "source": [
        "Versão usando a função round()"
      ]
    },
    {
      "cell_type": "code",
      "execution_count": null,
      "metadata": {
        "colab": {
          "base_uri": "https://localhost:8080/"
        },
        "id": "ddHIKmCdWKmX",
        "outputId": "f87c7af9-3abd-42c3-b0db-cddb8c10a735"
      },
      "outputs": [
        {
          "name": "stdout",
          "output_type": "stream",
          "text": [
            "Nome: Cândido\n",
            "1ª nota: 7\n",
            "2ª nota: 8\n",
            "3ª nota: 10\n",
            "O aluno Cândido teve média 8.3\n"
          ]
        }
      ],
      "source": [
        "nome = input('Nome: ')\n",
        "nota1 = float(input('1ª nota: '))\n",
        "nota2 = float(input('2ª nota: '))\n",
        "nota3 = float(input('3ª nota: '))\n",
        "media = (nota1 + nota2 + nota3) / 3\n",
        "media = round(media,1)\n",
        "print(f'O aluno {nome} teve média {media}')"
      ]
    }
  ],
  "metadata": {
    "colab": {
      "collapsed_sections": [],
      "provenance": [],
      "include_colab_link": true
    },
    "kernelspec": {
      "display_name": "Python 3",
      "name": "python3"
    }
  },
  "nbformat": 4,
  "nbformat_minor": 0
}