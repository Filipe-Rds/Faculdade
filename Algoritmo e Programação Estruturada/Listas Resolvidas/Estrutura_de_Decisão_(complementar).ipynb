{
  "nbformat": 4,
  "nbformat_minor": 0,
  "metadata": {
    "colab": {
      "provenance": [],
      "collapsed_sections": [],
      "include_colab_link": true
    },
    "kernelspec": {
      "name": "python3",
      "display_name": "Python 3"
    }
  },
  "cells": [
    {
      "cell_type": "markdown",
      "metadata": {
        "id": "view-in-github",
        "colab_type": "text"
      },
      "source": [
        "<a href=\"https://colab.research.google.com/github/Filipe-Rds/Faculdade/blob/main/Algoritmo%20e%20Programa%C3%A7%C3%A3o%20Estruturada/Listas%20Resolvidas/Estrutura_de_Decis%C3%A3o_(complementar).ipynb\" target=\"_parent\"><img src=\"https://colab.research.google.com/assets/colab-badge.svg\" alt=\"Open In Colab\"/></a>"
      ]
    },
    {
      "cell_type": "markdown",
      "metadata": {
        "id": "PO8efkjRUtjo"
      },
      "source": [
        "**IFPB - CAMPUS JOÃO PESSOA    \n",
        "CURSO: SISTEMAS PARA INTERNET     \n",
        "DISCIPLINA: ALGORITMOS E PROGRAMAÇÃO ESTRUTURADA     \n",
        "PROFESSORES: CANDIDO EGYPTO / EDEMBERG ROCHA**"
      ]
    },
    {
      "cell_type": "markdown",
      "metadata": {
        "id": "VVFFZyE0cJBJ"
      },
      "source": [
        "# LISTA DE EXERCÍCIOS (RESOLVIDA) – ESTRUTURA DE DECISÃO (COMPLEMENTAR)"
      ]
    },
    {
      "cell_type": "markdown",
      "metadata": {
        "id": "8xAI-9Bs_91H"
      },
      "source": [
        "##Questão 1"
      ]
    },
    {
      "cell_type": "markdown",
      "metadata": {
        "id": "m_GPoovQqywh"
      },
      "source": [
        "Escreva um programa que solicite a digitação de um número (de 1 a 7) correspondente a um dia da semana e imprima o nome do dia da semana e se é dia útil (de segunda a sexta) ou final de semana (sábado e domingo).    \n",
        "Considere que o dia 1 é o domingo."
      ]
    },
    {
      "cell_type": "code",
      "metadata": {
        "id": "jTD9NTy3bxRX",
        "colab": {
          "base_uri": "https://localhost:8080/",
          "height": 50
        },
        "outputId": "819f0ae5-8952-4c11-98c9-5ddc22bab937"
      },
      "source": [
        "n = int(input('Número do dia da semana (1 a 7): '))\n",
        "\n",
        "if n == 1:\n",
        "  dia = 'domingo'\n",
        "elif n == 2:\n",
        "  dia = 'segunda-feira'\n",
        "elif n == 3:\n",
        "  dia = 'terça-feira'\n",
        "elif n == 4:\n",
        "  dia = 'quarta-feira'\n",
        "elif n == 5:\n",
        "  dia = 'quinta-feira'\n",
        "elif n == 6:\n",
        "  dia = 'sexta-feira'\n",
        "else:\n",
        "  dia = 'sábado'\n",
        "\n",
        "if n == 1 or n == 7:\n",
        "  tipo = 'final de semana'\n",
        "else:\n",
        "  tipo = 'dia útil'\n",
        "\n",
        "print(f'{dia} ({tipo})')\n"
      ],
      "execution_count": null,
      "outputs": [
        {
          "output_type": "stream",
          "text": [
            "Número do dia da semana (1 a 7): 1\n",
            "domingo (final de semana)\n"
          ],
          "name": "stdout"
        }
      ]
    },
    {
      "cell_type": "markdown",
      "metadata": {
        "id": "K7yzx14nZC1a"
      },
      "source": [
        "Outra versão:"
      ]
    },
    {
      "cell_type": "code",
      "metadata": {
        "colab": {
          "base_uri": "https://localhost:8080/"
        },
        "id": "y6JvRNkzYqeg",
        "outputId": "7e99751d-e848-4abf-a72c-3a803735f202"
      },
      "source": [
        "n = int(input('Número do dia da semana (1 a 7): '))\n",
        "\n",
        "if n == 1:\n",
        "  dia = 'domingo'\n",
        "  tipo = 'final de semana'\n",
        "elif n == 2:\n",
        "  dia = 'segunda-feira'\n",
        "  tipo = 'dia útil'\n",
        "elif n == 3:\n",
        "  dia = 'terça-feira'\n",
        "  tipo = 'dia útil'\n",
        "elif n == 4:\n",
        "  dia = 'quarta-feira'\n",
        "  tipo = 'dia útil'\n",
        "elif n == 5:\n",
        "  dia = 'quinta-feira'\n",
        "  tipo = 'dia útil'\n",
        "elif n == 6:\n",
        "  dia = 'sexta-feira'\n",
        "  tipo = 'dia útil'\n",
        "else:\n",
        "  dia = 'sábado'\n",
        "  tipo = 'final de semana'\n",
        "\n",
        "print(f'{dia} ({tipo})')\n"
      ],
      "execution_count": null,
      "outputs": [
        {
          "output_type": "stream",
          "text": [
            "Número do dia da semana (1 a 7): 5\n",
            "quinta-feira (dia útil)\n"
          ],
          "name": "stdout"
        }
      ]
    },
    {
      "cell_type": "markdown",
      "metadata": {
        "id": "4sqI0CoYqzVL"
      },
      "source": [
        "##Questão 2"
      ]
    },
    {
      "cell_type": "markdown",
      "metadata": {
        "id": "IJgZ70NKAG6R"
      },
      "source": [
        "Escreva um programa que solicite a digitação de um caractere qualquer do teclado e imprima sua classificação:     \n",
        "vogal, consoante, número e caractere especial. "
      ]
    },
    {
      "cell_type": "code",
      "metadata": {
        "id": "JUqMtqddbxVJ",
        "colab": {
          "base_uri": "https://localhost:8080/"
        },
        "outputId": "eb90eb31-b6cc-4a5a-984c-9e494f6ef333"
      },
      "source": [
        "entrada = input('Caracter: ')\n",
        "\n",
        "caracter = entrada.lower()\n",
        "\n",
        "if caracter >= 'a' and caracter <= 'z':\n",
        "    if caracter == 'a' or caracter == 'e' or caracter == 'i' or caracter == 'o' or caracter == 'u':\n",
        "        tipo = 'vogal'\n",
        "    else:\n",
        "        tipo = 'consoante'\n",
        "else:\n",
        "    if caracter >= '0' and caracter <= '9':\n",
        "        tipo = 'número'\n",
        "    else:\n",
        "        tipo = 'caracter especial'   \n",
        "\n",
        "print(f'Tipo: {tipo}') \n"
      ],
      "execution_count": null,
      "outputs": [
        {
          "output_type": "stream",
          "text": [
            "Caracter: A\n",
            "Tipo: vogal\n"
          ],
          "name": "stdout"
        }
      ]
    },
    {
      "cell_type": "markdown",
      "metadata": {
        "id": "yW9uxLLVBujA"
      },
      "source": [
        "##Questão 3"
      ]
    },
    {
      "cell_type": "markdown",
      "metadata": {
        "id": "bss3Uzn87k8B"
      },
      "source": [
        "Escreva um programa que solicite a digitação de um ano e imprima sua classificação como bissexto ou não bissexto.     \n",
        "Obs: um ano é bissexto se for divisível por 4, mas não por 100. Um ano também é bissexto se for divisível por 400. "
      ]
    },
    {
      "cell_type": "code",
      "metadata": {
        "id": "Az_JEADmDzy-",
        "colab": {
          "base_uri": "https://localhost:8080/"
        },
        "outputId": "38436733-199e-4c54-c0c0-38bb71d23266"
      },
      "source": [
        "ano = int(input('Ano: '))\n",
        "\n",
        "if ((ano % 4 == 0) and (not ano % 100 == 0)) or (ano % 400 == 0):\n",
        "  print('Bissexto')\n",
        "else:\n",
        "  print('Não bissexto')\n",
        "  "
      ],
      "execution_count": null,
      "outputs": [
        {
          "output_type": "stream",
          "text": [
            "Ano: 2021\n",
            "Não bissexto\n"
          ],
          "name": "stdout"
        }
      ]
    },
    {
      "cell_type": "markdown",
      "metadata": {
        "id": "QhqKONF4Bms3"
      },
      "source": [
        "##Questão 4"
      ]
    },
    {
      "cell_type": "markdown",
      "metadata": {
        "id": "2s60B26m7Hni"
      },
      "source": [
        "Escreva um programa que leia a hora de início de um jogo e a hora do final do jogo (considerando apenas horas inteiras), calcula a duração do jogo em horas, sabendo-se que o tempo máximo de duração do jogo é de 24 horas e que o jogo pode iniciar em um dia e terminar no dia seguinte. O programa deve mostrar o resultado obtido."
      ]
    },
    {
      "cell_type": "code",
      "metadata": {
        "id": "o2WrXBkm7OPX",
        "colab": {
          "base_uri": "https://localhost:8080/"
        },
        "outputId": "ba9321e7-f850-4dfa-cbee-528686ef02e4"
      },
      "source": [
        "inicio = int(input('Hora inicial: '))\n",
        "final = int(input('Hora final: '))\n",
        "\n",
        "if inicio < final:\n",
        "  tempo = final - inicio\n",
        "else:\n",
        "  tempo = 24 - inicio + final\n",
        "\n",
        "print(f'Duração: {tempo} hora(s)')\n"
      ],
      "execution_count": null,
      "outputs": [
        {
          "output_type": "stream",
          "text": [
            "Hora incial: 22\n",
            "Hora final: 2\n",
            "Duração: 4 hora(s)\n"
          ],
          "name": "stdout"
        }
      ]
    },
    {
      "cell_type": "markdown",
      "metadata": {
        "id": "fAfMfQKM_jPo"
      },
      "source": [
        "##Questão 5"
      ]
    },
    {
      "cell_type": "markdown",
      "metadata": {
        "id": "1XEaAa17sw2D"
      },
      "source": [
        "Escreva um programa para determinar as raízes de uma equação de segundo grau, dados os seus coeficientes. Fórmulas:      \n",
        "      \n",
        "![imagem2_6.png](data:image/png;base64,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)\n",
        "\n",
        "\n",
        "Obs: se Δ for negativo, não existem as raízes da equação.   \n",
        "Dica: use a função sqrt do módulo math.\n"
      ]
    },
    {
      "cell_type": "code",
      "metadata": {
        "id": "Iag61tvVbw2r",
        "colab": {
          "base_uri": "https://localhost:8080/",
          "height": 101
        },
        "outputId": "b575c6fe-c325-4f25-d825-9bb66d63b0ea"
      },
      "source": [
        "import math\n",
        "\n",
        "print('Entre com os coeficientes da equação de 2º grau:')\n",
        "a = float(input('a: '))\n",
        "b = float(input('b: '))\n",
        "c = float(input('c: '))\n",
        "\n",
        "delta = (b**2) - (4*a*c) \n",
        "\n",
        "if delta < 0:\n",
        "  print('Não há raízes')\n",
        "else:\n",
        "  x1 = (-b + math.sqrt(delta)) / (2*a)\n",
        "  x2 = (-b - math.sqrt(delta)) / (2*a)\n",
        "  print(f'As raízes são: {x1:.1f} e {x2:.1f}')\n",
        "  "
      ],
      "execution_count": null,
      "outputs": [
        {
          "output_type": "stream",
          "text": [
            "Entre com os coeficientes da equação de 2º grau:\n",
            "a: 1\n",
            "b: 2\n",
            "c: -8\n",
            "As raízes são: 2.0 e -4.0\n"
          ],
          "name": "stdout"
        }
      ]
    },
    {
      "cell_type": "markdown",
      "metadata": {
        "id": "_MWlwCqrA9mQ"
      },
      "source": [
        "##Questão 6"
      ]
    },
    {
      "cell_type": "markdown",
      "metadata": {
        "id": "Q46WYbAh5c4Z"
      },
      "source": [
        "Na primeira etapa de um concurso, o candidato tem que fazer duas provas. Dessas duas notas é tirada a média do candidato. Caso essa média seja maior ou igual a 7.0, ele estará apto a fazer a segunda etapa do concurso.    \n",
        "Na segunda etapa, ele fará mais uma prova, onde deverá obter uma nota maior ou igual a 8.0 para ser aprovado no concurso.     \n",
        "Escreva um programa que leia as notas da primeira etapa, calcule a média da primeira etapa, e se o candidato for aprovado na primeira etapa, leia a nota dele na segunda etapa e diga se ele foi aprovado ou não no concurso."
      ]
    },
    {
      "cell_type": "code",
      "metadata": {
        "id": "TLgSNGWb5mUO",
        "colab": {
          "base_uri": "https://localhost:8080/"
        },
        "outputId": "89f77d13-9020-425f-9ba5-f3fdf6c5bee1"
      },
      "source": [
        "print('1ª Etapa')\n",
        "n1 = float(input('Nota 1: '))\n",
        "n2 = float(input('Nota 2: '))\n",
        "media = (n1 + n2) / 2\n",
        "print(f'Média: {media:.1f}')\n",
        "\n",
        "if media >= 7.0:\n",
        "    print('Apto para a 2ª Etapa')\n",
        "    n3 = float(input('Nota 3: '))\n",
        "    if n3 >= 8.0:\n",
        "        print('Aprovado no concurso')\n",
        "    else:\n",
        "        print('Reprovado no concurso')\n",
        "else:\n",
        "    print('Eliminado na 1ª Etapa')\n",
        "  "
      ],
      "execution_count": null,
      "outputs": [
        {
          "output_type": "stream",
          "text": [
            "1ª Etapa\n",
            "Nota 1: 7\n",
            "Nota 2: 8\n",
            "Média: 7.5\n",
            "Apto para a 2ª Etapa\n",
            "Nota 3: 9\n",
            "Aprovado no concurso\n"
          ],
          "name": "stdout"
        }
      ]
    }
  ]
}