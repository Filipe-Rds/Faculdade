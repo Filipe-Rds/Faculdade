{
  "nbformat": 4,
  "nbformat_minor": 0,
  "metadata": {
    "colab": {
      "provenance": [],
      "collapsed_sections": [],
      "include_colab_link": true
    },
    "kernelspec": {
      "name": "python3",
      "display_name": "Python 3"
    }
  },
  "cells": [
    {
      "cell_type": "markdown",
      "metadata": {
        "id": "view-in-github",
        "colab_type": "text"
      },
      "source": [
        "<a href=\"https://colab.research.google.com/github/Filipe-Rds/Faculdade/blob/main/Algoritmo%20e%20Programa%C3%A7%C3%A3o%20Estruturada/Listas%20Resolvidas/Estrutura_de_Repeti%C3%A7%C3%A3o_(while).ipynb\" target=\"_parent\"><img src=\"https://colab.research.google.com/assets/colab-badge.svg\" alt=\"Open In Colab\"/></a>"
      ]
    },
    {
      "cell_type": "markdown",
      "metadata": {
        "id": "PO8efkjRUtjo"
      },
      "source": [
        "**IFPB - CAMPUS JOÃO PESSOA    \n",
        "CURSO: SISTEMAS PARA INTERNET     \n",
        "DISCIPLINA: ALGORITMOS E PROGRAMAÇÃO ESTRUTURADA     \n",
        "PROFESSORES: CANDIDO EGYPTO / EDEMBERG ROCHA**"
      ]
    },
    {
      "cell_type": "markdown",
      "metadata": {
        "id": "VVFFZyE0cJBJ"
      },
      "source": [
        "# LISTA DE EXERCÍCIOS (RESOLVIDA) – ESTRUTURA DE REPETIÇÃO (WHILE)"
      ]
    },
    {
      "cell_type": "markdown",
      "metadata": {
        "id": "S9MjYNiFbGDT"
      },
      "source": [
        "##Questão 1"
      ]
    },
    {
      "cell_type": "markdown",
      "metadata": {
        "id": "mISrF8_Z9w8L"
      },
      "source": [
        "Faça um programa que leia 30 números inteiros, calcule e mostre a soma deles.    \n",
        "Obs: não use o comando ***for***, use ***while***."
      ]
    },
    {
      "cell_type": "code",
      "metadata": {
        "id": "U8_NLVBp97Hu",
        "colab": {
          "base_uri": "https://localhost:8080/",
          "height": 104
        },
        "outputId": "c50e1cdc-405c-4e68-80e6-0c39ca5690b3"
      },
      "source": [
        "qtd = 3 #para fins de teste, vamos colocar apenas 3 ao invés de 30.\n",
        "s = 0\n",
        "i = 1\n",
        "\n",
        "print(f'Digite {qtd} números inteiros:')\n",
        "\n",
        "while i <= qtd:\n",
        "    n = int(input())\n",
        "    s = s + n \n",
        "    i = i + 1\n",
        "\n",
        "print (f'Soma = {s}')\n"
      ],
      "execution_count": null,
      "outputs": [
        {
          "output_type": "stream",
          "text": [
            "Digite 3 números inteiros:\n",
            "8\n",
            "10\n",
            "5\n",
            "Soma = 23\n"
          ],
          "name": "stdout"
        }
      ]
    },
    {
      "cell_type": "markdown",
      "metadata": {
        "id": "VEOnOHOvzNVT"
      },
      "source": [
        "##Questão 2"
      ]
    },
    {
      "cell_type": "markdown",
      "metadata": {
        "id": "4uIk1i5Q-ZIg"
      },
      "source": [
        "Faça um programa que leia vários números inteiros, calcule e exiba a média desses números.    \n",
        "Obs: a leitura do número 999 indica o fim dos dados de entrada e não deve ser computado na média.\n"
      ]
    },
    {
      "cell_type": "code",
      "metadata": {
        "id": "nvF2s4cn0rva",
        "colab": {
          "base_uri": "https://localhost:8080/",
          "height": 121
        },
        "outputId": "0c6a9ea9-06de-4ecc-f5b0-cb6bd00a91f3"
      },
      "source": [
        "flag = 999\n",
        "soma = 0\n",
        "cont = 0\n",
        "\n",
        "print(f'Digite vários números (para encerrar, digite {flag})')\n",
        "num = int(input())\n",
        "\n",
        "while num != flag:\n",
        "    soma = soma + num\n",
        "    cont = cont + 1\n",
        "    num = int(input())\n",
        "\n",
        "media = soma / cont\n",
        "\n",
        "print(f'Média = {media:.1f}')\n"
      ],
      "execution_count": null,
      "outputs": [
        {
          "output_type": "stream",
          "text": [
            "Digite vários números (para encerrar, digite 999)\n",
            "8\n",
            "10\n",
            "5\n",
            "999\n",
            "Média = 7.7\n"
          ],
          "name": "stdout"
        }
      ]
    },
    {
      "cell_type": "markdown",
      "metadata": {
        "id": "a9-9tlNp0ZDN"
      },
      "source": [
        "## Questão 3\t"
      ]
    },
    {
      "cell_type": "markdown",
      "metadata": {
        "id": "YnurKizu-ozN"
      },
      "source": [
        "Faça um programa que leia vários números, determine e mostre o maior e o menor deles.    \n",
        "Obs: a leitura do número 0 (zero) encerra o programa."
      ]
    },
    {
      "cell_type": "code",
      "metadata": {
        "id": "nZRu4lMLbwgq",
        "colab": {
          "base_uri": "https://localhost:8080/",
          "height": 139
        },
        "outputId": "4d646e1a-0d48-4610-9bbb-3da95c0f3086"
      },
      "source": [
        "flag = 0\n",
        "\n",
        "print(f'Digite vários números (para encerrar, digite {flag})')\n",
        "num = int(input())\n",
        "\n",
        "maior = num\n",
        "menor = num\n",
        "\n",
        "while num != flag:\n",
        "\n",
        "    if num > maior:\n",
        "        maior = num\n",
        "\n",
        "    if num < menor:\n",
        "        menor = num\n",
        "\n",
        "    num = int(input())\n",
        "\n",
        "print(f'Maior = {maior}')\n",
        "print(f'Menor = {menor}')\n"
      ],
      "execution_count": null,
      "outputs": [
        {
          "output_type": "stream",
          "text": [
            "Digite vários números (para encerrar, digite 0)\n",
            "8\n",
            "10\n",
            "5\n",
            "0\n",
            "Maior = 10\n",
            "Menor = 5\n"
          ],
          "name": "stdout"
        }
      ]
    },
    {
      "cell_type": "markdown",
      "metadata": {
        "id": "OwFlJqPwqoyc"
      },
      "source": [
        "##Questão 4 "
      ]
    },
    {
      "cell_type": "markdown",
      "metadata": {
        "id": "Tm2rNLKQ-15f"
      },
      "source": [
        "Faça um programa que leia os seguintes dados de um conjunto de alunos: matrícula, nome e as duas notas que ele obteve em suas avaliações. A condição de parada será a digitação de uma matrícula igual 0 (zero).     \n",
        "O programa deverá mostrar, para cada aluno, as seguintes informações: matrícula, nome, média e situação (aprovado, se a média for igual ou superior a 7 e, reprovado, se a média for inferior a 7). "
      ]
    },
    {
      "cell_type": "code",
      "metadata": {
        "id": "eHx4nTUHRcFY",
        "colab": {
          "base_uri": "https://localhost:8080/"
        },
        "outputId": "1a2ac9b6-d1d0-4b2f-906e-2b83741a1f45"
      },
      "source": [
        "flag = 0\n",
        "print(f'Informe os dados dos alunos. Para encerrar, digite a matrícula {flag}.')\n",
        "mat = int(input('\\nMatrícula: '))\n",
        "while mat != flag:\n",
        "    nome = input('Nome: ')\n",
        "    nota1 = float(input('1ª Nota: '))\n",
        "    nota2 = float(input('2ª Nota: '))\n",
        "    media = (nota1 + nota2) / 2\n",
        "    if media >= 7.0:\n",
        "        sit = 'Aprovado'\n",
        "    else:\n",
        "        sit = 'Reprovado'\n",
        "    print(f'\\nMatrícula: {mat}')\n",
        "    print(f'Nome: {nome}')\n",
        "    print(f'Média: {media:.1f}')\n",
        "    print(f'Situação: {sit}')\n",
        "    mat = int(input('\\nMatrícula: '))\n",
        "print('Fim do programa.')\n"
      ],
      "execution_count": null,
      "outputs": [
        {
          "output_type": "stream",
          "name": "stdout",
          "text": [
            "Informe os dados dos alunos. Para encerrar, digite a matrícula 0.\n",
            "\n",
            "Matrícula: 11111\n",
            "Nome: Antonio\n",
            "1ª Nota: 7\n",
            "2ª Nota: 8\n",
            "\n",
            "Matrícula: 11111\n",
            "Nome: Antonio\n",
            "Média: 7.5\n",
            "Situação: Aprovado\n",
            "\n",
            "Matrícula: 22222\n",
            "Nome: maria\n",
            "1ª Nota: 10\n",
            "2ª Nota: 9\n",
            "\n",
            "Matrícula: 22222\n",
            "Nome: maria\n",
            "Média: 9.5\n",
            "Situação: Aprovado\n",
            "\n",
            "Matrícula: 0\n",
            "Fim do programa.\n"
          ]
        }
      ]
    },
    {
      "cell_type": "markdown",
      "metadata": {
        "id": "FtJ6-r5u--WY"
      },
      "source": [
        "##Questão 5"
      ]
    },
    {
      "cell_type": "markdown",
      "metadata": {
        "id": "AGRIMfsnsn7W"
      },
      "source": [
        "Faça um programa que leia um número inteiro e determine se ele é par ou ímpar.   \n",
        "Ao final, o programa deve perguntar se o usuário deseja continuar (digitar outro número) ou sair.     \n",
        "Se o usuário quiser continuar, o programa deve repetir tudo de novo, caso contrário o programa deve ser encerrado."
      ]
    },
    {
      "cell_type": "code",
      "metadata": {
        "id": "DDHdyHOCRrJi",
        "colab": {
          "base_uri": "https://localhost:8080/"
        },
        "outputId": "62bd12e2-08e9-43e4-8177-4dcad618e18e"
      },
      "source": [
        "resp = 'S'\n",
        "while resp == 'S':\n",
        "    n = int(input('Digite um número inteiro: '))\n",
        "    if n % 2 == 0:\n",
        "        result = 'par'\n",
        "    else:\n",
        "        result = 'ímpar'        \n",
        "    print(f'{n} é {result}')\n",
        "    resp = input('Deseja continuar (S/N)? ').upper()\n",
        "    print('')\n",
        "print('Fim do programa')"
      ],
      "execution_count": null,
      "outputs": [
        {
          "output_type": "stream",
          "name": "stdout",
          "text": [
            "Digite um número inteiro: 5\n",
            "5 é ímpar\n",
            "Deseja continuar (S/N)? s\n",
            "\n",
            "Digite um número inteiro: 4\n",
            "4 é par\n",
            "Deseja continuar (S/N)? n\n",
            "\n",
            "Fim do programa\n"
          ]
        }
      ]
    },
    {
      "cell_type": "markdown",
      "metadata": {
        "id": "fAfMfQKM_jPo"
      },
      "source": [
        "##Questão 6"
      ]
    },
    {
      "cell_type": "markdown",
      "metadata": {
        "id": "BHXVd8W0Ls9K"
      },
      "source": [
        "Chico tem 1,50 metros e cresce 2 centímetros por ano, enquanto Zé tem 1,10 metros e cresce 3 centímetros por ano.    \n",
        "Faça um programa que calcule e imprima quantos anos serão necessários para que Zé seja maior que Chico."
      ]
    },
    {
      "cell_type": "code",
      "source": [
        "chico = 150\n",
        "ze = 110\n",
        "cont = 0\n",
        "while ze <= chico:\n",
        "    cont = cont + 1\n",
        "    chico = chico + 2\n",
        "    ze = ze + 3\n",
        "print(cont)"
      ],
      "metadata": {
        "colab": {
          "base_uri": "https://localhost:8080/"
        },
        "id": "35Pt9hwAiiJK",
        "outputId": "dccd277a-82a2-4946-87cc-4ea871bfebd4"
      },
      "execution_count": null,
      "outputs": [
        {
          "output_type": "stream",
          "name": "stdout",
          "text": [
            "41\n"
          ]
        }
      ]
    },
    {
      "cell_type": "code",
      "metadata": {
        "id": "Oc_T6l5rR2iZ",
        "colab": {
          "base_uri": "https://localhost:8080/"
        },
        "outputId": "2742b8c0-5d68-47d4-962b-8eddef674945"
      },
      "source": [
        "#Outra versão:\n",
        "alt_chico = 1.50\n",
        "alt_ze = 1.10\n",
        "cresc_chico = 0.02\n",
        "cresc_ze = 0.03\n",
        "anos = 0\n",
        "\n",
        "while alt_chico >= alt_ze:\n",
        "    anos = anos + 1\n",
        "    alt_chico = alt_chico + cresc_chico\n",
        "    alt_ze = alt_ze + cresc_ze \n",
        "\n",
        "print(f'Serão necessários {anos} anos para que Zé seja maior que Chico')\n"
      ],
      "execution_count": null,
      "outputs": [
        {
          "output_type": "stream",
          "name": "stdout",
          "text": [
            "Serão necessários 41 anos para que Zé seja maior que Chico\n"
          ]
        }
      ]
    },
    {
      "cell_type": "markdown",
      "metadata": {
        "id": "35Hubnu6_2Dq"
      },
      "source": [
        "\n",
        "##Questão 7"
      ]
    },
    {
      "cell_type": "markdown",
      "metadata": {
        "id": "kpPO6J2T-uJX"
      },
      "source": [
        "Faça um programa que leia a idade de várias pessoas visitantes de um show (a leitura da idade 0 indicará o fim dos dados de entrada), calcule e exiba:     \n",
        "* A média de idade do público;    \n",
        "* A porcentagem de pessoas com idade entre 18 e 21 anos;    \n",
        "* Idade do visitante mais jovem."
      ]
    },
    {
      "cell_type": "code",
      "metadata": {
        "colab": {
          "base_uri": "https://localhost:8080/"
        },
        "id": "2pMf-TIc-x1o",
        "outputId": "ca94d437-4f4a-4089-88e2-102eaa5a0219"
      },
      "source": [
        "flag = 0\n",
        "soma_geral = 0\n",
        "cont_geral = 0\n",
        "cont_faixa = 0\n",
        "menor_idade = 1000\n",
        "print('Digite a idade das pessoas visitantes do show.')\n",
        "print('Obs: para encerrar, digite a idade 0')\n",
        "idade = int(input('Idade: '))\n",
        "while idade != flag:\n",
        "    soma_geral += idade\n",
        "    cont_geral += 1\n",
        "    if idade >= 18 and idade <= 21:\n",
        "        cont_faixa += 1\n",
        "    if idade < menor_idade:\n",
        "        menor_idade = idade\n",
        "    idade = int(input('Idade: '))\n",
        "media_geral = soma_geral / cont_geral\n",
        "perc_faixa = cont_faixa / cont_geral * 100\n",
        "print(f'\\nMédia de idade do público: {media_geral:.0f} anos')\n",
        "print(f'Porcentagem de pessoas com idade entre 18 e 21 anos: {perc_faixa:.1f}%')\n",
        "print(f'Idade do visitante mais jovem: {menor_idade} anos')\n"
      ],
      "execution_count": null,
      "outputs": [
        {
          "output_type": "stream",
          "text": [
            "Digite a idade das pessoas visitantes do show.\n",
            "Obs: para encerrar, digite a idade 0\n",
            "Idade: 20\n",
            "Idade: 25\n",
            "Idade: 18\n",
            "Idade: 0\n",
            "\n",
            "Média de idade do público: 21 anos\n",
            "Porcentagem de pessoas com idade entre 18 e 21 anos: 66.7%\n",
            "Idade do visitante mais jovem: 18 anos\n"
          ],
          "name": "stdout"
        }
      ]
    },
    {
      "cell_type": "markdown",
      "metadata": {
        "id": "8xAI-9Bs_91H"
      },
      "source": [
        "##Questão 8"
      ]
    },
    {
      "cell_type": "markdown",
      "metadata": {
        "id": "AlkNFuQJdpJh"
      },
      "source": [
        "O cardápio de uma casa de lanches, especializada em sanduíches, é dado a seguir.    \n",
        "\n",
        "> ![imagem5_7.png](data:image/png;base64,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)    \n",
        "\n",
        "Faça um programa que leia o código e a quantidade de cada item comprado por um cliente (a leitura do código “X” indica o fim dos dados de entrada).    \n",
        "Ao final, calcule e exiba o total a pagar.  \n",
        "Veja o exemplo abaixo, considerando que o cliente pediu 3 Hamburger e 2 Cheese Bacon:\n",
        "> Entrada:\n",
        ">> Código: H    \n",
        ">> Quantidade: 3     \n",
        ">> Código: B     \n",
        ">> Quantidade: 2     \n",
        ">> Código: X  \n",
        "\n",
        "> Saída:     \n",
        ">> Total a pagar: R$ 29.00  "
      ]
    },
    {
      "cell_type": "code",
      "source": [
        "flag = 'X'\n",
        "total_geral = 0\n",
        "print('Digite o códifo e a quantidade de cada item comprado.')\n",
        "print(f'Para encerrar, digite o código \"{flag}\".')\n",
        "codigo = input('Código: ').upper()\n",
        "while codigo != flag:\n",
        "    quant = int(input('Quantidade: '))\n",
        "    if codigo == 'H':\n",
        "        preco = 5.00\n",
        "    elif codigo == 'C':\n",
        "        preco = 6.00\n",
        "    elif codigo == 'B':\n",
        "        preco = 7.00\n",
        "    else:\n",
        "        preco = 4.00\n",
        "    total_item = quant * preco\n",
        "    total_geral = total_geral + total_item\n",
        "    codigo = input('Código: ').upper()\n",
        "print(f'Total geral: R$ {total_geral:.2f}')\n"
      ],
      "metadata": {
        "colab": {
          "base_uri": "https://localhost:8080/"
        },
        "id": "Cg8OkM1Ln4Lg",
        "outputId": "184a57ba-bf7c-4a18-8556-d130f13a42d1"
      },
      "execution_count": null,
      "outputs": [
        {
          "output_type": "stream",
          "name": "stdout",
          "text": [
            "Digite o códifo e a quantidade de cada item comprado.\n",
            "Para encerrar, digite o código \"X\".\n",
            "Código: H\n",
            "Quantidade: 3\n",
            "Código: B\n",
            "Quantidade: 2\n",
            "Código: X\n",
            "Total geral: R$ 29.00\n"
          ]
        }
      ]
    },
    {
      "cell_type": "code",
      "metadata": {
        "id": "_cfIjFEzd9K5",
        "colab": {
          "base_uri": "https://localhost:8080/"
        },
        "outputId": "ae0b9108-3f60-44a3-d3ef-a911780d7c8f"
      },
      "source": [
        "flag = 'X'\n",
        "total_geral = 0\n",
        "\n",
        "print(f'Informe o código e a quantidade dos itens.\\nPara encerrar, digite o código \"{flag}\"')\n",
        "cod = input('\\nCódigo: ').upper()\n",
        "\n",
        "while cod != flag:\n",
        "\n",
        "    print(f'Informe o código e a quantidade dos itens.\\nPara encerrar, digite o código \"{flag}\"')\n",
        "    cod = input('\\nCódigo: ').upper()\n",
        "    quant = int(input('Quantidade: '))\n",
        "    \n",
        "    if cod == 'H':\n",
        "        preco = 5.00\n",
        "    elif cod == 'C':\n",
        "        preco = 6.00\n",
        "    elif cod == 'B':\n",
        "        preco = 7.00\n",
        "    else:\n",
        "        preco = 4.00\n",
        "    \n",
        "    total_item = preco * quant\n",
        "    total_geral = total_geral + total_item\n",
        "    \n",
        "    cod = input('\\nCódigo: ').upper()\n",
        "\n",
        "print(f'\\nTotal a pagar: R$ {total_geral:.2f}')\n"
      ],
      "execution_count": null,
      "outputs": [
        {
          "output_type": "stream",
          "name": "stdout",
          "text": [
            "Informe o código e a quantidade dos itens.\n",
            "Para encerrar, digite o código \"X\"\n",
            "\n",
            "Código: h\n",
            "Informe o código e a quantidade dos itens.\n",
            "Para encerrar, digite o código \"X\"\n",
            "\n",
            "Código: h\n",
            "Quantidade: 5\n",
            "olá\n",
            "\n",
            "Código: x\n",
            "\n",
            "Total a pagar: R$ 25.00\n"
          ]
        }
      ]
    }
  ]
}