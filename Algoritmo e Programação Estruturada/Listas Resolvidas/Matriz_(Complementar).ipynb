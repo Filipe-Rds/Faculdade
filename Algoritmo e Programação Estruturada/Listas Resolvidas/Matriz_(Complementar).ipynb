{
  "nbformat": 4,
  "nbformat_minor": 0,
  "metadata": {
    "colab": {
      "provenance": [],
      "collapsed_sections": [],
      "include_colab_link": true
    },
    "kernelspec": {
      "name": "python3",
      "display_name": "Python 3"
    }
  },
  "cells": [
    {
      "cell_type": "markdown",
      "metadata": {
        "id": "view-in-github",
        "colab_type": "text"
      },
      "source": [
        "<a href=\"https://colab.research.google.com/github/Filipe-Rds/Faculdade/blob/main/Algoritmo%20e%20Programa%C3%A7%C3%A3o%20Estruturada/Listas%20Resolvidas/Matriz_(Complementar).ipynb\" target=\"_parent\"><img src=\"https://colab.research.google.com/assets/colab-badge.svg\" alt=\"Open In Colab\"/></a>"
      ]
    },
    {
      "cell_type": "markdown",
      "metadata": {
        "id": "PO8efkjRUtjo"
      },
      "source": [
        "**IFPB - CAMPUS JOÃO PESSOA    \n",
        "CURSO: SISTEMAS PARA INTERNET     \n",
        "DISCIPLINA: ALGORITMOS E PROGRAMAÇÃO ESTRUTURADA     \n",
        "PROFESSORES: CANDIDO EGYPTO / EDEMBERG ROCHA**"
      ]
    },
    {
      "cell_type": "markdown",
      "metadata": {
        "id": "VVFFZyE0cJBJ"
      },
      "source": [
        "# LISTA DE EXERCÍCIOS (RESOLVIDA) - MATRIZ (COMPLEMENTAR)"
      ]
    },
    {
      "cell_type": "markdown",
      "metadata": {
        "id": "OwFlJqPwqoyc"
      },
      "source": [
        "##Questão 1"
      ]
    },
    {
      "cell_type": "markdown",
      "metadata": {
        "id": "HJLdo3gHIQyD"
      },
      "source": [
        "Uma matriz de permutação é uma matriz quadrada cujos elementos são 0's ou 1's, tal que em cada linha e em cada coluna exista apenas um elemento igual a 1.\n",
        "         \n",
        "Por exemplo, a matriz seguinte é uma matriz de permutação.\n",
        "> ![imagem10_1.png](data:image/png;base64,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)\n",
        "\n",
        "Com base na definição apresentada, escreva um programa que preencha uma matriz quadrada com valores fornecidos pelo usuário, determine e mostre se a mesma é uma matriz de permutação."
      ]
    },
    {
      "cell_type": "code",
      "source": [
        "m = [[1,0,0],[0,1,0],[0,0,1]]\n",
        "n = len(m)\n",
        "\n",
        "teste = True\n",
        "for i in range(n):\n",
        "    sl = 0\n",
        "    sc = 0\n",
        "    for j in range(n):\n",
        "        sl += m[i][j]\n",
        "        sc += m[j][i]\n",
        "    if sl != 1 or sc != 1:\n",
        "        teste = False\n",
        "\n",
        "if teste:\n",
        "    print('É uma matriz de permutação')\n",
        "else:\n",
        "    print('Não é uma matriz de permutação')\n"
      ],
      "metadata": {
        "colab": {
          "base_uri": "https://localhost:8080/"
        },
        "id": "AF_ovIU7Anuq",
        "outputId": "a64c82a7-a6e1-48ac-c125-6608f7ae0f14"
      },
      "execution_count": null,
      "outputs": [
        {
          "output_type": "stream",
          "name": "stdout",
          "text": [
            "É uma matriz de permutação\n"
          ]
        }
      ]
    },
    {
      "cell_type": "markdown",
      "source": [
        "Outra versão:"
      ],
      "metadata": {
        "id": "DUNIZYiLDpCy"
      }
    },
    {
      "cell_type": "code",
      "metadata": {
        "id": "7moLFahJMfYp",
        "colab": {
          "base_uri": "https://localhost:8080/"
        },
        "outputId": "6417b55a-13f4-49e8-d691-68bb4b958980"
      },
      "source": [
        "# Leitura da ordem da matriz\n",
        "n = int(input('Digite a ordem da matriz: '))\n",
        "\n",
        "# Criação da matriz com valores nulos\n",
        "m = [[None]*n for i in range(n)]\n",
        "\n",
        "# Leitura dos elementos da matriz\n",
        "print('\\nDigite os elementos da matriz (0 ou 1):')\n",
        "for i in range(n):\n",
        "    for j in range(n):\n",
        "        m[i][j] = int(input(f'm[{i}][{j}]: '))\n",
        "\n",
        "# Exibição da matriz \n",
        "print('\\nMatriz:')\n",
        "for i in range(n):\n",
        "    for j in range(n):\n",
        "        print(f'{m[i][j]:4}',end='')\n",
        "    print()\n",
        "\n",
        "# Testando as linhas\n",
        "teste = True\n",
        "for i in range(n):\n",
        "    cont = 0\n",
        "    for j in range(n):\n",
        "        if m[i][j] == 1:\n",
        "            cont += 1\n",
        "    if cont != 1:\n",
        "        teste = False\n",
        "        break\n",
        "\n",
        "# Testando as colunas\n",
        "if teste:\n",
        "    for j in range(n):\n",
        "        cont = 0\n",
        "        for i in range(n):\n",
        "            if m[i][j] == 1:\n",
        "                cont += 1\n",
        "        if cont != 1:\n",
        "            teste = False\n",
        "            break\n",
        "\n",
        "# Mostrando o resultado final\n",
        "if teste:\n",
        "    print('\\nÉ uma matriz de permutação')\n",
        "else:\n",
        "    print('\\nNão é uma matriz de permutação')    \n"
      ],
      "execution_count": null,
      "outputs": [
        {
          "output_type": "stream",
          "name": "stdout",
          "text": [
            "Digite a ordem da matriz: 3\n",
            "\n",
            "Digite os elementos da matriz (0 ou 1):\n",
            "m[0][0]: 1\n",
            "m[0][1]: 0\n",
            "m[0][2]: 0\n",
            "m[1][0]: 0\n",
            "m[1][1]: 1\n",
            "m[1][2]: 0\n",
            "m[2][0]: 0\n",
            "m[2][1]: 0\n",
            "m[2][2]: 1\n",
            "\n",
            "Matriz:\n",
            "   1   0   0\n",
            "   0   1   0\n",
            "   0   0   1\n",
            "\n",
            "É uma matriz de permutação\n"
          ]
        }
      ]
    },
    {
      "cell_type": "markdown",
      "metadata": {
        "id": "7hQN71lJWmAT"
      },
      "source": [
        "##Questão 2"
      ]
    },
    {
      "cell_type": "markdown",
      "metadata": {
        "id": "zfs9CHbaJK8q"
      },
      "source": [
        "Uma matriz quadrada contendo valores inteiros é denominada quadrado mágico quando a soma dos elementos de cada linha, a soma dos elementos de cada coluna e a soma dos elementos das diagonais principal e secundária são todos iguais.      \n",
        "\n",
        "Por exemplo, a matriz seguinte é um quadrado mágico.   \n",
        "> ![imagem10_2.png](data:image/png;base64,iVBORw0KGgoAAAANSUhEUgAAARwAAAB3CAIAAABe0miaAAAAAXNSR0IArs4c6QAAAARnQU1BAACxjwv8YQUAAAAJcEhZcwAADsMAAA7DAcdvqGQAAAqySURBVHhe7Z1PaBzXHcf3sOBDoIeADgs9BAQ9CONDig+FHhYMOqTnhZgiEXwJqOBgUgsHDBu3JE6U2iARKSGJqRqDhNd1G5o/2EZGBFuxqMgh7dpyoYcS7e7BhdbRLtRhGZw3+34z+u3qzVp6zJv3U+f7OT1Ghn3+8L7zZubN/F7hCQAgVRAqAFIGoQIgZRAqAFIGoQIgZRAqAFIGoQIgZRAqAFLGEKpCAUnrA0I4sMEx2jCHCgCwRyg2DHOoqAV6QAgHNjgIlSUQwoENDkJlCYRwYIODUFkCIRzY4CBUlkAIBzY4CJUlEMKBDQ5CZQmEcGCDg1BZAiEc2OAIDFWnefv8B6+U1C9qihMzZz+5/5D+KgXVMWq5JqivX65Mxj5Kk5XFm6vbAf1VBqpf1HJGsDk1rg0kcOjtjcf0bz2jOkMthsdQtTYXjuzkaYfSyK9v1CUNJNUnarkkaMye+XlRK+AUJxZXJOVKdYlazkCoLCFx6mT82YNoamo9+PR47zz90/KNf9MxAWQhJPjrtcln1A8VJy7M3nvUO9Rp3nmpZ6M0cn5dzuydhY0kgpVLx9R5R9DwMNrwFarv/vH+qMmOPl4qfbDZpSP+yUBIdIr5VXXrezoU0v3u5rFerF6bfyRlsspkeBjpttePl9XPly/W2qJt+ArVw43zI6ZQ6WE0Olb7lg4IwL0QfSopFE/fatGRiEfz08Km7kyGhwmazA/ACddXqOgcXDxx7Rt+0tHiBk/YnnEv5Os//vJQQnL0nwSNJF+hiiZzQZO2QlSo4hPPzl1E0Fi6FD4JPHyk9i85pyKFcyHd2jvhRFWurLfpyA56Spd+a+6ef9569UcqUqJuLxVGG/5CpdhevX5uLLy6KZSe/cmzvZuHyeNrLVGJUjgXglA9jWCreiIcH5Wpzf/RIRkYbXgNlWJ75WrfOlX87EsQqmPUcsSwUD1uXXle/S3foYruOQduFgRgtOExVPEj4/Hy3BdffjkbrQIfHnvzdr7WqTBTDUfe05oYow1foeo0b7zQezz6+nwjfiYRx+zw2Ht/y9HKDEI1jE7jytHeuffSqrBpSmG04SlU7aWZ8O2B3ZfI0VpEvlZmhjz90zfogtYYshgeHFrwFff4SiMoVPR4dPSd2m5PNNe/XG1KceheiE7OkHUqQTfo7m1wJC5/c4w2vIbKNFYELke4F5I0dCRe+bi3wRC54Msx2vATqmhOV/cR0yfvxlNSp/nVqdO9l0oN52x/ZCGErocLxYl3l+gmM34TUtaVTxY2iPheQNbLAByjDU+hUr7uneyNGBN9Ty/8o3pELYckCcnpO/s9kq+KxWC04StUIcFWbXmRfT4Unqdnzi6siRpDCtUxajlGCanRanhI3r8ua1YnQw3iFnw5Rhs+Q3VQgBAObHAQKksghAMbHITKEgjhwAYHobIEQjiwwUGoLIEQDmxwECpLIIQDGxyEyhII4cAGZx+hAgDsEYoNwxwqaoEeEMKBDQ5CZQmEcGCDg1BZAiEc2OAgVJZACAc2OAiVJRDCgQ0OQmUJhHBgg4NQWQIhHNjgIFSWQAgHNjgIlSUQwoENjuhQRXV9E0oseSUTIfTpuAFh9e5Uj6iVBd12/f3luXJYqUJTnp76+K6cb8NVj6jFkBGqaLOCkJyGSpf+M5HbUAX1u2/uFBdgSC9fJyFUukBXaaT6m+nRnIdK0HBJIqvhEZVnC6uC34g3Pg62anPVT+Xsg2y0ISBUujpX+eLn/1kKqx8jVLLJZnhEtwPjx242JBuRGaqtjTd+TBWPdUlxhEo2mdiQu83HAAJDRdUSyR1ChVBp5G2YnYS8UOkLv7j+KELVR2nk1Hu/vSMuZKpn1HKHvHr6SRhteAyVnuJZTWOEykAuK9TqMpql12b/fuvypZd1JfCQ0mRl8aacpxQK1SlqMbyFSt+J9l005zpUA3Tb9fl4F7zc1VKn2rQJlC/W2lJypbpDLYanUNHCVH9FX4RqgHj5Lm+7flCowgvg6p/jwtfxjg3S9+r3EqpoYWpgp3GEahCJuzNlYSO6/Nv1v6angoXJa3U64hmjDS+hSn4lZwdBT35Ub6iVOd31SjiI8hkq04MKEiLmzGu04SVUtI/tUBAqRTRTSZq9s7BBj9R3b4IcCRFzPWy04SVUCeDyb4D25x++GO4jOHid7JVMbOhrmd3/cTqOe6o9k99QPdx447mxc39gq1Kd5lr1rTBRagjJ2kcwk+ER7aFYGC8vRO+kb69e15t3SRJitIFQPR33QpKvh0snpu49on8lA9UparlFv7+2G1lvA6oOUYshKVT6Sjqfl39BfW3hbLQw1aM8PfXRdVELnRrVNWo5p3X/L2doug4ZL8/9qSZs81/VLWoxJIVKKhDCgQ0OQmUJhHBgg4NQWQIhHNjgIFSWQAgHNjgIlSUQwoENDkJlCYRwYIODUFkCIRzY4OwjVACAPUKxYZhDRS3QA0I4sMFBqCyBEA5scBAqSyCEAxschMoSCOHABgehsgRCOLDBQagsgRAObHAQKksghAMbHITKEgjhwAZHXKiCrdryYqVXyU0j8Ss0heoZtdKn9WD5WPjd+JBPM4P6+mVmyXeVVtUFarml07w9w7d7K07MnP0krgEoBdUxajF8hSouQrCL8uvzjQPwdWcKbK9cjT/1TQhV0Jg9Exc9ZhQnFlc85Ur9OrUckvQt/cEogu0rVI9bV46G9Ufn1iJH0TlbjZjTt1r6mAwcCOm271d3SoQrjKGKKtQWJy7MUqWKTvPOS7pKq68SS+q3qeWQr6+OP1eeW56vU32OoPH7C/Rd/S8q6//VByVgtOErVEaiIpti6o9qUhcSbE6Nh//P0sipxTtLLyRVh6R/Nlg8yHPZWvXL1MoY2gqkcOjtjcd0yD9GG6JCpaav50Nt/++h6q5XDv3s9Mm7YUGy5JKr0cZnu+dtGl5+6o2mbmPP0MYoCNV+oKsdQaUSNU6FJIdKjyFjcvSf/IjyNjwQqn3Cdo6RtFGKxqmQxFDpKoiG0scKqhPoZXg5tTEMr/NzEkYbXkPVvw1R+Mz0d5/lrdIdQrU3ov0+JO3VoDDaEBSqHofHzn0hLVeqW9RygFWo6OYzP6GKNquXtf+dwmjDa6g426vXo4Vgj4swRpwKwUz1dPTe0PIWqRRGG2JCFRKvCB+A6+a0QKieAm19Iu5UqzHaEBUqNc3rjYn8DJcknApJDNWwp396QW90rPYtHciQTIdHvEGrvPdsNEYbwkJ1cB6bpkVyqGgpPHmdqn/H5KxwaqOP4JuVV/UDYaGJUhhtyApVdD+Kyz9F0psTncaVo+FxT7sJOrWxQ5woeZsJcYw2PIWqW3vrmRcri5f7tjn76hS9DidsqcqpkORQxTfo6nbi3SU6Vcc7tHt7DubURkRrc+FI74QiOlEKow1PoYrunQzkYJuz6N0/I3yW7rbvnWSfxsT4fA6mfp5a7jCstXAEXcio3lCL4SlUihxvc7bnUIUEW7Wa3pazh/fPilQfqOWO6N3ZBBCqgw+EcGCDg1BZAiEc2OAgVJZACAc2OAiVJRDCgQ0OQmUJhHBgg4NQWQIhHNjgIFSWQAgHNjgIlSUQwoENzj5CBQDYIxQbBs46AKQMQgVAyiBUAKQMQgVAyiBUAKQMQgVAyiBUAKQMQgVAqjx58gOaDsG2t8SLFgAAAABJRU5ErkJggg==)\n",
        "\n",
        "Escreva um programa que preencha uma matriz com valores fornecidos pelo usuário, determine e mostre se a mesma é um quadrado mágico.\n"
      ]
    },
    {
      "cell_type": "code",
      "metadata": {
        "id": "EgV0fL7kPDsB",
        "colab": {
          "base_uri": "https://localhost:8080/"
        },
        "outputId": "0d86c806-dec0-42cc-d952-b6b9cf52363b"
      },
      "source": [
        "# Leitura da ordem da matriz\n",
        "n = int(input('Digite a ordem da matriz: '))\n",
        "\n",
        "# Criação da matriz com valores nulos\n",
        "m = [[None]*n for i in range(n)]\n",
        "\n",
        "# Leitura dos elementos da matriz\n",
        "print('\\nDigite os elementos da matriz:')\n",
        "for i in range(n):\n",
        "    for j in range(n):\n",
        "        m[i][j] = int(input(f'm[{i}][{j}]: '))\n",
        "\n",
        "# Exibição da matriz \n",
        "print('\\nMatriz:')\n",
        "for i in range(n):\n",
        "    for j in range(n):\n",
        "        print(f'{m[i][j]:4}',end='')\n",
        "    print()\n",
        "\n",
        "# Inicialização da variável do resultado\n",
        "quadradoM = True\n",
        "\n",
        "# Verificando a soma da diagonal principal\n",
        "diagP = 0\n",
        "for i in range(n):\n",
        "    diagP += m[i][i]\n",
        "\n",
        "# Verificando a soma da diagonal secundária\n",
        "diagS = 0\n",
        "for i in range(n):\n",
        "    diagS += m[n-i-1][i]\n",
        "if diagS != diagP:\n",
        "    quadradoM = False\n",
        "\n",
        "# Verificando a soma de cada linha\n",
        "for i in range(n):\n",
        "    somaL = 0\n",
        "    for j in range(n):\n",
        "        somaL += m[i][j]\n",
        "    if somaL != diagP:\n",
        "        quadradoM = False\n",
        "\n",
        "# Verificando a soma de cada coluna\n",
        "for j in range(n):\n",
        "    somaC = 0\n",
        "    for i in range(n):\n",
        "        somaC += m[i][j]\n",
        "    if somaC != diagP:\n",
        "        quadradoM = False\n",
        "\n",
        "# Exibição do resultado final\n",
        "if quadradoM:\n",
        "    print('\\nÉ quadrado mágico')\n",
        "else:\n",
        "    print('\\nNão é quadrado mágico')\n"
      ],
      "execution_count": null,
      "outputs": [
        {
          "output_type": "stream",
          "name": "stdout",
          "text": [
            "Digite a ordem da matriz: 3\n",
            "\n",
            "Digite os elementos da matriz:\n",
            "m[0][0]: 4\n",
            "m[0][1]: 5\n",
            "m[0][2]: 6\n",
            "m[1][0]: 8\n",
            "m[1][1]: 0\n",
            "m[1][2]: 7\n",
            "m[2][0]: 3\n",
            "m[2][1]: 10\n",
            "m[2][2]: 2\n",
            "\n",
            "Matriz:\n",
            "   4   5   6\n",
            "   8   0   7\n",
            "   3  10   2\n",
            "\n",
            "Não é quadrado mágico\n"
          ]
        }
      ]
    },
    {
      "cell_type": "markdown",
      "metadata": {
        "id": "0hm7SZYQWdjr"
      },
      "source": [
        "##Questão 3"
      ]
    },
    {
      "cell_type": "markdown",
      "metadata": {
        "id": "CX8HnbXxU96Z"
      },
      "source": [
        "Escreva um programa que preencha uma matriz quadrada de ordem 3 com valores inteiros fornecidos pelo usuário (ou gerados aleatoriamente), calcular e exibir:    \n",
        "\n",
        "a)\tA soma dos elementos de cada linha;    \n",
        "\n",
        "b)\tA soma dos elementos de cada coluna;    \n",
        "\n",
        "c)\tA soma dos elementos da diagonal principal da matriz;    \n",
        "\n",
        "d)\tA soma dos elementos da diagonal secundária da matriz;    \n",
        "\n",
        "e)\tA soma de todos os elementos da matriz.\n"
      ]
    },
    {
      "cell_type": "code",
      "metadata": {
        "id": "bzroCtLGTx4G",
        "colab": {
          "base_uri": "https://localhost:8080/"
        },
        "outputId": "d36d6e55-d4e8-4827-dc99-5f732c66dfa6"
      },
      "source": [
        "n = 3  # Ordem da matriz quadrada\n",
        "\n",
        "# Criação da matriz\n",
        "m = [[None]*n for i in range(n)]\n",
        "\n",
        "# Leitura da matriz\n",
        "'''\n",
        "print('\\nDigite os elementos da matriz:')\n",
        "for i in range(n):\n",
        "    for j in range(n):\n",
        "        m[i][j] = int(input(f'M[{i}][{j}]: '))\n",
        "'''\n",
        "\n",
        "# Geração aleatória dos elementos da matriz \n",
        "import random\n",
        "for i in range(n):\n",
        "    for j in range(n):\n",
        "        m[i][j] = random.randint(1,10)\n",
        "\n",
        "# Exibição da matriz\n",
        "print('\\nMatriz:')\n",
        "for i in range(n):\n",
        "    for j in range(n):\n",
        "        print(f'{m[i][j]:4}',end='')\n",
        "    print()\n",
        "\n",
        "# Soma das linhas\n",
        "print('\\nSoma de cada linha:')\n",
        "for i in range(n):\n",
        "    s = 0\n",
        "    for j in range(n):\n",
        "        s += m[i][j]\n",
        "    print(f'{s:4}')\n",
        "\n",
        "# Soma das colunas\n",
        "print('\\nSoma de cada coluna:')\n",
        "for j in range(n):\n",
        "    s = 0\n",
        "    for i in range(n):\n",
        "        s += m[i][j]\n",
        "    print(f'{s:4}',end='')\n",
        "\n",
        "# Soma da diagonal principal\n",
        "print('\\n\\nSoma da diagonal principal:')\n",
        "s = 0\n",
        "for i in range(n):\n",
        "    for j in range(n):\n",
        "        if i == j:\n",
        "            s += m[i][j]\n",
        "print(f'{s:4}')\n",
        "\n",
        "# Outra forma para a soma da diagonal principal\n",
        "'''\n",
        "print('\\n\\nSoma da diagonal principal:')\n",
        "s = 0\n",
        "for i in range(n):\n",
        "    s += m[i][i]\n",
        "print(f'{s:4}')\n",
        "'''\n",
        "\n",
        "# Soma da diagonal secundária\n",
        "print('\\nSoma da diagonal secundária:')\n",
        "s = 0\n",
        "for i in range(n):\n",
        "    for j in range(n):\n",
        "        if i == n-j-1:  # outra condição possível:  i+j == n-1 \n",
        "            s += m[i][j]\n",
        "print(f'{s:4}')\n",
        "\n",
        "# Outra forma para a soma da diagonal secundária\n",
        "'''\n",
        "print('\\nSoma da diagonal secundária:')\n",
        "s = 0\n",
        "for i in range(n):\n",
        "    s += m[i][n-i-1]\n",
        "print(f'{s:4}')\n",
        "'''\n",
        "\n",
        "# Mais outra forma para a soma da diagonal secundária\n",
        "'''\n",
        "print('\\nSoma da diagonal secundária:')\n",
        "s = 0\n",
        "j = n-1\n",
        "for i in range(n):\n",
        "    s += m[i][j]\n",
        "    j -= 1\n",
        "print(f'{s:4}')\n",
        "'''\n",
        "\n",
        "# Soma de toda a matriz\n",
        "print('\\nSoma de toda a matriz:')\n",
        "s = 0\n",
        "for i in range(n):\n",
        "    for j in range(n):\n",
        "        s += m[i][j]\n",
        "print(f'{s:4}')"
      ],
      "execution_count": null,
      "outputs": [
        {
          "output_type": "stream",
          "text": [
            "\n",
            "Matriz:\n",
            "   9   5   7\n",
            "   2   1   1\n",
            "   5   3   2\n",
            "\n",
            "Soma de cada linha:\n",
            "  21\n",
            "   4\n",
            "  10\n",
            "\n",
            "Soma de cada coluna:\n",
            "  16   9  10\n",
            "\n",
            "Soma da diagonal principal:\n",
            "  12\n",
            "\n",
            "Soma da diagonal secundária:\n",
            "  13\n",
            "\n",
            "Soma de toda a matriz:\n",
            "  35\n"
          ],
          "name": "stdout"
        }
      ]
    },
    {
      "cell_type": "markdown",
      "metadata": {
        "id": "8xAI-9Bs_91H"
      },
      "source": [
        "##Questão 4"
      ]
    },
    {
      "cell_type": "markdown",
      "metadata": {
        "id": "M5_nf2JcJ-vR"
      },
      "source": [
        "Uma análise dos acidentes de trânsito está sendo realizada em Manhattan, New York.    \n",
        "\n",
        "Os cruzamentos das ruas 30 a 38 com as avenidas 1ª a 10ª foram estudadas.     \n",
        "\n",
        "Faça um programa para, a partir da informação acima, processar a matriz de acidentes resultante desse estudo. \n",
        "\n",
        "Para cada acidente, será informado o local do cruzamento (Avenida x Rua). O programa deverá ler um número desconhecido de acidentes (utilize qualquer condição de parada a sua escolha). \n",
        "\n",
        "Ao final da leitura dos dados, o programa deverá gerar e exibir a matriz de acidentes (obs: exiba na matriz os cabeçalhos de linha e de coluna mostrando a identificação das ruas e das avenidas)\n"
      ]
    },
    {
      "cell_type": "code",
      "metadata": {
        "id": "LTxw9bKTmp1x",
        "colab": {
          "base_uri": "https://localhost:8080/"
        },
        "outputId": "a59cbcde-5007-4a0f-a5a9-08a03f1a7cba"
      },
      "source": [
        "#inicialização das variáveis\n",
        "ri = 30\n",
        "rf = 38\n",
        "ai = 1\n",
        "af = 10\n",
        "nlin = af - ai + 1\n",
        "ncol = rf - ri + 1\n",
        "mat = [[0]*ncol for i in range(nlin)]\n",
        "flag = 0\n",
        "\n",
        "#leitura e contagem dos acidentes\n",
        "print('Informe o local de cada acidente')\n",
        "print('Para encerrar, digite 0 para a Av.')\n",
        "while True:\n",
        "    print()\n",
        "    av = int(input(f'Av. ({ai} a {af}): '))\n",
        "    if av == flag:\n",
        "        break\n",
        "    rua = int(input(f'Rua ({ri} a {rf}): '))\n",
        "    lin = av - ai\n",
        "    col = rua - ri \n",
        "    mat[lin][col] += 1\n",
        "\n",
        "#exibição do cabeçalho das colunas\n",
        "print('\\nMAPA DOS ACIDENTES')\n",
        "print('\\nRua/Av.',end='')\n",
        "for i in range(ncol):\n",
        "    print(f'{i+ri:4}',end='')\n",
        "print()\n",
        "\n",
        "#exibição da matriz de acidentes\n",
        "for i in range(nlin):\n",
        "    print(f'{i+ai:4}   ',end='')\n",
        "    for j in range(ncol):\n",
        "        if mat[i][j] == 0:\n",
        "            valor = '-'\n",
        "        else:\n",
        "            valor = mat[i][j]\n",
        "        print(f'{valor:>4}',end='')\n",
        "    print('')\n"
      ],
      "execution_count": null,
      "outputs": [
        {
          "output_type": "stream",
          "name": "stdout",
          "text": [
            "Informe o local de cada acidente\n",
            "Para encerrar, digite 0 para a Av.\n",
            "\n",
            "Av. (1 a 10): 5\n",
            "Rua (30 a 38): 32\n",
            "\n",
            "Av. (1 a 10): 7\n",
            "Rua (30 a 38): 31\n",
            "\n",
            "Av. (1 a 10): 5\n",
            "Rua (30 a 38): 32\n",
            "\n",
            "Av. (1 a 10): 0\n",
            "\n",
            "MAPA DOS ACIDENTES\n",
            "\n",
            "Rua/Av.  30  31  32  33  34  35  36  37  38\n",
            "   1      -   -   -   -   -   -   -   -   -\n",
            "   2      -   -   -   -   -   -   -   -   -\n",
            "   3      -   -   -   -   -   -   -   -   -\n",
            "   4      -   -   -   -   -   -   -   -   -\n",
            "   5      -   -   2   -   -   -   -   -   -\n",
            "   6      -   -   -   -   -   -   -   -   -\n",
            "   7      -   1   -   -   -   -   -   -   -\n",
            "   8      -   -   -   -   -   -   -   -   -\n",
            "   9      -   -   -   -   -   -   -   -   -\n",
            "  10      -   -   -   -   -   -   -   -   -\n"
          ]
        }
      ]
    },
    {
      "cell_type": "markdown",
      "metadata": {
        "id": "9kNrnHIor0tu"
      },
      "source": [
        "##Questão 5"
      ]
    },
    {
      "cell_type": "markdown",
      "metadata": {
        "id": "pP7yCo3NKe7_"
      },
      "source": [
        "A distância entre várias cidades é dada pela tabela abaixo (em km).     \n",
        "> ![imagem10_5.png](data:image/png;base64,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)\n",
        "\n",
        "Faça um programa que:\n",
        "*\tArmazene estas informações em uma matriz;\n",
        "*\tMostre a distância percorrida para um determinado percurso (informado pelo usuário).     \n",
        "\n",
        "Exemplo: Dado o percurso 1, 2, 3, 2, 5, 1, 4, a distância percorrida é 15+10+10+28+12+5 = 80km.\n"
      ]
    },
    {
      "cell_type": "code",
      "metadata": {
        "id": "u1ZQKAUlKqav",
        "colab": {
          "base_uri": "https://localhost:8080/"
        },
        "outputId": "18b08f79-55b9-473d-d0b7-d54d232b29fc"
      },
      "source": [
        "# Inicialização da matriz\n",
        "m = [[0,15,30,5,12],[15,0,10,17,28],[30,10,0,3,11],[5,17,3,0,80],[12,28,11,80,0]]\n",
        "\n",
        "# Definição da ordem da matriz\n",
        "n = 5\n",
        "\n",
        "# Leitura do percurso e soma das distâncias\n",
        "soma = 0\n",
        "print('\\nDigite as cidades do percurso (ou 0 para sair)')\n",
        "orig = int(input())\n",
        "while True:\n",
        "    dest = int(input())\n",
        "    if dest == 0:\n",
        "        break\n",
        "    soma += m[orig-1][dest-1]\n",
        "    orig = dest\n",
        "\n",
        "# Exibição do resultado\n",
        "print(f'\\nDistancia percorrida: {soma} km')\n"
      ],
      "execution_count": null,
      "outputs": [
        {
          "output_type": "stream",
          "name": "stdout",
          "text": [
            "\n",
            "Digite as cidades do percurso (ou 0 para sair)\n",
            "1\n",
            "2\n",
            "0\n",
            "\n",
            "Distancia percorrida: 15 km\n"
          ]
        }
      ]
    }
  ]
}